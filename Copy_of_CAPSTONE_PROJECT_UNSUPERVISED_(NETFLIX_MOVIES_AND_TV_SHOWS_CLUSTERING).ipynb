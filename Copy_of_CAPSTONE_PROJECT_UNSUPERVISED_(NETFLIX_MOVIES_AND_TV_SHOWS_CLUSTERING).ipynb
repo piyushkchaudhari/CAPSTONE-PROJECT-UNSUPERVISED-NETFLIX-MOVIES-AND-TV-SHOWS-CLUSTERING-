{
  "cells": [
    {
      "cell_type": "markdown",
      "metadata": {
        "id": "view-in-github",
        "colab_type": "text"
      },
      "source": [
        "<a href=\"https://colab.research.google.com/github/piyushkchaudhari/CAPSTONE-PROJECT-UNSUPERVISED-NETFLIX-MOVIES-AND-TV-SHOWS-CLUSTERING-/blob/main/CAPSTONE_PROJECT_UNSUPERVISED_(NETFLIX_MOVIES_AND_TV_SHOWS_CLUSTERING).ipynb\" target=\"_parent\"><img src=\"https://colab.research.google.com/assets/colab-badge.svg\" alt=\"Open In Colab\"/></a>"
      ]
    },
    {
      "cell_type": "markdown",
      "metadata": {
        "id": "cbhEp1gSPJ7t"
      },
      "source": [
        "## **NETFLIX MOVIES AND TV SHOWS CLUSTERING**"
      ]
    },
    {
      "cell_type": "markdown",
      "metadata": {
        "id": "wGSCSPNuPR1_"
      },
      "source": [
        "### Project Type - Unsupervised\n",
        "\n",
        "### Contribution - Individual"
      ]
    },
    {
      "cell_type": "markdown",
      "metadata": {
        "id": "55MHh3WVPjIm"
      },
      "source": [
        "\n",
        "## **Problem Statement**"
      ]
    },
    {
      "cell_type": "markdown",
      "metadata": {
        "id": "Knkygf0LPmlZ"
      },
      "source": [
        "### This dataset consists of tv shows and movies available on Netflix as of 2019. The dataset is collected from Flixable which is a third-party Netflix search engine.\n",
        "\n",
        "### In 2018, they released an interesting report which shows that the number of TV shows on Netflix has nearly tripled since 2010. The streaming service’s number of movies has decreased by more than 2,000 titles since 2010, while its number of TV shows has nearly tripled. It will be interesting to explore what all other insights can be obtained from the same dataset.\n",
        "\n",
        "### Integrating this dataset with other external datasets such as IMDB ratings, rotten tomatoes can also provide many interesting findings."
      ]
    },
    {
      "cell_type": "markdown",
      "metadata": {
        "id": "YPzBi5MxP_Df"
      },
      "source": [
        "## <b>In this  project, you are required to do </b>\n",
        "###1. Exploratory Data Analysis\n",
        "\n",
        "###2. Understanding what type content is available in different countries\n",
        "\n",
        "###3. Is Netflix has increasingly focusing on TV rather than movies in recent years.\n",
        "###4. Clustering similar content by matching text-based features\n"
      ]
    },
    {
      "cell_type": "markdown",
      "metadata": {
        "id": "ryPOCaJbPDax"
      },
      "source": [
        "## **GitHub Link -**[link text](https://github.com/piyushkchaudhari/CAPSTONE-PROJECT-UNSUPERVISED-NETFLIX-MOVIES-AND-TV-SHOWS-CLUSTERING-)"
      ]
    },
    {
      "cell_type": "markdown",
      "metadata": {
        "id": "1zEsZZruQtz2"
      },
      "source": [
        "## **Importing the libraries**"
      ]
    },
    {
      "cell_type": "code",
      "execution_count": null,
      "metadata": {
        "colab": {
          "base_uri": "https://localhost:8080/"
        },
        "id": "AXY3rnsAQvev",
        "outputId": "4d5fee0e-d84a-43bd-af18-500a7a42c6c4"
      },
      "outputs": [
        {
          "output_type": "stream",
          "name": "stderr",
          "text": [
            "[nltk_data] Downloading package stopwords to /root/nltk_data...\n",
            "[nltk_data]   Package stopwords is already up-to-date!\n",
            "[nltk_data] Downloading package punkt to /root/nltk_data...\n",
            "[nltk_data]   Package punkt is already up-to-date!\n"
          ]
        }
      ],
      "source": [
        "# IMPORTIGN LIBRARY\n",
        "import numpy as np\n",
        "import pandas as pd\n",
        "from numpy import math\n",
        "\n",
        "# visualization Library\n",
        "import seaborn as sns\n",
        "import matplotlib.pyplot as plt\n",
        "\n",
        "# null value visualization Library\n",
        "import missingno as msno\n",
        "\n",
        "from sklearn.model_selection import GridSearchCV\n",
        "\n",
        "# nlp module Library\n",
        "import nltk\n",
        "nltk.download('stopwords')\n",
        "from nltk.corpus import stopwords\n",
        "from nltk.tokenize import word_tokenize\n",
        "from nltk.stem import PorterStemmer\n",
        "nltk.download('punkt')\n",
        "from sklearn.feature_extraction.text import TfidfVectorizer\n",
        "import re\n",
        "\n",
        "# WordCloud Library\n",
        "from os import path\n",
        "from PIL import Image\n",
        "from wordcloud import WordCloud, STOPWORDS, ImageColorGenerator\n",
        "\n",
        "# Dimensionality reduction Library\n",
        "from sklearn.decomposition import PCA\n",
        "\n",
        "# Clustering Algorithms\n",
        "from sklearn.cluster import KMeans\n",
        "from sklearn.metrics import silhouette_score\n",
        "from sklearn.metrics.pairwise import cosine_similarity\n",
        "from scipy.cluster.hierarchy import dendrogram, linkage\n",
        "from sklearn.cluster import AgglomerativeClustering\n",
        "\n",
        "# Plotly visualization Library\n",
        "import pandas as pd\n",
        "import plotly.express as px\n",
        "import plotly.graph_objects as go\n",
        "from plotly.subplots import make_subplots\n",
        "import plotly.figure_factory as ff\n"
      ]
    },
    {
      "cell_type": "markdown",
      "metadata": {
        "id": "03L5kp5_RC7w"
      },
      "source": [
        "## Dataset Loading"
      ]
    },
    {
      "cell_type": "code",
      "execution_count": null,
      "metadata": {
        "id": "VXI7kmp4RCN6",
        "colab": {
          "base_uri": "https://localhost:8080/"
        },
        "outputId": "e859b538-4939-4c20-d7ec-c3908b14a6d3"
      },
      "outputs": [
        {
          "output_type": "stream",
          "name": "stdout",
          "text": [
            "Mounted at /content/drive\n"
          ]
        }
      ],
      "source": [
        "# mount drive\n",
        "from google.colab import drive\n",
        "drive.mount('/content/drive')"
      ]
    },
    {
      "cell_type": "code",
      "execution_count": null,
      "metadata": {
        "id": "EE-8rd4JRSCn"
      },
      "outputs": [],
      "source": [
        "# file path of dataset\n",
        "path='/content/drive/MyDrive/Almabetter/Machine Learning /NETFLIX MOVIES AND TV SHOWS CLUSTERING.csv'\n",
        "df=pd.read_csv(path)"
      ]
    },
    {
      "cell_type": "markdown",
      "metadata": {
        "id": "7v0UItHkRvKq"
      },
      "source": [
        "## Dataset First View"
      ]
    },
    {
      "cell_type": "code",
      "execution_count": null,
      "metadata": {
        "id": "HdSMJwE8RzEO",
        "colab": {
          "base_uri": "https://localhost:8080/",
          "height": 424
        },
        "outputId": "0ae4dbcf-0a8b-483d-e706-f84f38ce80ce"
      },
      "outputs": [
        {
          "output_type": "execute_result",
          "data": {
            "text/plain": [
              "  show_id     type  title           director  \\\n",
              "0      s1  TV Show     3%                NaN   \n",
              "1      s2    Movie   7:19  Jorge Michel Grau   \n",
              "2      s3    Movie  23:59       Gilbert Chan   \n",
              "3      s4    Movie      9        Shane Acker   \n",
              "4      s5    Movie     21     Robert Luketic   \n",
              "\n",
              "                                                cast        country  \\\n",
              "0  João Miguel, Bianca Comparato, Michel Gomes, R...         Brazil   \n",
              "1  Demián Bichir, Héctor Bonilla, Oscar Serrano, ...         Mexico   \n",
              "2  Tedd Chan, Stella Chung, Henley Hii, Lawrence ...      Singapore   \n",
              "3  Elijah Wood, John C. Reilly, Jennifer Connelly...  United States   \n",
              "4  Jim Sturgess, Kevin Spacey, Kate Bosworth, Aar...  United States   \n",
              "\n",
              "          date_added  release_year rating   duration  \\\n",
              "0    August 14, 2020          2020  TV-MA  4 Seasons   \n",
              "1  December 23, 2016          2016  TV-MA     93 min   \n",
              "2  December 20, 2018          2011      R     78 min   \n",
              "3  November 16, 2017          2009  PG-13     80 min   \n",
              "4    January 1, 2020          2008  PG-13    123 min   \n",
              "\n",
              "                                           listed_in  \\\n",
              "0  International TV Shows, TV Dramas, TV Sci-Fi &...   \n",
              "1                       Dramas, International Movies   \n",
              "2                Horror Movies, International Movies   \n",
              "3  Action & Adventure, Independent Movies, Sci-Fi...   \n",
              "4                                             Dramas   \n",
              "\n",
              "                                         description  \n",
              "0  In a future where the elite inhabit an island ...  \n",
              "1  After a devastating earthquake hits Mexico Cit...  \n",
              "2  When an army recruit is found dead, his fellow...  \n",
              "3  In a postapocalyptic world, rag-doll robots hi...  \n",
              "4  A brilliant group of students become card-coun...  "
            ],
            "text/html": [
              "\n",
              "  <div id=\"df-7ce1bdf8-5caf-47de-96ed-271886c73dfc\">\n",
              "    <div class=\"colab-df-container\">\n",
              "      <div>\n",
              "<style scoped>\n",
              "    .dataframe tbody tr th:only-of-type {\n",
              "        vertical-align: middle;\n",
              "    }\n",
              "\n",
              "    .dataframe tbody tr th {\n",
              "        vertical-align: top;\n",
              "    }\n",
              "\n",
              "    .dataframe thead th {\n",
              "        text-align: right;\n",
              "    }\n",
              "</style>\n",
              "<table border=\"1\" class=\"dataframe\">\n",
              "  <thead>\n",
              "    <tr style=\"text-align: right;\">\n",
              "      <th></th>\n",
              "      <th>show_id</th>\n",
              "      <th>type</th>\n",
              "      <th>title</th>\n",
              "      <th>director</th>\n",
              "      <th>cast</th>\n",
              "      <th>country</th>\n",
              "      <th>date_added</th>\n",
              "      <th>release_year</th>\n",
              "      <th>rating</th>\n",
              "      <th>duration</th>\n",
              "      <th>listed_in</th>\n",
              "      <th>description</th>\n",
              "    </tr>\n",
              "  </thead>\n",
              "  <tbody>\n",
              "    <tr>\n",
              "      <th>0</th>\n",
              "      <td>s1</td>\n",
              "      <td>TV Show</td>\n",
              "      <td>3%</td>\n",
              "      <td>NaN</td>\n",
              "      <td>João Miguel, Bianca Comparato, Michel Gomes, R...</td>\n",
              "      <td>Brazil</td>\n",
              "      <td>August 14, 2020</td>\n",
              "      <td>2020</td>\n",
              "      <td>TV-MA</td>\n",
              "      <td>4 Seasons</td>\n",
              "      <td>International TV Shows, TV Dramas, TV Sci-Fi &amp;...</td>\n",
              "      <td>In a future where the elite inhabit an island ...</td>\n",
              "    </tr>\n",
              "    <tr>\n",
              "      <th>1</th>\n",
              "      <td>s2</td>\n",
              "      <td>Movie</td>\n",
              "      <td>7:19</td>\n",
              "      <td>Jorge Michel Grau</td>\n",
              "      <td>Demián Bichir, Héctor Bonilla, Oscar Serrano, ...</td>\n",
              "      <td>Mexico</td>\n",
              "      <td>December 23, 2016</td>\n",
              "      <td>2016</td>\n",
              "      <td>TV-MA</td>\n",
              "      <td>93 min</td>\n",
              "      <td>Dramas, International Movies</td>\n",
              "      <td>After a devastating earthquake hits Mexico Cit...</td>\n",
              "    </tr>\n",
              "    <tr>\n",
              "      <th>2</th>\n",
              "      <td>s3</td>\n",
              "      <td>Movie</td>\n",
              "      <td>23:59</td>\n",
              "      <td>Gilbert Chan</td>\n",
              "      <td>Tedd Chan, Stella Chung, Henley Hii, Lawrence ...</td>\n",
              "      <td>Singapore</td>\n",
              "      <td>December 20, 2018</td>\n",
              "      <td>2011</td>\n",
              "      <td>R</td>\n",
              "      <td>78 min</td>\n",
              "      <td>Horror Movies, International Movies</td>\n",
              "      <td>When an army recruit is found dead, his fellow...</td>\n",
              "    </tr>\n",
              "    <tr>\n",
              "      <th>3</th>\n",
              "      <td>s4</td>\n",
              "      <td>Movie</td>\n",
              "      <td>9</td>\n",
              "      <td>Shane Acker</td>\n",
              "      <td>Elijah Wood, John C. Reilly, Jennifer Connelly...</td>\n",
              "      <td>United States</td>\n",
              "      <td>November 16, 2017</td>\n",
              "      <td>2009</td>\n",
              "      <td>PG-13</td>\n",
              "      <td>80 min</td>\n",
              "      <td>Action &amp; Adventure, Independent Movies, Sci-Fi...</td>\n",
              "      <td>In a postapocalyptic world, rag-doll robots hi...</td>\n",
              "    </tr>\n",
              "    <tr>\n",
              "      <th>4</th>\n",
              "      <td>s5</td>\n",
              "      <td>Movie</td>\n",
              "      <td>21</td>\n",
              "      <td>Robert Luketic</td>\n",
              "      <td>Jim Sturgess, Kevin Spacey, Kate Bosworth, Aar...</td>\n",
              "      <td>United States</td>\n",
              "      <td>January 1, 2020</td>\n",
              "      <td>2008</td>\n",
              "      <td>PG-13</td>\n",
              "      <td>123 min</td>\n",
              "      <td>Dramas</td>\n",
              "      <td>A brilliant group of students become card-coun...</td>\n",
              "    </tr>\n",
              "  </tbody>\n",
              "</table>\n",
              "</div>\n",
              "      <button class=\"colab-df-convert\" onclick=\"convertToInteractive('df-7ce1bdf8-5caf-47de-96ed-271886c73dfc')\"\n",
              "              title=\"Convert this dataframe to an interactive table.\"\n",
              "              style=\"display:none;\">\n",
              "        \n",
              "  <svg xmlns=\"http://www.w3.org/2000/svg\" height=\"24px\"viewBox=\"0 0 24 24\"\n",
              "       width=\"24px\">\n",
              "    <path d=\"M0 0h24v24H0V0z\" fill=\"none\"/>\n",
              "    <path d=\"M18.56 5.44l.94 2.06.94-2.06 2.06-.94-2.06-.94-.94-2.06-.94 2.06-2.06.94zm-11 1L8.5 8.5l.94-2.06 2.06-.94-2.06-.94L8.5 2.5l-.94 2.06-2.06.94zm10 10l.94 2.06.94-2.06 2.06-.94-2.06-.94-.94-2.06-.94 2.06-2.06.94z\"/><path d=\"M17.41 7.96l-1.37-1.37c-.4-.4-.92-.59-1.43-.59-.52 0-1.04.2-1.43.59L10.3 9.45l-7.72 7.72c-.78.78-.78 2.05 0 2.83L4 21.41c.39.39.9.59 1.41.59.51 0 1.02-.2 1.41-.59l7.78-7.78 2.81-2.81c.8-.78.8-2.07 0-2.86zM5.41 20L4 18.59l7.72-7.72 1.47 1.35L5.41 20z\"/>\n",
              "  </svg>\n",
              "      </button>\n",
              "      \n",
              "  <style>\n",
              "    .colab-df-container {\n",
              "      display:flex;\n",
              "      flex-wrap:wrap;\n",
              "      gap: 12px;\n",
              "    }\n",
              "\n",
              "    .colab-df-convert {\n",
              "      background-color: #E8F0FE;\n",
              "      border: none;\n",
              "      border-radius: 50%;\n",
              "      cursor: pointer;\n",
              "      display: none;\n",
              "      fill: #1967D2;\n",
              "      height: 32px;\n",
              "      padding: 0 0 0 0;\n",
              "      width: 32px;\n",
              "    }\n",
              "\n",
              "    .colab-df-convert:hover {\n",
              "      background-color: #E2EBFA;\n",
              "      box-shadow: 0px 1px 2px rgba(60, 64, 67, 0.3), 0px 1px 3px 1px rgba(60, 64, 67, 0.15);\n",
              "      fill: #174EA6;\n",
              "    }\n",
              "\n",
              "    [theme=dark] .colab-df-convert {\n",
              "      background-color: #3B4455;\n",
              "      fill: #D2E3FC;\n",
              "    }\n",
              "\n",
              "    [theme=dark] .colab-df-convert:hover {\n",
              "      background-color: #434B5C;\n",
              "      box-shadow: 0px 1px 3px 1px rgba(0, 0, 0, 0.15);\n",
              "      filter: drop-shadow(0px 1px 2px rgba(0, 0, 0, 0.3));\n",
              "      fill: #FFFFFF;\n",
              "    }\n",
              "  </style>\n",
              "\n",
              "      <script>\n",
              "        const buttonEl =\n",
              "          document.querySelector('#df-7ce1bdf8-5caf-47de-96ed-271886c73dfc button.colab-df-convert');\n",
              "        buttonEl.style.display =\n",
              "          google.colab.kernel.accessAllowed ? 'block' : 'none';\n",
              "\n",
              "        async function convertToInteractive(key) {\n",
              "          const element = document.querySelector('#df-7ce1bdf8-5caf-47de-96ed-271886c73dfc');\n",
              "          const dataTable =\n",
              "            await google.colab.kernel.invokeFunction('convertToInteractive',\n",
              "                                                     [key], {});\n",
              "          if (!dataTable) return;\n",
              "\n",
              "          const docLinkHtml = 'Like what you see? Visit the ' +\n",
              "            '<a target=\"_blank\" href=https://colab.research.google.com/notebooks/data_table.ipynb>data table notebook</a>'\n",
              "            + ' to learn more about interactive tables.';\n",
              "          element.innerHTML = '';\n",
              "          dataTable['output_type'] = 'display_data';\n",
              "          await google.colab.output.renderOutput(dataTable, element);\n",
              "          const docLink = document.createElement('div');\n",
              "          docLink.innerHTML = docLinkHtml;\n",
              "          element.appendChild(docLink);\n",
              "        }\n",
              "      </script>\n",
              "    </div>\n",
              "  </div>\n",
              "  "
            ]
          },
          "metadata": {},
          "execution_count": 4
        }
      ],
      "source": [
        "# top 5 rows\n",
        "df.head()"
      ]
    },
    {
      "cell_type": "code",
      "execution_count": null,
      "metadata": {
        "id": "MDCeTmNxSeiF",
        "colab": {
          "base_uri": "https://localhost:8080/",
          "height": 476
        },
        "outputId": "43a781a3-727e-4ae5-aad4-b8b6435d1e0d"
      },
      "outputs": [
        {
          "output_type": "execute_result",
          "data": {
            "text/plain": [
              "     show_id     type                                    title     director  \\\n",
              "7782   s7783    Movie                                     Zozo  Josef Fares   \n",
              "7783   s7784    Movie                                   Zubaan  Mozez Singh   \n",
              "7784   s7785    Movie                        Zulu Man in Japan          NaN   \n",
              "7785   s7786  TV Show                    Zumbo's Just Desserts          NaN   \n",
              "7786   s7787    Movie  ZZ TOP: THAT LITTLE OL' BAND FROM TEXAS     Sam Dunn   \n",
              "\n",
              "                                                   cast  \\\n",
              "7782  Imad Creidi, Antoinette Turk, Elias Gergi, Car...   \n",
              "7783  Vicky Kaushal, Sarah-Jane Dias, Raaghav Chanan...   \n",
              "7784                                            Nasty C   \n",
              "7785                         Adriano Zumbo, Rachel Khoo   \n",
              "7786                                                NaN   \n",
              "\n",
              "                                                country          date_added  \\\n",
              "7782  Sweden, Czech Republic, United Kingdom, Denmar...    October 19, 2020   \n",
              "7783                                              India       March 2, 2019   \n",
              "7784                                                NaN  September 25, 2020   \n",
              "7785                                          Australia    October 31, 2020   \n",
              "7786              United Kingdom, Canada, United States       March 1, 2020   \n",
              "\n",
              "      release_year rating  duration  \\\n",
              "7782          2005  TV-MA    99 min   \n",
              "7783          2015  TV-14   111 min   \n",
              "7784          2019  TV-MA    44 min   \n",
              "7785          2019  TV-PG  1 Season   \n",
              "7786          2019  TV-MA    90 min   \n",
              "\n",
              "                                              listed_in  \\\n",
              "7782                       Dramas, International Movies   \n",
              "7783     Dramas, International Movies, Music & Musicals   \n",
              "7784  Documentaries, International Movies, Music & M...   \n",
              "7785                 International TV Shows, Reality TV   \n",
              "7786                    Documentaries, Music & Musicals   \n",
              "\n",
              "                                            description  \n",
              "7782  When Lebanon's Civil War deprives Zozo of his ...  \n",
              "7783  A scrappy but poor boy worms his way into a ty...  \n",
              "7784  In this documentary, South African rapper Nast...  \n",
              "7785  Dessert wizard Adriano Zumbo looks for the nex...  \n",
              "7786  This documentary delves into the mystique behi...  "
            ],
            "text/html": [
              "\n",
              "  <div id=\"df-a42fbd27-5358-4cea-86a4-aaef4aa0ee97\">\n",
              "    <div class=\"colab-df-container\">\n",
              "      <div>\n",
              "<style scoped>\n",
              "    .dataframe tbody tr th:only-of-type {\n",
              "        vertical-align: middle;\n",
              "    }\n",
              "\n",
              "    .dataframe tbody tr th {\n",
              "        vertical-align: top;\n",
              "    }\n",
              "\n",
              "    .dataframe thead th {\n",
              "        text-align: right;\n",
              "    }\n",
              "</style>\n",
              "<table border=\"1\" class=\"dataframe\">\n",
              "  <thead>\n",
              "    <tr style=\"text-align: right;\">\n",
              "      <th></th>\n",
              "      <th>show_id</th>\n",
              "      <th>type</th>\n",
              "      <th>title</th>\n",
              "      <th>director</th>\n",
              "      <th>cast</th>\n",
              "      <th>country</th>\n",
              "      <th>date_added</th>\n",
              "      <th>release_year</th>\n",
              "      <th>rating</th>\n",
              "      <th>duration</th>\n",
              "      <th>listed_in</th>\n",
              "      <th>description</th>\n",
              "    </tr>\n",
              "  </thead>\n",
              "  <tbody>\n",
              "    <tr>\n",
              "      <th>7782</th>\n",
              "      <td>s7783</td>\n",
              "      <td>Movie</td>\n",
              "      <td>Zozo</td>\n",
              "      <td>Josef Fares</td>\n",
              "      <td>Imad Creidi, Antoinette Turk, Elias Gergi, Car...</td>\n",
              "      <td>Sweden, Czech Republic, United Kingdom, Denmar...</td>\n",
              "      <td>October 19, 2020</td>\n",
              "      <td>2005</td>\n",
              "      <td>TV-MA</td>\n",
              "      <td>99 min</td>\n",
              "      <td>Dramas, International Movies</td>\n",
              "      <td>When Lebanon's Civil War deprives Zozo of his ...</td>\n",
              "    </tr>\n",
              "    <tr>\n",
              "      <th>7783</th>\n",
              "      <td>s7784</td>\n",
              "      <td>Movie</td>\n",
              "      <td>Zubaan</td>\n",
              "      <td>Mozez Singh</td>\n",
              "      <td>Vicky Kaushal, Sarah-Jane Dias, Raaghav Chanan...</td>\n",
              "      <td>India</td>\n",
              "      <td>March 2, 2019</td>\n",
              "      <td>2015</td>\n",
              "      <td>TV-14</td>\n",
              "      <td>111 min</td>\n",
              "      <td>Dramas, International Movies, Music &amp; Musicals</td>\n",
              "      <td>A scrappy but poor boy worms his way into a ty...</td>\n",
              "    </tr>\n",
              "    <tr>\n",
              "      <th>7784</th>\n",
              "      <td>s7785</td>\n",
              "      <td>Movie</td>\n",
              "      <td>Zulu Man in Japan</td>\n",
              "      <td>NaN</td>\n",
              "      <td>Nasty C</td>\n",
              "      <td>NaN</td>\n",
              "      <td>September 25, 2020</td>\n",
              "      <td>2019</td>\n",
              "      <td>TV-MA</td>\n",
              "      <td>44 min</td>\n",
              "      <td>Documentaries, International Movies, Music &amp; M...</td>\n",
              "      <td>In this documentary, South African rapper Nast...</td>\n",
              "    </tr>\n",
              "    <tr>\n",
              "      <th>7785</th>\n",
              "      <td>s7786</td>\n",
              "      <td>TV Show</td>\n",
              "      <td>Zumbo's Just Desserts</td>\n",
              "      <td>NaN</td>\n",
              "      <td>Adriano Zumbo, Rachel Khoo</td>\n",
              "      <td>Australia</td>\n",
              "      <td>October 31, 2020</td>\n",
              "      <td>2019</td>\n",
              "      <td>TV-PG</td>\n",
              "      <td>1 Season</td>\n",
              "      <td>International TV Shows, Reality TV</td>\n",
              "      <td>Dessert wizard Adriano Zumbo looks for the nex...</td>\n",
              "    </tr>\n",
              "    <tr>\n",
              "      <th>7786</th>\n",
              "      <td>s7787</td>\n",
              "      <td>Movie</td>\n",
              "      <td>ZZ TOP: THAT LITTLE OL' BAND FROM TEXAS</td>\n",
              "      <td>Sam Dunn</td>\n",
              "      <td>NaN</td>\n",
              "      <td>United Kingdom, Canada, United States</td>\n",
              "      <td>March 1, 2020</td>\n",
              "      <td>2019</td>\n",
              "      <td>TV-MA</td>\n",
              "      <td>90 min</td>\n",
              "      <td>Documentaries, Music &amp; Musicals</td>\n",
              "      <td>This documentary delves into the mystique behi...</td>\n",
              "    </tr>\n",
              "  </tbody>\n",
              "</table>\n",
              "</div>\n",
              "      <button class=\"colab-df-convert\" onclick=\"convertToInteractive('df-a42fbd27-5358-4cea-86a4-aaef4aa0ee97')\"\n",
              "              title=\"Convert this dataframe to an interactive table.\"\n",
              "              style=\"display:none;\">\n",
              "        \n",
              "  <svg xmlns=\"http://www.w3.org/2000/svg\" height=\"24px\"viewBox=\"0 0 24 24\"\n",
              "       width=\"24px\">\n",
              "    <path d=\"M0 0h24v24H0V0z\" fill=\"none\"/>\n",
              "    <path d=\"M18.56 5.44l.94 2.06.94-2.06 2.06-.94-2.06-.94-.94-2.06-.94 2.06-2.06.94zm-11 1L8.5 8.5l.94-2.06 2.06-.94-2.06-.94L8.5 2.5l-.94 2.06-2.06.94zm10 10l.94 2.06.94-2.06 2.06-.94-2.06-.94-.94-2.06-.94 2.06-2.06.94z\"/><path d=\"M17.41 7.96l-1.37-1.37c-.4-.4-.92-.59-1.43-.59-.52 0-1.04.2-1.43.59L10.3 9.45l-7.72 7.72c-.78.78-.78 2.05 0 2.83L4 21.41c.39.39.9.59 1.41.59.51 0 1.02-.2 1.41-.59l7.78-7.78 2.81-2.81c.8-.78.8-2.07 0-2.86zM5.41 20L4 18.59l7.72-7.72 1.47 1.35L5.41 20z\"/>\n",
              "  </svg>\n",
              "      </button>\n",
              "      \n",
              "  <style>\n",
              "    .colab-df-container {\n",
              "      display:flex;\n",
              "      flex-wrap:wrap;\n",
              "      gap: 12px;\n",
              "    }\n",
              "\n",
              "    .colab-df-convert {\n",
              "      background-color: #E8F0FE;\n",
              "      border: none;\n",
              "      border-radius: 50%;\n",
              "      cursor: pointer;\n",
              "      display: none;\n",
              "      fill: #1967D2;\n",
              "      height: 32px;\n",
              "      padding: 0 0 0 0;\n",
              "      width: 32px;\n",
              "    }\n",
              "\n",
              "    .colab-df-convert:hover {\n",
              "      background-color: #E2EBFA;\n",
              "      box-shadow: 0px 1px 2px rgba(60, 64, 67, 0.3), 0px 1px 3px 1px rgba(60, 64, 67, 0.15);\n",
              "      fill: #174EA6;\n",
              "    }\n",
              "\n",
              "    [theme=dark] .colab-df-convert {\n",
              "      background-color: #3B4455;\n",
              "      fill: #D2E3FC;\n",
              "    }\n",
              "\n",
              "    [theme=dark] .colab-df-convert:hover {\n",
              "      background-color: #434B5C;\n",
              "      box-shadow: 0px 1px 3px 1px rgba(0, 0, 0, 0.15);\n",
              "      filter: drop-shadow(0px 1px 2px rgba(0, 0, 0, 0.3));\n",
              "      fill: #FFFFFF;\n",
              "    }\n",
              "  </style>\n",
              "\n",
              "      <script>\n",
              "        const buttonEl =\n",
              "          document.querySelector('#df-a42fbd27-5358-4cea-86a4-aaef4aa0ee97 button.colab-df-convert');\n",
              "        buttonEl.style.display =\n",
              "          google.colab.kernel.accessAllowed ? 'block' : 'none';\n",
              "\n",
              "        async function convertToInteractive(key) {\n",
              "          const element = document.querySelector('#df-a42fbd27-5358-4cea-86a4-aaef4aa0ee97');\n",
              "          const dataTable =\n",
              "            await google.colab.kernel.invokeFunction('convertToInteractive',\n",
              "                                                     [key], {});\n",
              "          if (!dataTable) return;\n",
              "\n",
              "          const docLinkHtml = 'Like what you see? Visit the ' +\n",
              "            '<a target=\"_blank\" href=https://colab.research.google.com/notebooks/data_table.ipynb>data table notebook</a>'\n",
              "            + ' to learn more about interactive tables.';\n",
              "          element.innerHTML = '';\n",
              "          dataTable['output_type'] = 'display_data';\n",
              "          await google.colab.output.renderOutput(dataTable, element);\n",
              "          const docLink = document.createElement('div');\n",
              "          docLink.innerHTML = docLinkHtml;\n",
              "          element.appendChild(docLink);\n",
              "        }\n",
              "      </script>\n",
              "    </div>\n",
              "  </div>\n",
              "  "
            ]
          },
          "metadata": {},
          "execution_count": 5
        }
      ],
      "source": [
        "# last 5 rows\n",
        "df.tail()"
      ]
    },
    {
      "cell_type": "markdown",
      "metadata": {
        "id": "jCBBjy8yUI6g"
      },
      "source": [
        "## Dataset Rows & Columns count"
      ]
    },
    {
      "cell_type": "code",
      "execution_count": null,
      "metadata": {
        "id": "oMZI3sVgSl3f",
        "colab": {
          "base_uri": "https://localhost:8080/"
        },
        "outputId": "daa0c2bd-1a24-4177-ed10-6461292ef256"
      },
      "outputs": [
        {
          "output_type": "stream",
          "name": "stdout",
          "text": [
            " Number of rows in the dataset : 7787 \n",
            " Number of columns in the dataset : 12\n"
          ]
        }
      ],
      "source": [
        "# Dataset Rows & Columns count\n",
        "print(f\" Number of rows in the dataset : {df.shape[0]} \\n Number of columns in the dataset : {df.shape[1]}\")"
      ]
    },
    {
      "cell_type": "markdown",
      "metadata": {
        "id": "o0S9cwjlVbqd"
      },
      "source": [
        "## Dataset Information"
      ]
    },
    {
      "cell_type": "code",
      "execution_count": null,
      "metadata": {
        "id": "cEg7-oYnVee9",
        "colab": {
          "base_uri": "https://localhost:8080/"
        },
        "outputId": "bbd37567-5c92-4e7a-be13-3d0cbc161aaf"
      },
      "outputs": [
        {
          "output_type": "stream",
          "name": "stdout",
          "text": [
            "<class 'pandas.core.frame.DataFrame'>\n",
            "RangeIndex: 7787 entries, 0 to 7786\n",
            "Data columns (total 12 columns):\n",
            " #   Column        Non-Null Count  Dtype \n",
            "---  ------        --------------  ----- \n",
            " 0   show_id       7787 non-null   object\n",
            " 1   type          7787 non-null   object\n",
            " 2   title         7787 non-null   object\n",
            " 3   director      5398 non-null   object\n",
            " 4   cast          7069 non-null   object\n",
            " 5   country       7280 non-null   object\n",
            " 6   date_added    7777 non-null   object\n",
            " 7   release_year  7787 non-null   int64 \n",
            " 8   rating        7780 non-null   object\n",
            " 9   duration      7787 non-null   object\n",
            " 10  listed_in     7787 non-null   object\n",
            " 11  description   7787 non-null   object\n",
            "dtypes: int64(1), object(11)\n",
            "memory usage: 730.2+ KB\n"
          ]
        }
      ],
      "source": [
        "# Checking info of data\n",
        "df.info()"
      ]
    },
    {
      "cell_type": "code",
      "execution_count": null,
      "metadata": {
        "id": "Iyxf3rv2WEXt",
        "colab": {
          "base_uri": "https://localhost:8080/",
          "height": 456
        },
        "outputId": "e6760652-0c1a-4b45-ae2f-6d89c69d6f98"
      },
      "outputs": [
        {
          "output_type": "execute_result",
          "data": {
            "text/plain": [
              "       show_id   type title                director                cast  \\\n",
              "count     7787   7787  7787                    5398                7069   \n",
              "unique    7787      2  7787                    4049                6831   \n",
              "top         s1  Movie    3%  Raúl Campos, Jan Suter  David Attenborough   \n",
              "freq         1   5377     1                      18                  18   \n",
              "mean       NaN    NaN   NaN                     NaN                 NaN   \n",
              "std        NaN    NaN   NaN                     NaN                 NaN   \n",
              "min        NaN    NaN   NaN                     NaN                 NaN   \n",
              "25%        NaN    NaN   NaN                     NaN                 NaN   \n",
              "50%        NaN    NaN   NaN                     NaN                 NaN   \n",
              "75%        NaN    NaN   NaN                     NaN                 NaN   \n",
              "max        NaN    NaN   NaN                     NaN                 NaN   \n",
              "\n",
              "              country       date_added  release_year rating  duration  \\\n",
              "count            7280             7777   7787.000000   7780      7787   \n",
              "unique            681             1565           NaN     14       216   \n",
              "top     United States  January 1, 2020           NaN  TV-MA  1 Season   \n",
              "freq             2555              118           NaN   2863      1608   \n",
              "mean              NaN              NaN   2013.932580    NaN       NaN   \n",
              "std               NaN              NaN      8.757395    NaN       NaN   \n",
              "min               NaN              NaN   1925.000000    NaN       NaN   \n",
              "25%               NaN              NaN   2013.000000    NaN       NaN   \n",
              "50%               NaN              NaN   2017.000000    NaN       NaN   \n",
              "75%               NaN              NaN   2018.000000    NaN       NaN   \n",
              "max               NaN              NaN   2021.000000    NaN       NaN   \n",
              "\n",
              "            listed_in                                        description  \n",
              "count            7787                                               7787  \n",
              "unique            492                                               7769  \n",
              "top     Documentaries  Multiple women report their husbands as missin...  \n",
              "freq              334                                                  3  \n",
              "mean              NaN                                                NaN  \n",
              "std               NaN                                                NaN  \n",
              "min               NaN                                                NaN  \n",
              "25%               NaN                                                NaN  \n",
              "50%               NaN                                                NaN  \n",
              "75%               NaN                                                NaN  \n",
              "max               NaN                                                NaN  "
            ],
            "text/html": [
              "\n",
              "  <div id=\"df-3ed85a3a-b02e-4965-841f-a3b31e82ecbf\">\n",
              "    <div class=\"colab-df-container\">\n",
              "      <div>\n",
              "<style scoped>\n",
              "    .dataframe tbody tr th:only-of-type {\n",
              "        vertical-align: middle;\n",
              "    }\n",
              "\n",
              "    .dataframe tbody tr th {\n",
              "        vertical-align: top;\n",
              "    }\n",
              "\n",
              "    .dataframe thead th {\n",
              "        text-align: right;\n",
              "    }\n",
              "</style>\n",
              "<table border=\"1\" class=\"dataframe\">\n",
              "  <thead>\n",
              "    <tr style=\"text-align: right;\">\n",
              "      <th></th>\n",
              "      <th>show_id</th>\n",
              "      <th>type</th>\n",
              "      <th>title</th>\n",
              "      <th>director</th>\n",
              "      <th>cast</th>\n",
              "      <th>country</th>\n",
              "      <th>date_added</th>\n",
              "      <th>release_year</th>\n",
              "      <th>rating</th>\n",
              "      <th>duration</th>\n",
              "      <th>listed_in</th>\n",
              "      <th>description</th>\n",
              "    </tr>\n",
              "  </thead>\n",
              "  <tbody>\n",
              "    <tr>\n",
              "      <th>count</th>\n",
              "      <td>7787</td>\n",
              "      <td>7787</td>\n",
              "      <td>7787</td>\n",
              "      <td>5398</td>\n",
              "      <td>7069</td>\n",
              "      <td>7280</td>\n",
              "      <td>7777</td>\n",
              "      <td>7787.000000</td>\n",
              "      <td>7780</td>\n",
              "      <td>7787</td>\n",
              "      <td>7787</td>\n",
              "      <td>7787</td>\n",
              "    </tr>\n",
              "    <tr>\n",
              "      <th>unique</th>\n",
              "      <td>7787</td>\n",
              "      <td>2</td>\n",
              "      <td>7787</td>\n",
              "      <td>4049</td>\n",
              "      <td>6831</td>\n",
              "      <td>681</td>\n",
              "      <td>1565</td>\n",
              "      <td>NaN</td>\n",
              "      <td>14</td>\n",
              "      <td>216</td>\n",
              "      <td>492</td>\n",
              "      <td>7769</td>\n",
              "    </tr>\n",
              "    <tr>\n",
              "      <th>top</th>\n",
              "      <td>s1</td>\n",
              "      <td>Movie</td>\n",
              "      <td>3%</td>\n",
              "      <td>Raúl Campos, Jan Suter</td>\n",
              "      <td>David Attenborough</td>\n",
              "      <td>United States</td>\n",
              "      <td>January 1, 2020</td>\n",
              "      <td>NaN</td>\n",
              "      <td>TV-MA</td>\n",
              "      <td>1 Season</td>\n",
              "      <td>Documentaries</td>\n",
              "      <td>Multiple women report their husbands as missin...</td>\n",
              "    </tr>\n",
              "    <tr>\n",
              "      <th>freq</th>\n",
              "      <td>1</td>\n",
              "      <td>5377</td>\n",
              "      <td>1</td>\n",
              "      <td>18</td>\n",
              "      <td>18</td>\n",
              "      <td>2555</td>\n",
              "      <td>118</td>\n",
              "      <td>NaN</td>\n",
              "      <td>2863</td>\n",
              "      <td>1608</td>\n",
              "      <td>334</td>\n",
              "      <td>3</td>\n",
              "    </tr>\n",
              "    <tr>\n",
              "      <th>mean</th>\n",
              "      <td>NaN</td>\n",
              "      <td>NaN</td>\n",
              "      <td>NaN</td>\n",
              "      <td>NaN</td>\n",
              "      <td>NaN</td>\n",
              "      <td>NaN</td>\n",
              "      <td>NaN</td>\n",
              "      <td>2013.932580</td>\n",
              "      <td>NaN</td>\n",
              "      <td>NaN</td>\n",
              "      <td>NaN</td>\n",
              "      <td>NaN</td>\n",
              "    </tr>\n",
              "    <tr>\n",
              "      <th>std</th>\n",
              "      <td>NaN</td>\n",
              "      <td>NaN</td>\n",
              "      <td>NaN</td>\n",
              "      <td>NaN</td>\n",
              "      <td>NaN</td>\n",
              "      <td>NaN</td>\n",
              "      <td>NaN</td>\n",
              "      <td>8.757395</td>\n",
              "      <td>NaN</td>\n",
              "      <td>NaN</td>\n",
              "      <td>NaN</td>\n",
              "      <td>NaN</td>\n",
              "    </tr>\n",
              "    <tr>\n",
              "      <th>min</th>\n",
              "      <td>NaN</td>\n",
              "      <td>NaN</td>\n",
              "      <td>NaN</td>\n",
              "      <td>NaN</td>\n",
              "      <td>NaN</td>\n",
              "      <td>NaN</td>\n",
              "      <td>NaN</td>\n",
              "      <td>1925.000000</td>\n",
              "      <td>NaN</td>\n",
              "      <td>NaN</td>\n",
              "      <td>NaN</td>\n",
              "      <td>NaN</td>\n",
              "    </tr>\n",
              "    <tr>\n",
              "      <th>25%</th>\n",
              "      <td>NaN</td>\n",
              "      <td>NaN</td>\n",
              "      <td>NaN</td>\n",
              "      <td>NaN</td>\n",
              "      <td>NaN</td>\n",
              "      <td>NaN</td>\n",
              "      <td>NaN</td>\n",
              "      <td>2013.000000</td>\n",
              "      <td>NaN</td>\n",
              "      <td>NaN</td>\n",
              "      <td>NaN</td>\n",
              "      <td>NaN</td>\n",
              "    </tr>\n",
              "    <tr>\n",
              "      <th>50%</th>\n",
              "      <td>NaN</td>\n",
              "      <td>NaN</td>\n",
              "      <td>NaN</td>\n",
              "      <td>NaN</td>\n",
              "      <td>NaN</td>\n",
              "      <td>NaN</td>\n",
              "      <td>NaN</td>\n",
              "      <td>2017.000000</td>\n",
              "      <td>NaN</td>\n",
              "      <td>NaN</td>\n",
              "      <td>NaN</td>\n",
              "      <td>NaN</td>\n",
              "    </tr>\n",
              "    <tr>\n",
              "      <th>75%</th>\n",
              "      <td>NaN</td>\n",
              "      <td>NaN</td>\n",
              "      <td>NaN</td>\n",
              "      <td>NaN</td>\n",
              "      <td>NaN</td>\n",
              "      <td>NaN</td>\n",
              "      <td>NaN</td>\n",
              "      <td>2018.000000</td>\n",
              "      <td>NaN</td>\n",
              "      <td>NaN</td>\n",
              "      <td>NaN</td>\n",
              "      <td>NaN</td>\n",
              "    </tr>\n",
              "    <tr>\n",
              "      <th>max</th>\n",
              "      <td>NaN</td>\n",
              "      <td>NaN</td>\n",
              "      <td>NaN</td>\n",
              "      <td>NaN</td>\n",
              "      <td>NaN</td>\n",
              "      <td>NaN</td>\n",
              "      <td>NaN</td>\n",
              "      <td>2021.000000</td>\n",
              "      <td>NaN</td>\n",
              "      <td>NaN</td>\n",
              "      <td>NaN</td>\n",
              "      <td>NaN</td>\n",
              "    </tr>\n",
              "  </tbody>\n",
              "</table>\n",
              "</div>\n",
              "      <button class=\"colab-df-convert\" onclick=\"convertToInteractive('df-3ed85a3a-b02e-4965-841f-a3b31e82ecbf')\"\n",
              "              title=\"Convert this dataframe to an interactive table.\"\n",
              "              style=\"display:none;\">\n",
              "        \n",
              "  <svg xmlns=\"http://www.w3.org/2000/svg\" height=\"24px\"viewBox=\"0 0 24 24\"\n",
              "       width=\"24px\">\n",
              "    <path d=\"M0 0h24v24H0V0z\" fill=\"none\"/>\n",
              "    <path d=\"M18.56 5.44l.94 2.06.94-2.06 2.06-.94-2.06-.94-.94-2.06-.94 2.06-2.06.94zm-11 1L8.5 8.5l.94-2.06 2.06-.94-2.06-.94L8.5 2.5l-.94 2.06-2.06.94zm10 10l.94 2.06.94-2.06 2.06-.94-2.06-.94-.94-2.06-.94 2.06-2.06.94z\"/><path d=\"M17.41 7.96l-1.37-1.37c-.4-.4-.92-.59-1.43-.59-.52 0-1.04.2-1.43.59L10.3 9.45l-7.72 7.72c-.78.78-.78 2.05 0 2.83L4 21.41c.39.39.9.59 1.41.59.51 0 1.02-.2 1.41-.59l7.78-7.78 2.81-2.81c.8-.78.8-2.07 0-2.86zM5.41 20L4 18.59l7.72-7.72 1.47 1.35L5.41 20z\"/>\n",
              "  </svg>\n",
              "      </button>\n",
              "      \n",
              "  <style>\n",
              "    .colab-df-container {\n",
              "      display:flex;\n",
              "      flex-wrap:wrap;\n",
              "      gap: 12px;\n",
              "    }\n",
              "\n",
              "    .colab-df-convert {\n",
              "      background-color: #E8F0FE;\n",
              "      border: none;\n",
              "      border-radius: 50%;\n",
              "      cursor: pointer;\n",
              "      display: none;\n",
              "      fill: #1967D2;\n",
              "      height: 32px;\n",
              "      padding: 0 0 0 0;\n",
              "      width: 32px;\n",
              "    }\n",
              "\n",
              "    .colab-df-convert:hover {\n",
              "      background-color: #E2EBFA;\n",
              "      box-shadow: 0px 1px 2px rgba(60, 64, 67, 0.3), 0px 1px 3px 1px rgba(60, 64, 67, 0.15);\n",
              "      fill: #174EA6;\n",
              "    }\n",
              "\n",
              "    [theme=dark] .colab-df-convert {\n",
              "      background-color: #3B4455;\n",
              "      fill: #D2E3FC;\n",
              "    }\n",
              "\n",
              "    [theme=dark] .colab-df-convert:hover {\n",
              "      background-color: #434B5C;\n",
              "      box-shadow: 0px 1px 3px 1px rgba(0, 0, 0, 0.15);\n",
              "      filter: drop-shadow(0px 1px 2px rgba(0, 0, 0, 0.3));\n",
              "      fill: #FFFFFF;\n",
              "    }\n",
              "  </style>\n",
              "\n",
              "      <script>\n",
              "        const buttonEl =\n",
              "          document.querySelector('#df-3ed85a3a-b02e-4965-841f-a3b31e82ecbf button.colab-df-convert');\n",
              "        buttonEl.style.display =\n",
              "          google.colab.kernel.accessAllowed ? 'block' : 'none';\n",
              "\n",
              "        async function convertToInteractive(key) {\n",
              "          const element = document.querySelector('#df-3ed85a3a-b02e-4965-841f-a3b31e82ecbf');\n",
              "          const dataTable =\n",
              "            await google.colab.kernel.invokeFunction('convertToInteractive',\n",
              "                                                     [key], {});\n",
              "          if (!dataTable) return;\n",
              "\n",
              "          const docLinkHtml = 'Like what you see? Visit the ' +\n",
              "            '<a target=\"_blank\" href=https://colab.research.google.com/notebooks/data_table.ipynb>data table notebook</a>'\n",
              "            + ' to learn more about interactive tables.';\n",
              "          element.innerHTML = '';\n",
              "          dataTable['output_type'] = 'display_data';\n",
              "          await google.colab.output.renderOutput(dataTable, element);\n",
              "          const docLink = document.createElement('div');\n",
              "          docLink.innerHTML = docLinkHtml;\n",
              "          element.appendChild(docLink);\n",
              "        }\n",
              "      </script>\n",
              "    </div>\n",
              "  </div>\n",
              "  "
            ]
          },
          "metadata": {},
          "execution_count": 8
        }
      ],
      "source": [
        "# Basic stat description\n",
        "df.describe(include = 'all')"
      ]
    },
    {
      "cell_type": "markdown",
      "metadata": {
        "id": "AQGWt58iQQxw"
      },
      "source": [
        "## Attribute Information"
      ]
    },
    {
      "cell_type": "markdown",
      "metadata": {
        "id": "PsxnacJ5QTCQ"
      },
      "source": [
        "###1. show_id : Unique ID for every Movie / Tv Show\n",
        "\n",
        "###2. type : Identifier - A Movie or TV Show\n",
        "\n",
        "###3. title : Title of the Movie / Tv Show\n",
        "\n",
        "###4. director : Director of the Movie\n",
        "\n",
        "###5. cast : Actors involved in the movie / show\n",
        "\n",
        "###6. country : Country where the movie / show was produced\n",
        "\n",
        "###7. date_added : Date it was added on Netflix\n",
        "\n",
        "###8. release_year : Actual Releaseyear of the movie / show\n",
        "\n",
        "###9. rating : TV Rating of the movie / show\n",
        "\n",
        "###10. duration : Total Duration - in minutes or number of seasons\n",
        "\n",
        "###11. listed_in : Genere\n",
        "\n",
        "###12. description: The Summary description"
      ]
    },
    {
      "cell_type": "markdown",
      "metadata": {
        "id": "FKGIgcbuVvgI"
      },
      "source": [
        "## Duplicate Values"
      ]
    },
    {
      "cell_type": "code",
      "execution_count": null,
      "metadata": {
        "id": "O6uboVLFVxDs",
        "colab": {
          "base_uri": "https://localhost:8080/"
        },
        "outputId": "5ea1b914-805d-411f-9b83-cd099fd7e8b6"
      },
      "outputs": [
        {
          "output_type": "execute_result",
          "data": {
            "text/plain": [
              "0"
            ]
          },
          "metadata": {},
          "execution_count": 9
        }
      ],
      "source": [
        "# Dataset Duplicate Value Count\n",
        "df.duplicated().sum()"
      ]
    },
    {
      "cell_type": "markdown",
      "metadata": {
        "id": "ByDBDlIzcmYn"
      },
      "source": [
        "## Check Unique Values for each variable."
      ]
    },
    {
      "cell_type": "code",
      "execution_count": null,
      "metadata": {
        "colab": {
          "base_uri": "https://localhost:8080/"
        },
        "id": "f5Bn-TS_brxe",
        "outputId": "6775bff6-1c2d-4ea9-ec5b-b8105d40ac3b"
      },
      "outputs": [
        {
          "output_type": "execute_result",
          "data": {
            "text/plain": [
              "show_id         7787\n",
              "title           7787\n",
              "description     7769\n",
              "cast            6831\n",
              "director        4049\n",
              "date_added      1565\n",
              "country          681\n",
              "listed_in        492\n",
              "duration         216\n",
              "release_year      73\n",
              "rating            14\n",
              "type               2\n",
              "dtype: int64"
            ]
          },
          "metadata": {},
          "execution_count": 10
        }
      ],
      "source": [
        "# Checking unique values\n",
        "df.nunique(dropna = True).sort_values(ascending=False)"
      ]
    },
    {
      "cell_type": "markdown",
      "metadata": {
        "id": "SCIb9Lv7dANI"
      },
      "source": [
        "## **About dataset** :\n",
        "###Only two types of types are present in this dataset namely Movies and TV Shows. This dataset has 7787 rows and 12 columns. Only one column is in numerical format."
      ]
    },
    {
      "cell_type": "markdown",
      "metadata": {
        "id": "R9jhXF62SSxG"
      },
      "source": [
        "## Feature engineering"
      ]
    },
    {
      "cell_type": "code",
      "execution_count": null,
      "metadata": {
        "id": "u-7qR2-TP-oQ"
      },
      "outputs": [],
      "source": [
        "# Date columns to Date format conversion\n",
        "from datetime import datetime\n",
        "df['date_added']=pd.to_datetime(df['date_added'])\n",
        "\n",
        "# Creating new year column\n",
        "df['year_added']=df['date_added'].dt.year\n",
        "\n",
        "# Replace spaces with an empty string\n",
        "df['country']=df['country'].str.replace(' ','')"
      ]
    },
    {
      "cell_type": "markdown",
      "metadata": {
        "id": "pXEUn0FXezLJ"
      },
      "source": [
        "## **Feature engineering :**\n",
        "###  Date column in this dataset is in object format, it has to be converted to date format.\n",
        "###A new column named Year_Added has been added to the dataset.\n",
        "### string space inside country column is replaced with empty string"
      ]
    },
    {
      "cell_type": "code",
      "execution_count": null,
      "metadata": {
        "colab": {
          "base_uri": "https://localhost:8080/",
          "height": 424
        },
        "id": "bnQdYQQUQk43",
        "outputId": "3c83c0cd-1bc3-4004-c434-e9841181f4c0"
      },
      "outputs": [
        {
          "output_type": "execute_result",
          "data": {
            "text/plain": [
              "  show_id     type  title           director  \\\n",
              "0      s1  TV Show     3%                NaN   \n",
              "1      s2    Movie   7:19  Jorge Michel Grau   \n",
              "2      s3    Movie  23:59       Gilbert Chan   \n",
              "3      s4    Movie      9        Shane Acker   \n",
              "4      s5    Movie     21     Robert Luketic   \n",
              "\n",
              "                                                cast       country date_added  \\\n",
              "0  João Miguel, Bianca Comparato, Michel Gomes, R...        Brazil 2020-08-14   \n",
              "1  Demián Bichir, Héctor Bonilla, Oscar Serrano, ...        Mexico 2016-12-23   \n",
              "2  Tedd Chan, Stella Chung, Henley Hii, Lawrence ...     Singapore 2018-12-20   \n",
              "3  Elijah Wood, John C. Reilly, Jennifer Connelly...  UnitedStates 2017-11-16   \n",
              "4  Jim Sturgess, Kevin Spacey, Kate Bosworth, Aar...  UnitedStates 2020-01-01   \n",
              "\n",
              "   release_year rating   duration  \\\n",
              "0          2020  TV-MA  4 Seasons   \n",
              "1          2016  TV-MA     93 min   \n",
              "2          2011      R     78 min   \n",
              "3          2009  PG-13     80 min   \n",
              "4          2008  PG-13    123 min   \n",
              "\n",
              "                                           listed_in  \\\n",
              "0  International TV Shows, TV Dramas, TV Sci-Fi &...   \n",
              "1                       Dramas, International Movies   \n",
              "2                Horror Movies, International Movies   \n",
              "3  Action & Adventure, Independent Movies, Sci-Fi...   \n",
              "4                                             Dramas   \n",
              "\n",
              "                                         description  year_added  \n",
              "0  In a future where the elite inhabit an island ...      2020.0  \n",
              "1  After a devastating earthquake hits Mexico Cit...      2016.0  \n",
              "2  When an army recruit is found dead, his fellow...      2018.0  \n",
              "3  In a postapocalyptic world, rag-doll robots hi...      2017.0  \n",
              "4  A brilliant group of students become card-coun...      2020.0  "
            ],
            "text/html": [
              "\n",
              "  <div id=\"df-aa5b560c-2527-414b-b95f-ed9e4c5d6723\">\n",
              "    <div class=\"colab-df-container\">\n",
              "      <div>\n",
              "<style scoped>\n",
              "    .dataframe tbody tr th:only-of-type {\n",
              "        vertical-align: middle;\n",
              "    }\n",
              "\n",
              "    .dataframe tbody tr th {\n",
              "        vertical-align: top;\n",
              "    }\n",
              "\n",
              "    .dataframe thead th {\n",
              "        text-align: right;\n",
              "    }\n",
              "</style>\n",
              "<table border=\"1\" class=\"dataframe\">\n",
              "  <thead>\n",
              "    <tr style=\"text-align: right;\">\n",
              "      <th></th>\n",
              "      <th>show_id</th>\n",
              "      <th>type</th>\n",
              "      <th>title</th>\n",
              "      <th>director</th>\n",
              "      <th>cast</th>\n",
              "      <th>country</th>\n",
              "      <th>date_added</th>\n",
              "      <th>release_year</th>\n",
              "      <th>rating</th>\n",
              "      <th>duration</th>\n",
              "      <th>listed_in</th>\n",
              "      <th>description</th>\n",
              "      <th>year_added</th>\n",
              "    </tr>\n",
              "  </thead>\n",
              "  <tbody>\n",
              "    <tr>\n",
              "      <th>0</th>\n",
              "      <td>s1</td>\n",
              "      <td>TV Show</td>\n",
              "      <td>3%</td>\n",
              "      <td>NaN</td>\n",
              "      <td>João Miguel, Bianca Comparato, Michel Gomes, R...</td>\n",
              "      <td>Brazil</td>\n",
              "      <td>2020-08-14</td>\n",
              "      <td>2020</td>\n",
              "      <td>TV-MA</td>\n",
              "      <td>4 Seasons</td>\n",
              "      <td>International TV Shows, TV Dramas, TV Sci-Fi &amp;...</td>\n",
              "      <td>In a future where the elite inhabit an island ...</td>\n",
              "      <td>2020.0</td>\n",
              "    </tr>\n",
              "    <tr>\n",
              "      <th>1</th>\n",
              "      <td>s2</td>\n",
              "      <td>Movie</td>\n",
              "      <td>7:19</td>\n",
              "      <td>Jorge Michel Grau</td>\n",
              "      <td>Demián Bichir, Héctor Bonilla, Oscar Serrano, ...</td>\n",
              "      <td>Mexico</td>\n",
              "      <td>2016-12-23</td>\n",
              "      <td>2016</td>\n",
              "      <td>TV-MA</td>\n",
              "      <td>93 min</td>\n",
              "      <td>Dramas, International Movies</td>\n",
              "      <td>After a devastating earthquake hits Mexico Cit...</td>\n",
              "      <td>2016.0</td>\n",
              "    </tr>\n",
              "    <tr>\n",
              "      <th>2</th>\n",
              "      <td>s3</td>\n",
              "      <td>Movie</td>\n",
              "      <td>23:59</td>\n",
              "      <td>Gilbert Chan</td>\n",
              "      <td>Tedd Chan, Stella Chung, Henley Hii, Lawrence ...</td>\n",
              "      <td>Singapore</td>\n",
              "      <td>2018-12-20</td>\n",
              "      <td>2011</td>\n",
              "      <td>R</td>\n",
              "      <td>78 min</td>\n",
              "      <td>Horror Movies, International Movies</td>\n",
              "      <td>When an army recruit is found dead, his fellow...</td>\n",
              "      <td>2018.0</td>\n",
              "    </tr>\n",
              "    <tr>\n",
              "      <th>3</th>\n",
              "      <td>s4</td>\n",
              "      <td>Movie</td>\n",
              "      <td>9</td>\n",
              "      <td>Shane Acker</td>\n",
              "      <td>Elijah Wood, John C. Reilly, Jennifer Connelly...</td>\n",
              "      <td>UnitedStates</td>\n",
              "      <td>2017-11-16</td>\n",
              "      <td>2009</td>\n",
              "      <td>PG-13</td>\n",
              "      <td>80 min</td>\n",
              "      <td>Action &amp; Adventure, Independent Movies, Sci-Fi...</td>\n",
              "      <td>In a postapocalyptic world, rag-doll robots hi...</td>\n",
              "      <td>2017.0</td>\n",
              "    </tr>\n",
              "    <tr>\n",
              "      <th>4</th>\n",
              "      <td>s5</td>\n",
              "      <td>Movie</td>\n",
              "      <td>21</td>\n",
              "      <td>Robert Luketic</td>\n",
              "      <td>Jim Sturgess, Kevin Spacey, Kate Bosworth, Aar...</td>\n",
              "      <td>UnitedStates</td>\n",
              "      <td>2020-01-01</td>\n",
              "      <td>2008</td>\n",
              "      <td>PG-13</td>\n",
              "      <td>123 min</td>\n",
              "      <td>Dramas</td>\n",
              "      <td>A brilliant group of students become card-coun...</td>\n",
              "      <td>2020.0</td>\n",
              "    </tr>\n",
              "  </tbody>\n",
              "</table>\n",
              "</div>\n",
              "      <button class=\"colab-df-convert\" onclick=\"convertToInteractive('df-aa5b560c-2527-414b-b95f-ed9e4c5d6723')\"\n",
              "              title=\"Convert this dataframe to an interactive table.\"\n",
              "              style=\"display:none;\">\n",
              "        \n",
              "  <svg xmlns=\"http://www.w3.org/2000/svg\" height=\"24px\"viewBox=\"0 0 24 24\"\n",
              "       width=\"24px\">\n",
              "    <path d=\"M0 0h24v24H0V0z\" fill=\"none\"/>\n",
              "    <path d=\"M18.56 5.44l.94 2.06.94-2.06 2.06-.94-2.06-.94-.94-2.06-.94 2.06-2.06.94zm-11 1L8.5 8.5l.94-2.06 2.06-.94-2.06-.94L8.5 2.5l-.94 2.06-2.06.94zm10 10l.94 2.06.94-2.06 2.06-.94-2.06-.94-.94-2.06-.94 2.06-2.06.94z\"/><path d=\"M17.41 7.96l-1.37-1.37c-.4-.4-.92-.59-1.43-.59-.52 0-1.04.2-1.43.59L10.3 9.45l-7.72 7.72c-.78.78-.78 2.05 0 2.83L4 21.41c.39.39.9.59 1.41.59.51 0 1.02-.2 1.41-.59l7.78-7.78 2.81-2.81c.8-.78.8-2.07 0-2.86zM5.41 20L4 18.59l7.72-7.72 1.47 1.35L5.41 20z\"/>\n",
              "  </svg>\n",
              "      </button>\n",
              "      \n",
              "  <style>\n",
              "    .colab-df-container {\n",
              "      display:flex;\n",
              "      flex-wrap:wrap;\n",
              "      gap: 12px;\n",
              "    }\n",
              "\n",
              "    .colab-df-convert {\n",
              "      background-color: #E8F0FE;\n",
              "      border: none;\n",
              "      border-radius: 50%;\n",
              "      cursor: pointer;\n",
              "      display: none;\n",
              "      fill: #1967D2;\n",
              "      height: 32px;\n",
              "      padding: 0 0 0 0;\n",
              "      width: 32px;\n",
              "    }\n",
              "\n",
              "    .colab-df-convert:hover {\n",
              "      background-color: #E2EBFA;\n",
              "      box-shadow: 0px 1px 2px rgba(60, 64, 67, 0.3), 0px 1px 3px 1px rgba(60, 64, 67, 0.15);\n",
              "      fill: #174EA6;\n",
              "    }\n",
              "\n",
              "    [theme=dark] .colab-df-convert {\n",
              "      background-color: #3B4455;\n",
              "      fill: #D2E3FC;\n",
              "    }\n",
              "\n",
              "    [theme=dark] .colab-df-convert:hover {\n",
              "      background-color: #434B5C;\n",
              "      box-shadow: 0px 1px 3px 1px rgba(0, 0, 0, 0.15);\n",
              "      filter: drop-shadow(0px 1px 2px rgba(0, 0, 0, 0.3));\n",
              "      fill: #FFFFFF;\n",
              "    }\n",
              "  </style>\n",
              "\n",
              "      <script>\n",
              "        const buttonEl =\n",
              "          document.querySelector('#df-aa5b560c-2527-414b-b95f-ed9e4c5d6723 button.colab-df-convert');\n",
              "        buttonEl.style.display =\n",
              "          google.colab.kernel.accessAllowed ? 'block' : 'none';\n",
              "\n",
              "        async function convertToInteractive(key) {\n",
              "          const element = document.querySelector('#df-aa5b560c-2527-414b-b95f-ed9e4c5d6723');\n",
              "          const dataTable =\n",
              "            await google.colab.kernel.invokeFunction('convertToInteractive',\n",
              "                                                     [key], {});\n",
              "          if (!dataTable) return;\n",
              "\n",
              "          const docLinkHtml = 'Like what you see? Visit the ' +\n",
              "            '<a target=\"_blank\" href=https://colab.research.google.com/notebooks/data_table.ipynb>data table notebook</a>'\n",
              "            + ' to learn more about interactive tables.';\n",
              "          element.innerHTML = '';\n",
              "          dataTable['output_type'] = 'display_data';\n",
              "          await google.colab.output.renderOutput(dataTable, element);\n",
              "          const docLink = document.createElement('div');\n",
              "          docLink.innerHTML = docLinkHtml;\n",
              "          element.appendChild(docLink);\n",
              "        }\n",
              "      </script>\n",
              "    </div>\n",
              "  </div>\n",
              "  "
            ]
          },
          "metadata": {},
          "execution_count": 12
        }
      ],
      "source": [
        "# Cheking data\n",
        "df.head()"
      ]
    },
    {
      "cell_type": "markdown",
      "metadata": {
        "id": "ilN11UezfuyY"
      },
      "source": [
        "# **(1) Exploratory Data Analysis**"
      ]
    },
    {
      "cell_type": "markdown",
      "metadata": {
        "id": "Ef_UiQGVjT4d"
      },
      "source": [
        "## 1.1 Top actors with higest count of movies and tv shows"
      ]
    },
    {
      "cell_type": "code",
      "execution_count": null,
      "metadata": {
        "id": "zQ6DZwAQfJ8r"
      },
      "outputs": [],
      "source": [
        "# convert the cast to get final df for cast\n",
        "cast=df.copy()\n",
        "cast['actors'] = cast['cast'].str.split(\",\")\n",
        "cast = cast.explode(\"actors\").reset_index()"
      ]
    },
    {
      "cell_type": "code",
      "execution_count": null,
      "metadata": {
        "id": "9YHHfWxC7tSp"
      },
      "outputs": [],
      "source": [
        "# Top actors with higest count of movies and tvshows\n",
        "top_actors = cast['actors'].value_counts().reset_index().sort_values(by='actors',ascending=False).head(20)\n",
        "# visualization with bar chart\n",
        "trace1 = go.Bar(\n",
        "                x = top_actors['index'],\n",
        "                y = top_actors['actors'],\n",
        "                name=\"TV Shows,movies\",\n",
        "                marker_color = 'rgb(55, 83, 109)')\n",
        "\n",
        "layout = go.Layout(title = 'Top actors with higest count of movies and tvshows' , xaxis = dict(title = 'Actors'), yaxis = dict(title = 'Count'))\n",
        "fig = go.Figure(data = [trace1], layout = layout)\n",
        "fig.show(renderer=\"colab\")"
      ]
    },
    {
      "cell_type": "markdown",
      "metadata": {
        "id": "MSAlVaavihbZ"
      },
      "source": [
        "## **Insight :**\n",
        "### Anupam Kher, Takahiro Sakurai, Om Puri and Shah Rukh Khan are the actors who contributed the most to Netflix content\n",
        "### Anupam Kair has acted in maximum number of movies Anupam Kair has acted in 38 movies"
      ]
    },
    {
      "cell_type": "markdown",
      "metadata": {
        "id": "0H8MyCo2Y7TI"
      },
      "source": [
        "## 1.2 Top actors with higest count of tvshows"
      ]
    },
    {
      "cell_type": "code",
      "execution_count": null,
      "metadata": {
        "id": "WLo6FWPOwUHz"
      },
      "outputs": [],
      "source": [
        "# Top actors with higest count of tvshows\n",
        "tvshows = cast[cast[\"type\"] == \"TV Show\"]\n",
        "tvshowsdf = tvshows['actors'].value_counts().reset_index().sort_values(by='actors',ascending=False).head(20)\n",
        "# visualization with bar chart\n",
        "trace1 = go.Bar(\n",
        "                x = tvshowsdf['index'],\n",
        "                y = tvshowsdf['actors'],\n",
        "                name=\"TV Shows\",\n",
        "                marker_color = 'rgb(55, 83, 109)')\n",
        "\n",
        "layout = go.Layout(title = 'Top actors with higest count of tvshows' , xaxis = dict(title = 'Actors'), yaxis = dict(title = 'Count'))\n",
        "fig = go.Figure(data = [trace1], layout = layout)\n",
        "fig.show(renderer='colab')"
      ]
    },
    {
      "cell_type": "markdown",
      "metadata": {
        "id": "q4rUiIqgk3eY"
      },
      "source": [
        "## **Insight :**\n",
        "### Takahiro Sakurai, Ai Kayano, Junichi Suwabe and Yuki Kaji are the actors with the most Netflix Tv shows\n",
        "### Takahira Sakurai has acted in maximum number of TV Show Takahira Sakurai has acted in 22 TV Show"
      ]
    },
    {
      "cell_type": "markdown",
      "metadata": {
        "id": "G1xIFHtlZdQ5"
      },
      "source": [
        "## 1.3 Top actors with higest count of Movies\n"
      ]
    },
    {
      "cell_type": "code",
      "execution_count": null,
      "metadata": {
        "id": "Q8NZEihE7NyF"
      },
      "outputs": [],
      "source": [
        "# Top actors with higest count of Movies\n",
        "movies = cast[cast[\"type\"] == \"Movie\"]\n",
        "moviesdf = movies['actors'].value_counts().reset_index().sort_values(by='actors',ascending=False).head(20)\n",
        "# visualization with bar chart\n",
        "trace1 = go.Bar(\n",
        "                x = moviesdf['index'],\n",
        "                y = moviesdf['actors'],\n",
        "                name=\"Movies\",\n",
        "                marker_color = 'rgb(55, 83, 109)')\n",
        "\n",
        "layout = go.Layout(title = 'Top actors with higest count of Movies' , xaxis = dict(title = 'Actors'), yaxis = dict(title = 'Count'))\n",
        "fig = go.Figure(data = [trace1], layout = layout)\n",
        "fig.show(renderer='colab')"
      ]
    },
    {
      "cell_type": "markdown",
      "metadata": {
        "id": "YgG2-70RmO2h"
      },
      "source": [
        "## **Insight :**\n",
        "###  Anupam Kher, Shah Rukh Khan, Om Puri and Boman Irani  are the actors with the most Netflix  Movies\n",
        "###Anupam Kair has acted in maximum number of movies Anupam Kair has acted in 37 movies"
      ]
    },
    {
      "cell_type": "markdown",
      "metadata": {
        "id": "ZOyQ6l3DDKNr"
      },
      "source": [
        "## 1.4 Which words frequently use in title column"
      ]
    },
    {
      "cell_type": "code",
      "execution_count": null,
      "metadata": {
        "id": "mJiAYB0FBLYp"
      },
      "outputs": [],
      "source": [
        "text=df['title']\n",
        "text = \" \".join(word for word in text)\n",
        "# Create stopword list:\n",
        "stopwords = set(STOPWORDS)\n",
        "\n",
        "# Generate a word cloud image\n",
        "wordcloud = WordCloud(stopwords=stopwords, background_color=\"black\").generate(text)\n",
        "\n",
        "# Display the generated image:\n",
        "# the matplotlib way:\n",
        "plt.imshow(wordcloud, interpolation='bilinear')\n",
        "plt.axis(\"off\")\n",
        "plt.show()"
      ]
    },
    {
      "cell_type": "markdown",
      "metadata": {
        "id": "cf4SAZ9pnCFm"
      },
      "source": [
        "## **Insight :**\n",
        "### Christmas, Love, World and Man words frequently use in title column."
      ]
    },
    {
      "cell_type": "markdown",
      "metadata": {
        "id": "jjlskgHAasTH"
      },
      "source": [
        "## 1.5 Netflix Content Analysis"
      ]
    },
    {
      "cell_type": "code",
      "execution_count": null,
      "metadata": {
        "colab": {
          "base_uri": "https://localhost:8080/"
        },
        "id": "XPeg4TdiDZXB",
        "outputId": "e99d9911-5535-4bf9-f809-c2bad8342cba"
      },
      "outputs": [
        {
          "output_type": "execute_result",
          "data": {
            "text/plain": [
              "type\n",
              "Movie      5377\n",
              "TV Show    2410\n",
              "Name: type, dtype: int64"
            ]
          },
          "metadata": {},
          "execution_count": 18
        }
      ],
      "source": [
        "# number of values of different categories in 'type'\n",
        "tvshows_movies=df.groupby('type')['type'].count()\n",
        "tvshows_movies"
      ]
    },
    {
      "cell_type": "code",
      "execution_count": null,
      "metadata": {
        "id": "5UHSU4EjMqXU"
      },
      "outputs": [],
      "source": [
        "# visualization with pie chart\n",
        "labels = 'Movies' , 'TV Show'\n",
        "sizes = tvshows_movies\n",
        "colors = [ \"#7570B3\",\"#1B9E77\"]\n",
        "explode = (0.1, 0.0)\n",
        "plt.pie(sizes, explode=explode, labels=labels, colors=colors,\n",
        "        autopct='%1.1f%%', shadow=True, startangle=120)\n",
        "plt.axis('equal')\n",
        "plt.title(\"Netflix Content Analysis\",fontsize=20)\n",
        "plt.plot()\n",
        "fig=plt.gcf()\n",
        "fig.set_size_inches(6,6)\n",
        "plt.show()\n"
      ]
    },
    {
      "cell_type": "markdown",
      "metadata": {
        "id": "yJStfcMHnhwt"
      },
      "source": [
        "## **Insight :**\n",
        "### There are more movies datapoints in the dataset than TV shows\n",
        "### Almost 70% of datapoints belong to Movie, rest 30% to TV Show"
      ]
    },
    {
      "cell_type": "markdown",
      "metadata": {
        "id": "2L_SxLJqWEyY"
      },
      "source": [
        "## 1.6 Movies and Tv Show Duration Distribution Analysis"
      ]
    },
    {
      "cell_type": "code",
      "execution_count": null,
      "metadata": {
        "id": "BTxVMybXkpCv"
      },
      "outputs": [],
      "source": [
        "# Distribution of Movies Duration\n",
        "durationmovies=df[df[\"type\"] == \"Movie\"]\n",
        "durationmovies['duration']=durationmovies['duration'].str.replace('min','').astype(int)\n",
        "# visualization with bar chart\n",
        "sns.displot(durationmovies, x=\"duration\", kde=True,color=\"black\")"
      ]
    },
    {
      "cell_type": "markdown",
      "metadata": {
        "id": "0rciFqL7oFSj"
      },
      "source": [
        "## **Insight :**\n",
        "###Most of the content for movies is around 70 to 140 minutes in duration"
      ]
    },
    {
      "cell_type": "code",
      "execution_count": null,
      "metadata": {
        "id": "X8R_ipF-crou"
      },
      "outputs": [],
      "source": [
        "# Distribution of Tv Show Duration\n",
        "durationtv=df[df[\"type\"] == \"TV Show\"]\n",
        "durationtv['duration']=durationtv['duration'].str.replace('Seasons','').str.replace('Season','').astype(int)\n",
        "# visualization with bar chart\n",
        "sns.displot(durationtv, x=\"duration\", kde=True,color=\"black\")"
      ]
    },
    {
      "cell_type": "markdown",
      "metadata": {
        "id": "s8Zfrcx2ooH-"
      },
      "source": [
        "## **Insight :**\n",
        "### Most of the shows are 1 to 2 seasons long\n"
      ]
    },
    {
      "cell_type": "markdown",
      "metadata": {
        "id": "lUc-K1KLpu3r"
      },
      "source": [
        "## 1.7 How does the movie runtime vary across different genres"
      ]
    },
    {
      "cell_type": "code",
      "execution_count": null,
      "metadata": {
        "id": "K0I8PtyYq2OJ"
      },
      "outputs": [],
      "source": [
        "# convert the genres to get final df for genres\n",
        "runtime_genres=durationmovies.copy()\n",
        "runtime_genres['listed_in'] = runtime_genres['listed_in'].str.split(\",\")\n",
        "runtime_genres =runtime_genres.explode(\"listed_in\")\n",
        "runtime_genres['listed_in'] = runtime_genres['listed_in'].str.replace(\" \",'')"
      ]
    },
    {
      "cell_type": "code",
      "execution_count": null,
      "metadata": {
        "id": "VXHTFqX35SK4"
      },
      "outputs": [],
      "source": [
        "# Movie runtime vary across different genres\n",
        "runtime_genres_final=runtime_genres.groupby('listed_in')['duration'].mean().reset_index().sort_values(by='duration',ascending=False)\n",
        "# visualization with bar chart\n",
        "trace1 = go.Bar(\n",
        "                x = runtime_genres_final['listed_in'],\n",
        "                y = runtime_genres_final['duration'],\n",
        "                name=\"Movies\",\n",
        "                marker_color = 'indianred')\n",
        "\n",
        "layout = go.Layout(title = 'movie runtime vary across different genres' , xaxis = dict(title = 'Genres'), yaxis = dict(title = 'Average Duration'))\n",
        "fig = go.Figure(data = [trace1], layout = layout)\n",
        "fig.show(renderer='colab')"
      ]
    },
    {
      "cell_type": "markdown",
      "metadata": {
        "id": "I0zUsCj8o_Eg"
      },
      "source": [
        "## **Insight :**\n",
        "\n",
        "### The ClassicMovies, Dramas, Action&Adventure and InternationalMovies genre have  a high duration of runtime"
      ]
    },
    {
      "cell_type": "markdown",
      "metadata": {
        "id": "6vkkhj1R9dJH"
      },
      "source": [
        "## 1.8 Which genres have the highest number of movies produced"
      ]
    },
    {
      "cell_type": "code",
      "execution_count": null,
      "metadata": {
        "id": "Rr5dmUMcnX3s"
      },
      "outputs": [],
      "source": [
        "# convert the genres to get final df for genres\n",
        "genre=df.copy()\n",
        "genre['listed_in'] = genre['listed_in'].str.split(\",\")\n",
        "genre = genre.explode(\"listed_in\").reset_index()\n",
        "genre['listed_in'] = genre['listed_in'].str.replace(\" \",'')"
      ]
    },
    {
      "cell_type": "code",
      "execution_count": null,
      "metadata": {
        "id": "6_qXfTGXF0_P"
      },
      "outputs": [],
      "source": [
        "# Highest Number of Movies produced by genres\n",
        "genre_movies = genre[genre[\"type\"] == \"Movie\"]\n",
        "higest_genres_produced=genre_movies.groupby('listed_in')['title'].count().sort_values(ascending=False).reset_index().head(10)\n",
        "# visualization with pie chart\n",
        "fig = px.pie(higest_genres_produced,\n",
        "             title='Highest Number of Movies produced by genres',\n",
        "             color_discrete_sequence=px.colors.sequential.RdBu,\n",
        "             values='title', names='listed_in')\n",
        "fig.show()"
      ]
    },
    {
      "cell_type": "markdown",
      "metadata": {
        "id": "KsaNQWozqJw9"
      },
      "source": [
        "## **Insight :**\n",
        "### InternationalMovies, Dramas and Comedies genres made up the most Netflix Movies"
      ]
    },
    {
      "cell_type": "markdown",
      "metadata": {
        "id": "4j15oKUiGrI9"
      },
      "source": [
        "## 1.9 Which genres have the highest number of tv show produced"
      ]
    },
    {
      "cell_type": "code",
      "execution_count": null,
      "metadata": {
        "id": "AdqsYunxHOEJ"
      },
      "outputs": [],
      "source": [
        "# Highest Number of Tv Show produced by genres\n",
        "genre_tvshows = genre[genre[\"type\"] == \"TV Show\"]\n",
        "higest_genres_produced_tvshow=genre_tvshows.groupby('listed_in')['title'].count().sort_values(ascending=False).reset_index().head(10)\n",
        "# visualization with pie chart\n",
        "fig = px.pie(higest_genres_produced_tvshow,\n",
        "             title='Highest Number of Tv Show produced by genres',\n",
        "             color_discrete_sequence=px.colors.sequential.RdBu,\n",
        "             values='title', names='listed_in')\n",
        "fig.show()"
      ]
    },
    {
      "cell_type": "markdown",
      "metadata": {
        "id": "acxeBJvKrE4X"
      },
      "source": [
        "## **Insight :**\n",
        "### InternationalTVShows, TVDramas and TVComedies genres made up the most Netflix TV Shows."
      ]
    },
    {
      "cell_type": "markdown",
      "metadata": {
        "id": "lJ2CVZQgJHuX"
      },
      "source": [
        "## 1.10 Which words frequently use in Description column"
      ]
    },
    {
      "cell_type": "code",
      "execution_count": null,
      "metadata": {
        "id": "KahXWcQUH2w3"
      },
      "outputs": [],
      "source": [
        "text=df['description']\n",
        "text = \" \".join(word for word in text)\n",
        "# Create stopword list:\n",
        "stopwords = set(STOPWORDS)\n",
        "\n",
        "# Generate a word cloud image\n",
        "wordcloud = WordCloud(stopwords=stopwords, background_color=\"black\").generate(text)\n",
        "\n",
        "# Display the generated image:\n",
        "# the matplotlib way:\n",
        "plt.imshow(wordcloud, interpolation='bilinear')\n",
        "plt.axis(\"off\")\n",
        "plt.show()"
      ]
    },
    {
      "cell_type": "markdown",
      "metadata": {
        "id": "aXavYkhzr0BT"
      },
      "source": [
        "## **Insight :**\n",
        "### Family, Life, find and Love words frequently use in Description column."
      ]
    },
    {
      "cell_type": "markdown",
      "metadata": {
        "id": "tbsO8Sj5QZCL"
      },
      "source": [
        "## 1.11 content release over the year"
      ]
    },
    {
      "cell_type": "code",
      "execution_count": null,
      "metadata": {
        "id": "5JuDckoTLhtH"
      },
      "outputs": [],
      "source": [
        "# content release over the year\n",
        "release_year_frequency=df['release_year'].value_counts().reset_index()\n",
        "# visualization with bar chart\n",
        "trace1 = go.Bar(\n",
        "                x = release_year_frequency['index'],\n",
        "                y = release_year_frequency['release_year'],\n",
        "                name=\"Movies\",\n",
        "                marker_color = 'rgb(55, 83, 109)')\n",
        "\n",
        "layout = go.Layout(title = 'content release over years' , xaxis = dict(title = 'Actors'), yaxis = dict(title = 'Count'))\n",
        "fig = go.Figure(data = [trace1], layout = layout)\n",
        "fig.show(renderer='colab')"
      ]
    },
    {
      "cell_type": "markdown",
      "metadata": {
        "id": "egOC5bncsEHf"
      },
      "source": [
        "## **Insight :**\n",
        "### Most of the content release in 2017, 2018 and 2019."
      ]
    },
    {
      "cell_type": "markdown",
      "metadata": {
        "id": "QJiucA1zQTvM"
      },
      "source": [
        "## 1.12 content release over the year by content type"
      ]
    },
    {
      "cell_type": "code",
      "execution_count": null,
      "metadata": {
        "id": "5H69AOf6JOtv"
      },
      "outputs": [],
      "source": [
        "year_tvshows = df[df[\"type\"] == \"TV Show\"]\n",
        "year_movies = df[df[\"type\"] == \"Movie\"]"
      ]
    },
    {
      "cell_type": "code",
      "execution_count": null,
      "metadata": {
        "id": "ZXle9hVtLhDf"
      },
      "outputs": [],
      "source": [
        "# content release over the year by content type\n",
        "\n",
        "temp_df1 = year_tvshows['release_year'].value_counts().reset_index()\n",
        "temp_df2 = year_movies['release_year'].value_counts().reset_index()\n",
        "\n",
        "\n",
        "# create trace1\n",
        "trace1 = go.Bar(\n",
        "                x = temp_df1['index'],\n",
        "                y = temp_df1['release_year'],\n",
        "                name=\"TV Shows\",\n",
        "                marker_color='indianred')\n",
        "# create trace2\n",
        "trace2 = go.Bar(\n",
        "                x = temp_df2['index'],\n",
        "                y = temp_df2['release_year'],\n",
        "                name = \"Movies\",\n",
        "                marker_color='lightsalmon')\n",
        "\n",
        "\n",
        "layout = go.Layout(title = 'content release over the year by content type' , xaxis = dict(title = 'Year'), yaxis = dict(title = 'Count'))\n",
        "fig = go.Figure(data = [trace1, trace2], layout = layout)\n",
        "fig.show(renderer='colab')"
      ]
    },
    {
      "cell_type": "markdown",
      "metadata": {
        "id": "dzJ8phKh0djQ"
      },
      "source": [
        "## **Insight :**\n",
        "### Most of the Netflix Movies release in 2017, 2018 and 2016.\n",
        "### Most of the Netflix TV Show release in 2018, 2019 and 2020."
      ]
    },
    {
      "cell_type": "markdown",
      "metadata": {
        "id": "_le0kwVkhZLP"
      },
      "source": [
        "## 1.13 Highest Number of Movies and Tv Show produced by Country"
      ]
    },
    {
      "cell_type": "code",
      "execution_count": null,
      "metadata": {
        "id": "V3Q2IZLoU7F7"
      },
      "outputs": [],
      "source": [
        "# convert the country to get final df for country\n",
        "country=df.copy()\n",
        "country['country'] = country['country'].str.split(\",\")\n",
        "country = country.explode('country').reset_index()"
      ]
    },
    {
      "cell_type": "code",
      "execution_count": null,
      "metadata": {
        "id": "6seF-WxiUAQS"
      },
      "outputs": [],
      "source": [
        "# Highest Number of Movies and Tv Show produced by Country\n",
        "top_country=country['country'].value_counts().reset_index().head(10)\n",
        "top_country.rename(columns = {'index':'country', 'country':'produced',\n",
        "                              }, inplace = True)\n",
        "# visualization with bubble chart\n",
        "fig = px.scatter(top_country, x='produced', y='produced',\n",
        "\t         size=\"produced\", color=\"country\",\n",
        "                 hover_name=\"produced\", log_x=True, size_max=60)\n",
        "fig.show()"
      ]
    },
    {
      "cell_type": "markdown",
      "metadata": {
        "id": "ekxgaatO1Bwt"
      },
      "source": [
        "## **Insight :**\n",
        "### Most of the Netflix content produced by UnitedState, India and UnitedKingdom."
      ]
    },
    {
      "cell_type": "markdown",
      "metadata": {
        "id": "EiBSX745btPw"
      },
      "source": [
        "## 1.14 Top director with higest count of movies and tvshows"
      ]
    },
    {
      "cell_type": "code",
      "execution_count": null,
      "metadata": {
        "id": "f_OWndG5Yx8s"
      },
      "outputs": [],
      "source": [
        "# convert the director to get final df for director\n",
        "director=df.copy()\n",
        "director['director'] = director['director'].str.split(\",\")\n",
        "director= director.explode(\"director\").reset_index()"
      ]
    },
    {
      "cell_type": "code",
      "execution_count": null,
      "metadata": {
        "id": "i9OC1rVmecbM"
      },
      "outputs": [],
      "source": [
        "# Top director with higest count of movies and tvshows\n",
        "release_year_frequency=director['director'].value_counts().reset_index().head(10)\n",
        "\n",
        "# Get key properties for colours and labels\n",
        "max_value_full_ring = max(release_year_frequency['director'])\n",
        "\n",
        "ring_colours = ['#2f4b7c', '#665191', '#a05195','#d45087',\n",
        "               '#f95d6a','#ff7c43','#ffa600','darkorange','orangered','red']\n",
        "\n",
        "ring_labels = [f'   {x} ({v}) ' for x, v in zip(list(release_year_frequency['index']),\n",
        "                                                 list(release_year_frequency['director']))]\n",
        "data_len = len(release_year_frequency)\n",
        "\n",
        "# Begin creating the figure\n",
        "fig = plt.figure(figsize=(10,10), linewidth=10,\n",
        "                 edgecolor='#393d5c',\n",
        "                 facecolor='#25253c')\n",
        "\n",
        "rect = [0.1,0.1,0.8,0.8]\n",
        "\n",
        "# Add axis for radial backgrounds\n",
        "ax_polar_bg = fig.add_axes(rect, polar=True, frameon=False)\n",
        "ax_polar_bg.set_theta_zero_location('N')\n",
        "ax_polar_bg.set_theta_direction(1)\n",
        "\n",
        "# Loop through each entry in the dataframe and plot a grey\n",
        "# ring to create the background for each one\n",
        "for i in range(data_len):\n",
        "    ax_polar_bg.barh(i, max_value_full_ring*1.5*np.pi/max_value_full_ring,\n",
        "                     color='grey',\n",
        "                     alpha=0.1)\n",
        "# Hide all axis items\n",
        "ax_polar_bg.axis('off')\n",
        "\n",
        "# Add axis for radial chart for each entry in the dataframe\n",
        "ax_polar = fig.add_axes(rect, polar=True, frameon=False)\n",
        "ax_polar.set_theta_zero_location('N')\n",
        "ax_polar.set_theta_direction(1)\n",
        "ax_polar.set_rgrids([0, 1, 2, 3, 4, 5, 6, 7, 8, 9],\n",
        "                    labels=ring_labels,\n",
        "                    angle=0,\n",
        "                    fontsize=14, fontweight='bold',\n",
        "                    color='white', verticalalignment='center')\n",
        "\n",
        "# Loop through each entry in the dataframe and create a coloured\n",
        "# ring for each entry\n",
        "for i in range(data_len):\n",
        "    ax_polar.barh(i, list(release_year_frequency['director'])[i]*1.5*np.pi/max_value_full_ring,\n",
        "                  color=ring_colours[i])\n",
        "\n",
        "\n",
        "# Hide all grid elements for the\n",
        "ax_polar.grid(False)\n",
        "ax_polar.tick_params(axis='both', left=False, bottom=False,\n",
        "                   labelbottom=False, labelleft=True)\n",
        "\n",
        "plt.show()"
      ]
    },
    {
      "cell_type": "markdown",
      "metadata": {
        "id": "RsmuclRSxLkd"
      },
      "source": [
        "## **Insight :**\n",
        "### Raul Campos, Jan Sutar, Marcus Raboy and Jay Karas directed most of the movies and TV shows"
      ]
    },
    {
      "cell_type": "markdown",
      "metadata": {
        "id": "LshW-1HG5zAd"
      },
      "source": [
        "## 1.15 Top rating with highest count of movies and tv show"
      ]
    },
    {
      "cell_type": "code",
      "execution_count": null,
      "metadata": {
        "id": "8uNEASUp0TXQ"
      },
      "outputs": [],
      "source": [
        "# Top rating with highest count of movies and tv show\n",
        "rating=df.groupby('rating')['title'].count().sort_values(ascending=False).reset_index()\n",
        "# visualization with pie chart\n",
        "fig = px.pie(rating,\n",
        "             title='top rating with highest with movies and tv show',\n",
        "             color_discrete_sequence=px.colors.sequential.RdBu,\n",
        "             values='title', names='rating')\n",
        "fig.show()"
      ]
    },
    {
      "cell_type": "markdown",
      "metadata": {
        "id": "KIGSEed6yX1K"
      },
      "source": [
        "## **Insight :**\n",
        "### TV-14 TV-MA has the highest number of Netflix movies and TV shows ever"
      ]
    },
    {
      "cell_type": "code",
      "execution_count": null,
      "metadata": {
        "id": "quILGtQj2Ucu"
      },
      "outputs": [],
      "source": [
        "# convert the rating to get final df for rating\n",
        "moviesdf=df[df[\"type\"] == \"Movie\"]\n",
        "moviesrating=moviesdf.groupby('rating')['title'].count().sort_values(ascending=False).reset_index()\n",
        "tvdf=df[df[\"type\"] == \"TV Show\"]\n",
        "tvrating=tvdf.groupby('rating')['title'].count().sort_values(ascending=False).reset_index()"
      ]
    },
    {
      "cell_type": "code",
      "execution_count": null,
      "metadata": {
        "id": "JeMTl2C63XE4"
      },
      "outputs": [],
      "source": [
        "# create trace1\n",
        "trace1 = go.Bar(\n",
        "                y = tvrating['title'],\n",
        "                x = tvrating['rating'],\n",
        "                name=\"TV Shows\",\n",
        "                marker_color='indianred')\n",
        "# create trace2\n",
        "trace2 = go.Bar(\n",
        "                y = moviesrating['title'],\n",
        "                x = moviesrating['rating'],\n",
        "                name = \"Movies\",\n",
        "                marker_color='lightsalmon')\n",
        "\n",
        "\n",
        "layout = go.Layout(title = 'content release over the year by content type' , xaxis = dict(title = 'Year'), yaxis = dict(title = 'Count'))\n",
        "fig = go.Figure(data = [trace1, trace2], layout = layout)\n",
        "fig.show(renderer='colab')"
      ]
    },
    {
      "cell_type": "markdown",
      "metadata": {
        "id": "Y2dOrQQJ6eTd"
      },
      "source": [
        "#**(2). Understanding what type content is available in different countries**\n",
        "\n",
        "\n",
        "\n"
      ]
    },
    {
      "cell_type": "markdown",
      "metadata": {
        "id": "XUr6Lsxytyi3"
      },
      "source": [
        "## 2.1 Number of Movies and Tv Show produced by Country"
      ]
    },
    {
      "cell_type": "code",
      "execution_count": null,
      "metadata": {
        "id": "gItpUb48x0Gu"
      },
      "outputs": [],
      "source": [
        "# Number of Movies and Tv Show produced by Country\n",
        "top_country=country['country'].value_counts().reset_index()\n",
        "top_country.rename(columns = {'index':'country', 'country':'produced',\n",
        "                              }, inplace = True)\n",
        "fig = px.scatter(top_country, x='produced', y='produced',\n",
        "\t         size=\"produced\", color=\"country\",\n",
        "                 hover_name=\"produced\", log_x=True, size_max=60)\n",
        "fig.show()"
      ]
    },
    {
      "cell_type": "markdown",
      "metadata": {
        "id": "3sjroYrwHmTm"
      },
      "source": [
        "\n",
        "## 2.2 Number of Movies produced by Country"
      ]
    },
    {
      "cell_type": "code",
      "execution_count": null,
      "metadata": {
        "id": "It-9aLJYt2UU"
      },
      "outputs": [],
      "source": [
        "# Number of Movies produced by Country\n",
        "movies_country=country[country[\"type\"] == \"Movie\"]\n",
        "movies_country=movies_country.groupby('country')['type'].count().reset_index()"
      ]
    },
    {
      "cell_type": "code",
      "execution_count": null,
      "metadata": {
        "id": "ujwXaAquvDzr"
      },
      "outputs": [],
      "source": [
        "#total movies per country\n",
        "sns.set_theme()\n",
        "trace = go.Choropleth(\n",
        "            locations = movies_country['country'],\n",
        "            locationmode='country names',\n",
        "            z = movies_country['type'],\n",
        "            text =movies_country['country'],\n",
        "            autocolorscale =True,\n",
        "            reversescale = False,\n",
        "            zauto = True,\n",
        "            colorscale = 'RdBu',\n",
        "            marker = dict(\n",
        "                line = dict(\n",
        "                    color = 'rgb(0,0,0)',\n",
        "                    width = 0.5)\n",
        "            ),\n",
        "            colorbar = dict(\n",
        "                title = 'Total Content',\n",
        "                tickprefix = '')\n",
        "        )\n",
        "\n",
        "data = [trace]\n",
        "layout = go.Layout(\n",
        "    title = 'Number of Movies produced by Country',\n",
        "    geo = dict(\n",
        "        showframe = True,\n",
        "        showlakes = False,\n",
        "        showcoastlines = True,\n",
        "        projection = dict(type = 'orthographic')\n",
        "    )\n",
        ")\n",
        "\n",
        "fig = go.Figure(data=data, layout=layout)\n",
        "fig.show()"
      ]
    },
    {
      "cell_type": "markdown",
      "metadata": {
        "id": "yeA2vIHnHyea"
      },
      "source": [
        "## 2.3 Number of TV Show produced by Country"
      ]
    },
    {
      "cell_type": "code",
      "execution_count": null,
      "metadata": {
        "id": "7fqnTcegyisk"
      },
      "outputs": [],
      "source": [
        "# Number of TV Show produced by Country\n",
        "tvshow_country=country[country[\"type\"] == \"TV Show\"]\n",
        "tvshow_country=tvshow_country.groupby('country')['type'].count().reset_index()"
      ]
    },
    {
      "cell_type": "code",
      "execution_count": null,
      "metadata": {
        "id": "tWE8WgHWyxmR"
      },
      "outputs": [],
      "source": [
        "#total tvshow per country\n",
        "sns.set_theme()\n",
        "trace = go.Choropleth(\n",
        "            locations = tvshow_country['country'],\n",
        "            locationmode='country names',\n",
        "            z = tvshow_country['type'],\n",
        "            text =tvshow_country['country'],\n",
        "            reversescale = False,\n",
        "            zauto = True,\n",
        "            colorscale = 'Rainbow',\n",
        "            marker = dict(\n",
        "                line = dict(\n",
        "                    color = 'rgb(0,0,0)',\n",
        "                    width = 0.5)\n",
        "            ),\n",
        "            colorbar = dict(\n",
        "                title = 'Total Content',\n",
        "                tickprefix = '')\n",
        "        )\n",
        "\n",
        "data = [trace]\n",
        "layout = go.Layout(\n",
        "    title = 'Number of TV Show produced by Country',\n",
        "    geo = dict(\n",
        "        showframe = True,\n",
        "        showlakes = False,\n",
        "        showcoastlines = True,\n",
        "        projection = dict(type = 'orthographic')\n",
        "    )\n",
        ")\n",
        "\n",
        "fig = go.Figure(data=data, layout=layout)\n",
        "fig.show()"
      ]
    },
    {
      "cell_type": "markdown",
      "metadata": {
        "id": "vsGu96t60Dfc"
      },
      "source": [
        "## 2.4 Average Movie Duration by Country"
      ]
    },
    {
      "cell_type": "code",
      "execution_count": null,
      "metadata": {
        "id": "l3ZAuyqr0rAZ"
      },
      "outputs": [],
      "source": [
        "# Average Movie Duration by Country\n",
        "movies_country=country[country[\"type\"] == \"Movie\"]\n",
        "movies_country['duration']=movies_country['duration'].str.replace('min','').astype(int)\n",
        "movies_duration=movies_country.groupby('country')['duration'].mean().reset_index()"
      ]
    },
    {
      "cell_type": "code",
      "execution_count": null,
      "metadata": {
        "id": "ZPqTHMKB1UfB"
      },
      "outputs": [],
      "source": [
        "# average movie duration per country\n",
        "sns.set_theme()\n",
        "trace = go.Choropleth(\n",
        "            locations = movies_duration['country'],\n",
        "            locationmode='country names',\n",
        "            z = movies_duration['duration'],\n",
        "            text =movies_duration['country'],\n",
        "            reversescale = False,\n",
        "            zauto = True,\n",
        "            colorscale = 'Rainbow',\n",
        "            marker = dict(\n",
        "                line = dict(\n",
        "                    color = 'rgb(0,0,0)',\n",
        "                    width = 0.5)\n",
        "            ),\n",
        "            colorbar = dict(\n",
        "                title = 'Total Content',\n",
        "                tickprefix = '')\n",
        "        )\n",
        "\n",
        "data = [trace]\n",
        "layout = go.Layout(\n",
        "    title = 'Average Movie Duration by Country',\n",
        "    geo = dict(\n",
        "        showframe = True,\n",
        "        showlakes = False,\n",
        "        showcoastlines = True,\n",
        "\n",
        "    )\n",
        ")\n",
        "\n",
        "fig = go.Figure(data=data, layout=layout)\n",
        "fig.show()"
      ]
    },
    {
      "cell_type": "markdown",
      "metadata": {
        "id": "JqDjH8poRc-E"
      },
      "source": [
        "## 2.5 Country wise Rating trend"
      ]
    },
    {
      "cell_type": "code",
      "execution_count": null,
      "metadata": {
        "id": "De4_3HRceTWE"
      },
      "outputs": [],
      "source": [
        "#getting country wise rating trend\n",
        "rating_country=country.groupby(['country','rating'])['type'].count().reset_index()\n",
        "rating_country=rating_country[rating_country['country']!='']"
      ]
    },
    {
      "cell_type": "code",
      "execution_count": null,
      "metadata": {
        "id": "XjwuOHe0tglt"
      },
      "outputs": [],
      "source": [
        "## visualization with for loop\n",
        "j=list(rating_country['country'].unique())\n",
        "for i in j:\n",
        "# Set the figure size\n",
        "    plt.figure(figsize=(5, 5))\n",
        "    data=rating_country[rating_country['country']==i]\n",
        "# plot a bar chart\n",
        "    sns.barplot(\n",
        "       y=data['rating'],\n",
        "       x=data['type'],\n",
        "       data=rating_country,\n",
        "       estimator=sum,\n",
        "       color='darksalmon').set(\n",
        "          xlabel ='Productions',title=i)"
      ]
    },
    {
      "cell_type": "code",
      "execution_count": null,
      "metadata": {
        "id": "_-jWBOtCfC2T"
      },
      "outputs": [],
      "source": [
        "# visualization with bubble chart\n",
        "rating_country.rename(columns = {'type':'Production'}, inplace = True)\n",
        "fig = px.scatter(rating_country, x='Production', y='Production',\n",
        "\t         size=\"Production\", color=\"country\",\n",
        "                 hover_name=\"rating\", hover_data=['country','rating','Production'],log_x=True, size_max=60)\n",
        "fig.show()"
      ]
    },
    {
      "cell_type": "markdown",
      "metadata": {
        "id": "jadJoVbOIK9n"
      },
      "source": [
        "## 2.6 Country wise Genres trend"
      ]
    },
    {
      "cell_type": "code",
      "execution_count": null,
      "metadata": {
        "id": "_k1oS4xfIFfT"
      },
      "outputs": [],
      "source": [
        "#getting country wise genres trend\n",
        "genres_country=country.copy()\n",
        "genres_country['listed_in'] = genres_country['listed_in'].str.split(\",\")\n",
        "genres_country = genres_country.explode(\"listed_in\").reset_index()\n",
        "genres_country['listed_in']=genres_country['listed_in'].str.replace(' ','')\n",
        "genres_country=genres_country.groupby(['country','listed_in'])['type'].count().reset_index()"
      ]
    },
    {
      "cell_type": "code",
      "execution_count": null,
      "metadata": {
        "id": "srhFLcjSM1DK"
      },
      "outputs": [],
      "source": [
        "## visualization with for loop\n",
        "k=list(genres_country['country'].unique())\n",
        "for i in k:\n",
        "# Set the figure size\n",
        "    plt.figure(figsize=(7, 7))\n",
        "    data=genres_country[genres_country['country']==i]\n",
        "# plot a bar chart\n",
        "    sns.barplot(\n",
        "       y=data['listed_in'],\n",
        "       x=data['type'],\n",
        "       data=rating_country,\n",
        "       estimator=sum,\n",
        "       color=(0.5,0.1,0.5,0.6)).set(\n",
        "          xlabel ='Productions',title=i)"
      ]
    },
    {
      "cell_type": "code",
      "execution_count": null,
      "metadata": {
        "id": "99O6V3aNZ2t9"
      },
      "outputs": [],
      "source": [
        "# visualization with bubble chart\n",
        "genres_country.rename(columns = {'type':'Production'}, inplace = True)\n",
        "fig = px.scatter(genres_country, x='Production', y='Production',\n",
        "\t         size=\"Production\", color=\"country\",\n",
        "                 hover_name=\"listed_in\", hover_data=['country','listed_in','Production'],log_x=True, size_max=60)\n",
        "fig.show()"
      ]
    },
    {
      "cell_type": "markdown",
      "metadata": {
        "id": "9ungh6W5O-_8"
      },
      "source": [
        "# **(3) Is Netflix has increasingly focusing on TV rather than movies in recent years.**"
      ]
    },
    {
      "cell_type": "code",
      "execution_count": null,
      "metadata": {
        "id": "Et2NSeAP1z0c"
      },
      "outputs": [],
      "source": [
        "## convert the year added to get final df for year added\n",
        "recent=df.copy()\n",
        "recent.dropna(subset=['date_added'],inplace=True)\n",
        "recent['year_added']=recent['year_added'].astype(int)"
      ]
    },
    {
      "cell_type": "code",
      "execution_count": null,
      "metadata": {
        "id": "LWGU2v9NUDGV"
      },
      "outputs": [],
      "source": [
        "# Movies and Tv Show added per year\n",
        "recent_year=recent['year_added'].value_counts().reset_index()"
      ]
    },
    {
      "cell_type": "code",
      "execution_count": null,
      "metadata": {
        "colab": {
          "base_uri": "https://localhost:8080/",
          "height": 396
        },
        "id": "HzNcxl_n_P5X",
        "outputId": "3040a7fd-c52c-465d-f0b2-1c86dd64bdc9"
      },
      "outputs": [
        {
          "output_type": "display_data",
          "data": {
            "text/plain": [
              "<Figure size 1200x400 with 1 Axes>"
            ],
            "image/png": "[encoded data removed]"
          },
          "metadata": {}
        }
      ],
      "source": [
        "# visualization with line chart\n",
        "fig = plt.figure(figsize = (12, 4))\n",
        "sns.lineplot(x=\"index\", y=\"year_added\", data=recent_year)\n",
        "plt.show()"
      ]
    },
    {
      "cell_type": "markdown",
      "metadata": {
        "id": "hxOeWXvq4TmC"
      },
      "source": [
        "\n",
        "## **Insight :**\n",
        "### Netflix content has increased frequently in recent years since 2016"
      ]
    },
    {
      "cell_type": "code",
      "execution_count": null,
      "metadata": {
        "id": "_ubYPveAcOhV"
      },
      "outputs": [],
      "source": [
        "# Movies and Tv Show added per year\n",
        "recent_tvshows = recent[recent[\"type\"] == \"TV Show\"]\n",
        "recent_movies = recent[recent[\"type\"] == \"Movie\"]\n",
        "recent_movies =recent_movies['year_added'].value_counts().sort_values( ascending=False).reset_index()\n",
        "recent_movies.rename(columns = {'index':'year', 'year_added':'movies',\n",
        "                              }, inplace = True)\n",
        "recent_tvshows =recent_tvshows['year_added'].value_counts().sort_values( ascending=False).reset_index()\n",
        "recent_tvshows.rename(columns = {'index':'year', 'year_added':'tvshow',\n",
        "                              }, inplace = True)\n",
        "recent_year_final=pd.merge(recent_movies,recent_tvshows,how='left')\n",
        "recent_year_final['tvshow']=recent_year_final['tvshow'].fillna(0).astype(int)\n",
        "recent_year_final=recent_year_final.sort_values( by='year',ascending=False).reset_index()"
      ]
    },
    {
      "cell_type": "code",
      "execution_count": null,
      "metadata": {
        "id": "_ihEFaCECR6f"
      },
      "outputs": [],
      "source": [
        "# visualization with line chart\n",
        "fig = px.line(recent_year_final, x='year', y=['movies','tvshow'], markers=True)\n",
        "fig.show()"
      ]
    },
    {
      "cell_type": "markdown",
      "metadata": {
        "id": "VU68_9tN4p4f"
      },
      "source": [
        "## **Insight :**\n",
        "### Netflix Movis and TV Show has increased frequently in recent years since 2016"
      ]
    },
    {
      "cell_type": "code",
      "execution_count": null,
      "metadata": {
        "colab": {
          "base_uri": "https://localhost:8080/",
          "height": 488
        },
        "id": "6GUaOg327-a_",
        "outputId": "c1fecc4d-d2f0-42c0-acb4-8cd8169518c1"
      },
      "outputs": [
        {
          "output_type": "execute_result",
          "data": {
            "text/plain": [
              "    index  year  movies  tvshow\n",
              "0       5  2021      88      29\n",
              "1       1  2020    1312     697\n",
              "2       0  2019    1497     656\n",
              "3       2  2018    1255     430\n",
              "4       3  2017     864     361\n",
              "5       4  2016     258     185\n",
              "6       6  2015      58      30\n",
              "7       7  2014      19       6\n",
              "8       9  2013       6       5\n",
              "9      10  2012       3       0\n",
              "10      8  2011      13       0\n",
              "11     12  2010       1       0\n",
              "12     11  2009       2       0\n",
              "13     13  2008       1       1"
            ],
            "text/html": [
              "\n",
              "  <div id=\"df-74fd1859-5fe6-475b-ab8e-9f27fac7068e\">\n",
              "    <div class=\"colab-df-container\">\n",
              "      <div>\n",
              "<style scoped>\n",
              "    .dataframe tbody tr th:only-of-type {\n",
              "        vertical-align: middle;\n",
              "    }\n",
              "\n",
              "    .dataframe tbody tr th {\n",
              "        vertical-align: top;\n",
              "    }\n",
              "\n",
              "    .dataframe thead th {\n",
              "        text-align: right;\n",
              "    }\n",
              "</style>\n",
              "<table border=\"1\" class=\"dataframe\">\n",
              "  <thead>\n",
              "    <tr style=\"text-align: right;\">\n",
              "      <th></th>\n",
              "      <th>index</th>\n",
              "      <th>year</th>\n",
              "      <th>movies</th>\n",
              "      <th>tvshow</th>\n",
              "    </tr>\n",
              "  </thead>\n",
              "  <tbody>\n",
              "    <tr>\n",
              "      <th>0</th>\n",
              "      <td>5</td>\n",
              "      <td>2021</td>\n",
              "      <td>88</td>\n",
              "      <td>29</td>\n",
              "    </tr>\n",
              "    <tr>\n",
              "      <th>1</th>\n",
              "      <td>1</td>\n",
              "      <td>2020</td>\n",
              "      <td>1312</td>\n",
              "      <td>697</td>\n",
              "    </tr>\n",
              "    <tr>\n",
              "      <th>2</th>\n",
              "      <td>0</td>\n",
              "      <td>2019</td>\n",
              "      <td>1497</td>\n",
              "      <td>656</td>\n",
              "    </tr>\n",
              "    <tr>\n",
              "      <th>3</th>\n",
              "      <td>2</td>\n",
              "      <td>2018</td>\n",
              "      <td>1255</td>\n",
              "      <td>430</td>\n",
              "    </tr>\n",
              "    <tr>\n",
              "      <th>4</th>\n",
              "      <td>3</td>\n",
              "      <td>2017</td>\n",
              "      <td>864</td>\n",
              "      <td>361</td>\n",
              "    </tr>\n",
              "    <tr>\n",
              "      <th>5</th>\n",
              "      <td>4</td>\n",
              "      <td>2016</td>\n",
              "      <td>258</td>\n",
              "      <td>185</td>\n",
              "    </tr>\n",
              "    <tr>\n",
              "      <th>6</th>\n",
              "      <td>6</td>\n",
              "      <td>2015</td>\n",
              "      <td>58</td>\n",
              "      <td>30</td>\n",
              "    </tr>\n",
              "    <tr>\n",
              "      <th>7</th>\n",
              "      <td>7</td>\n",
              "      <td>2014</td>\n",
              "      <td>19</td>\n",
              "      <td>6</td>\n",
              "    </tr>\n",
              "    <tr>\n",
              "      <th>8</th>\n",
              "      <td>9</td>\n",
              "      <td>2013</td>\n",
              "      <td>6</td>\n",
              "      <td>5</td>\n",
              "    </tr>\n",
              "    <tr>\n",
              "      <th>9</th>\n",
              "      <td>10</td>\n",
              "      <td>2012</td>\n",
              "      <td>3</td>\n",
              "      <td>0</td>\n",
              "    </tr>\n",
              "    <tr>\n",
              "      <th>10</th>\n",
              "      <td>8</td>\n",
              "      <td>2011</td>\n",
              "      <td>13</td>\n",
              "      <td>0</td>\n",
              "    </tr>\n",
              "    <tr>\n",
              "      <th>11</th>\n",
              "      <td>12</td>\n",
              "      <td>2010</td>\n",
              "      <td>1</td>\n",
              "      <td>0</td>\n",
              "    </tr>\n",
              "    <tr>\n",
              "      <th>12</th>\n",
              "      <td>11</td>\n",
              "      <td>2009</td>\n",
              "      <td>2</td>\n",
              "      <td>0</td>\n",
              "    </tr>\n",
              "    <tr>\n",
              "      <th>13</th>\n",
              "      <td>13</td>\n",
              "      <td>2008</td>\n",
              "      <td>1</td>\n",
              "      <td>1</td>\n",
              "    </tr>\n",
              "  </tbody>\n",
              "</table>\n",
              "</div>\n",
              "      <button class=\"colab-df-convert\" onclick=\"convertToInteractive('df-74fd1859-5fe6-475b-ab8e-9f27fac7068e')\"\n",
              "              title=\"Convert this dataframe to an interactive table.\"\n",
              "              style=\"display:none;\">\n",
              "        \n",
              "  <svg xmlns=\"http://www.w3.org/2000/svg\" height=\"24px\"viewBox=\"0 0 24 24\"\n",
              "       width=\"24px\">\n",
              "    <path d=\"M0 0h24v24H0V0z\" fill=\"none\"/>\n",
              "    <path d=\"M18.56 5.44l.94 2.06.94-2.06 2.06-.94-2.06-.94-.94-2.06-.94 2.06-2.06.94zm-11 1L8.5 8.5l.94-2.06 2.06-.94-2.06-.94L8.5 2.5l-.94 2.06-2.06.94zm10 10l.94 2.06.94-2.06 2.06-.94-2.06-.94-.94-2.06-.94 2.06-2.06.94z\"/><path d=\"M17.41 7.96l-1.37-1.37c-.4-.4-.92-.59-1.43-.59-.52 0-1.04.2-1.43.59L10.3 9.45l-7.72 7.72c-.78.78-.78 2.05 0 2.83L4 21.41c.39.39.9.59 1.41.59.51 0 1.02-.2 1.41-.59l7.78-7.78 2.81-2.81c.8-.78.8-2.07 0-2.86zM5.41 20L4 18.59l7.72-7.72 1.47 1.35L5.41 20z\"/>\n",
              "  </svg>\n",
              "      </button>\n",
              "      \n",
              "  <style>\n",
              "    .colab-df-container {\n",
              "      display:flex;\n",
              "      flex-wrap:wrap;\n",
              "      gap: 12px;\n",
              "    }\n",
              "\n",
              "    .colab-df-convert {\n",
              "      background-color: #E8F0FE;\n",
              "      border: none;\n",
              "      border-radius: 50%;\n",
              "      cursor: pointer;\n",
              "      display: none;\n",
              "      fill: #1967D2;\n",
              "      height: 32px;\n",
              "      padding: 0 0 0 0;\n",
              "      width: 32px;\n",
              "    }\n",
              "\n",
              "    .colab-df-convert:hover {\n",
              "      background-color: #E2EBFA;\n",
              "      box-shadow: 0px 1px 2px rgba(60, 64, 67, 0.3), 0px 1px 3px 1px rgba(60, 64, 67, 0.15);\n",
              "      fill: #174EA6;\n",
              "    }\n",
              "\n",
              "    [theme=dark] .colab-df-convert {\n",
              "      background-color: #3B4455;\n",
              "      fill: #D2E3FC;\n",
              "    }\n",
              "\n",
              "    [theme=dark] .colab-df-convert:hover {\n",
              "      background-color: #434B5C;\n",
              "      box-shadow: 0px 1px 3px 1px rgba(0, 0, 0, 0.15);\n",
              "      filter: drop-shadow(0px 1px 2px rgba(0, 0, 0, 0.3));\n",
              "      fill: #FFFFFF;\n",
              "    }\n",
              "  </style>\n",
              "\n",
              "      <script>\n",
              "        const buttonEl =\n",
              "          document.querySelector('#df-74fd1859-5fe6-475b-ab8e-9f27fac7068e button.colab-df-convert');\n",
              "        buttonEl.style.display =\n",
              "          google.colab.kernel.accessAllowed ? 'block' : 'none';\n",
              "\n",
              "        async function convertToInteractive(key) {\n",
              "          const element = document.querySelector('#df-74fd1859-5fe6-475b-ab8e-9f27fac7068e');\n",
              "          const dataTable =\n",
              "            await google.colab.kernel.invokeFunction('convertToInteractive',\n",
              "                                                     [key], {});\n",
              "          if (!dataTable) return;\n",
              "\n",
              "          const docLinkHtml = 'Like what you see? Visit the ' +\n",
              "            '<a target=\"_blank\" href=https://colab.research.google.com/notebooks/data_table.ipynb>data table notebook</a>'\n",
              "            + ' to learn more about interactive tables.';\n",
              "          element.innerHTML = '';\n",
              "          dataTable['output_type'] = 'display_data';\n",
              "          await google.colab.output.renderOutput(dataTable, element);\n",
              "          const docLink = document.createElement('div');\n",
              "          docLink.innerHTML = docLinkHtml;\n",
              "          element.appendChild(docLink);\n",
              "        }\n",
              "      </script>\n",
              "    </div>\n",
              "  </div>\n",
              "  "
            ]
          },
          "metadata": {},
          "execution_count": 56
        }
      ],
      "source": [
        "## Movies and Tv Show added per year data\n",
        "recent_year_final"
      ]
    },
    {
      "cell_type": "code",
      "execution_count": null,
      "metadata": {
        "id": "2s7qRzt2C7tW"
      },
      "outputs": [],
      "source": [
        "# comparison between recent year and previous year\n",
        "recent_year_changes1=pd.DataFrame(recent_year_final[recent_year_final['year']<2018].sum())\n",
        "recent_year_changes1=recent_year_changes1.transpose()\n",
        "recent_year_changes2=pd.DataFrame(recent_year_final[recent_year_final['year']>=2018].sum())\n",
        "recent_year_changes2=recent_year_changes2.transpose()\n",
        "recent_year_changes=pd.concat([recent_year_changes1,recent_year_changes2],axis=0)\n",
        "recent_year_changes=recent_year_changes.drop(['index','year'],axis=1)\n",
        "recent_year_changes.insert(0, \"year\", ['previous years','recent years'], True)"
      ]
    },
    {
      "cell_type": "code",
      "execution_count": null,
      "metadata": {
        "id": "r2m6COPKG0cr"
      },
      "outputs": [],
      "source": [
        "# Percentage\n",
        "recent_year_changes['movies_percentage_change']=recent_year_changes['movies'].pct_change()*100\n",
        "recent_year_changes['tvshow_percentage_change']=recent_year_changes['tvshow'].pct_change()*100"
      ]
    },
    {
      "cell_type": "code",
      "execution_count": null,
      "metadata": {
        "colab": {
          "base_uri": "https://localhost:8080/",
          "height": 112
        },
        "id": "Fzmjv3lnPzIz",
        "outputId": "3b69b8fa-cf1d-4f95-94e3-0b9ab6bf7bcb"
      },
      "outputs": [
        {
          "output_type": "execute_result",
          "data": {
            "text/plain": [
              "             year  movies  tvshow  movies_percentage_change  \\\n",
              "0  previous years    1225     588                       NaN   \n",
              "0    recent years    4152    1812                238.938776   \n",
              "\n",
              "   tvshow_percentage_change  \n",
              "0                       NaN  \n",
              "0                208.163265  "
            ],
            "text/html": [
              "\n",
              "  <div id=\"df-747d840b-818c-4372-87eb-5b45c25c54a1\">\n",
              "    <div class=\"colab-df-container\">\n",
              "      <div>\n",
              "<style scoped>\n",
              "    .dataframe tbody tr th:only-of-type {\n",
              "        vertical-align: middle;\n",
              "    }\n",
              "\n",
              "    .dataframe tbody tr th {\n",
              "        vertical-align: top;\n",
              "    }\n",
              "\n",
              "    .dataframe thead th {\n",
              "        text-align: right;\n",
              "    }\n",
              "</style>\n",
              "<table border=\"1\" class=\"dataframe\">\n",
              "  <thead>\n",
              "    <tr style=\"text-align: right;\">\n",
              "      <th></th>\n",
              "      <th>year</th>\n",
              "      <th>movies</th>\n",
              "      <th>tvshow</th>\n",
              "      <th>movies_percentage_change</th>\n",
              "      <th>tvshow_percentage_change</th>\n",
              "    </tr>\n",
              "  </thead>\n",
              "  <tbody>\n",
              "    <tr>\n",
              "      <th>0</th>\n",
              "      <td>previous years</td>\n",
              "      <td>1225</td>\n",
              "      <td>588</td>\n",
              "      <td>NaN</td>\n",
              "      <td>NaN</td>\n",
              "    </tr>\n",
              "    <tr>\n",
              "      <th>0</th>\n",
              "      <td>recent years</td>\n",
              "      <td>4152</td>\n",
              "      <td>1812</td>\n",
              "      <td>238.938776</td>\n",
              "      <td>208.163265</td>\n",
              "    </tr>\n",
              "  </tbody>\n",
              "</table>\n",
              "</div>\n",
              "      <button class=\"colab-df-convert\" onclick=\"convertToInteractive('df-747d840b-818c-4372-87eb-5b45c25c54a1')\"\n",
              "              title=\"Convert this dataframe to an interactive table.\"\n",
              "              style=\"display:none;\">\n",
              "        \n",
              "  <svg xmlns=\"http://www.w3.org/2000/svg\" height=\"24px\"viewBox=\"0 0 24 24\"\n",
              "       width=\"24px\">\n",
              "    <path d=\"M0 0h24v24H0V0z\" fill=\"none\"/>\n",
              "    <path d=\"M18.56 5.44l.94 2.06.94-2.06 2.06-.94-2.06-.94-.94-2.06-.94 2.06-2.06.94zm-11 1L8.5 8.5l.94-2.06 2.06-.94-2.06-.94L8.5 2.5l-.94 2.06-2.06.94zm10 10l.94 2.06.94-2.06 2.06-.94-2.06-.94-.94-2.06-.94 2.06-2.06.94z\"/><path d=\"M17.41 7.96l-1.37-1.37c-.4-.4-.92-.59-1.43-.59-.52 0-1.04.2-1.43.59L10.3 9.45l-7.72 7.72c-.78.78-.78 2.05 0 2.83L4 21.41c.39.39.9.59 1.41.59.51 0 1.02-.2 1.41-.59l7.78-7.78 2.81-2.81c.8-.78.8-2.07 0-2.86zM5.41 20L4 18.59l7.72-7.72 1.47 1.35L5.41 20z\"/>\n",
              "  </svg>\n",
              "      </button>\n",
              "      \n",
              "  <style>\n",
              "    .colab-df-container {\n",
              "      display:flex;\n",
              "      flex-wrap:wrap;\n",
              "      gap: 12px;\n",
              "    }\n",
              "\n",
              "    .colab-df-convert {\n",
              "      background-color: #E8F0FE;\n",
              "      border: none;\n",
              "      border-radius: 50%;\n",
              "      cursor: pointer;\n",
              "      display: none;\n",
              "      fill: #1967D2;\n",
              "      height: 32px;\n",
              "      padding: 0 0 0 0;\n",
              "      width: 32px;\n",
              "    }\n",
              "\n",
              "    .colab-df-convert:hover {\n",
              "      background-color: #E2EBFA;\n",
              "      box-shadow: 0px 1px 2px rgba(60, 64, 67, 0.3), 0px 1px 3px 1px rgba(60, 64, 67, 0.15);\n",
              "      fill: #174EA6;\n",
              "    }\n",
              "\n",
              "    [theme=dark] .colab-df-convert {\n",
              "      background-color: #3B4455;\n",
              "      fill: #D2E3FC;\n",
              "    }\n",
              "\n",
              "    [theme=dark] .colab-df-convert:hover {\n",
              "      background-color: #434B5C;\n",
              "      box-shadow: 0px 1px 3px 1px rgba(0, 0, 0, 0.15);\n",
              "      filter: drop-shadow(0px 1px 2px rgba(0, 0, 0, 0.3));\n",
              "      fill: #FFFFFF;\n",
              "    }\n",
              "  </style>\n",
              "\n",
              "      <script>\n",
              "        const buttonEl =\n",
              "          document.querySelector('#df-747d840b-818c-4372-87eb-5b45c25c54a1 button.colab-df-convert');\n",
              "        buttonEl.style.display =\n",
              "          google.colab.kernel.accessAllowed ? 'block' : 'none';\n",
              "\n",
              "        async function convertToInteractive(key) {\n",
              "          const element = document.querySelector('#df-747d840b-818c-4372-87eb-5b45c25c54a1');\n",
              "          const dataTable =\n",
              "            await google.colab.kernel.invokeFunction('convertToInteractive',\n",
              "                                                     [key], {});\n",
              "          if (!dataTable) return;\n",
              "\n",
              "          const docLinkHtml = 'Like what you see? Visit the ' +\n",
              "            '<a target=\"_blank\" href=https://colab.research.google.com/notebooks/data_table.ipynb>data table notebook</a>'\n",
              "            + ' to learn more about interactive tables.';\n",
              "          element.innerHTML = '';\n",
              "          dataTable['output_type'] = 'display_data';\n",
              "          await google.colab.output.renderOutput(dataTable, element);\n",
              "          const docLink = document.createElement('div');\n",
              "          docLink.innerHTML = docLinkHtml;\n",
              "          element.appendChild(docLink);\n",
              "        }\n",
              "      </script>\n",
              "    </div>\n",
              "  </div>\n",
              "  "
            ]
          },
          "metadata": {},
          "execution_count": 59
        }
      ],
      "source": [
        "# comparison between recent year and previous year data\n",
        "recent_year_changes"
      ]
    },
    {
      "cell_type": "markdown",
      "metadata": {
        "id": "gfE9RtD_41BT"
      },
      "source": [
        "## **Insight :**\n",
        "### Netflix Movies Have Grown By 238% Over The Last Years\n",
        "### Netflix TV Show Have Grown By 208% Over The Last Years"
      ]
    },
    {
      "cell_type": "code",
      "execution_count": null,
      "metadata": {
        "id": "ioj03i2PbQWT"
      },
      "outputs": [],
      "source": [
        "# visualization with pie chart\n",
        "piechart=recent_year_changes[recent_year_changes['year']=='recent years']\n",
        "piechart=piechart.drop(['movies','year',\t'tvshow'],axis=1)\n",
        "labels = 'movies_percentage_change' , 'tvshow_percentage_change'\n",
        "sizes = piechart.iloc[0]\n",
        "colors = [ \"#7570B3\",\"#1B9E77\"]\n",
        "explode = (0.1, 0.0)\n",
        "plt.pie(sizes, explode=explode, labels=labels, colors=colors,\n",
        "        autopct='%1.1f%%', shadow=True, startangle=100)\n",
        "plt.axis('equal')\n",
        "plt.title(\"Is Netflix has increasingly focusing on TV rather than movies in recent years\",fontsize=20)\n",
        "plt.plot()\n",
        "fig=plt.gcf()\n",
        "fig.set_size_inches(5,5)\n",
        "plt.show()"
      ]
    },
    {
      "cell_type": "markdown",
      "metadata": {
        "id": "dOIBrgTG5aE7"
      },
      "source": [
        "## **Insight :**\n",
        "##Netflix has increased movies as well as TV shows in recent years"
      ]
    },
    {
      "cell_type": "markdown",
      "metadata": {
        "id": "hscnwmWhWLue"
      },
      "source": [
        "## **Missing Values/Null Values**"
      ]
    },
    {
      "cell_type": "code",
      "execution_count": null,
      "metadata": {
        "colab": {
          "base_uri": "https://localhost:8080/"
        },
        "id": "hnMsRw2TWNaH",
        "outputId": "461745ac-9c0b-4335-d41a-68625012f0ad"
      },
      "outputs": [
        {
          "output_type": "execute_result",
          "data": {
            "text/plain": [
              "show_id            0\n",
              "type               0\n",
              "title              0\n",
              "director        2389\n",
              "cast             718\n",
              "country          507\n",
              "date_added        10\n",
              "release_year       0\n",
              "rating             7\n",
              "duration           0\n",
              "listed_in          0\n",
              "description        0\n",
              "year_added        10\n",
              "dtype: int64"
            ]
          },
          "metadata": {},
          "execution_count": 61
        }
      ],
      "source": [
        "# Checking missing values\n",
        "df.isnull().sum()"
      ]
    },
    {
      "cell_type": "code",
      "execution_count": null,
      "metadata": {
        "colab": {
          "base_uri": "https://localhost:8080/"
        },
        "id": "yE1YddXrWiE9",
        "outputId": "3cdd8528-dab2-4c8c-9434-b545a34f324d"
      },
      "outputs": [
        {
          "output_type": "execute_result",
          "data": {
            "text/plain": [
              "director        30.68\n",
              "cast             9.22\n",
              "country          6.51\n",
              "date_added       0.13\n",
              "year_added       0.13\n",
              "rating           0.09\n",
              "show_id          0.00\n",
              "type             0.00\n",
              "title            0.00\n",
              "release_year     0.00\n",
              "duration         0.00\n",
              "listed_in        0.00\n",
              "description      0.00\n",
              "dtype: float64"
            ]
          },
          "metadata": {},
          "execution_count": 62
        }
      ],
      "source": [
        "# missing values percentage\n",
        "round(df.isnull().sum()/len(df)*100,2).sort_values(ascending=False)"
      ]
    },
    {
      "cell_type": "markdown",
      "metadata": {
        "id": "rge2F-R-6F8u"
      },
      "source": [
        "## director column contains more than 30% null values"
      ]
    },
    {
      "cell_type": "code",
      "execution_count": null,
      "metadata": {
        "id": "ZIIihLAHa2lz"
      },
      "outputs": [],
      "source": [
        "# Visualizing the missing values using barplot\n",
        "msno.bar(df,sort='ascending',figsize=(10,5),fontsize=11)"
      ]
    },
    {
      "cell_type": "code",
      "execution_count": null,
      "metadata": {
        "id": "gca3-w2EWyKo"
      },
      "outputs": [],
      "source": [
        "# Visualizing the missing values using Heatmap\n",
        "null_mask = df.isnull()\n",
        "plt.figure(figsize=(10, 6))\n",
        "sns.heatmap(null_mask, cmap='viridis', cbar=True)\n",
        "plt.title('Null Values Visualization')\n",
        "plt.show()"
      ]
    },
    {
      "cell_type": "markdown",
      "metadata": {
        "id": "J57SzU1Uc-xq"
      },
      "source": [
        "## As we saw there are null values in columns. we are replacing missing values."
      ]
    },
    {
      "cell_type": "code",
      "execution_count": null,
      "metadata": {
        "id": "9dcNAC03dBXb"
      },
      "outputs": [],
      "source": [
        "# Drop Director column from dataset\n",
        "df.drop(['director'],axis=1,inplace=True)\n",
        "# Drop null values from date_added and rating columns\n",
        "df.dropna(subset=['date_added','rating'],inplace=True)\n",
        "# fill null values in cast and coutry columns\n",
        "df['cast'].fillna('',inplace=True)\n",
        "df['country'].fillna('',inplace=True)"
      ]
    },
    {
      "cell_type": "markdown",
      "metadata": {
        "id": "UHvEwEz26Sh8"
      },
      "source": [
        "\n",
        "### Drop director column from dataset because director column contains more than 30% null values\n",
        "### Drop null values ​​from data_added and rating column as there are too few null values ​​present in this column\n",
        "### fill null values in cast and country columns"
      ]
    },
    {
      "cell_type": "markdown",
      "metadata": {
        "id": "5i_W915Bgtw8"
      },
      "source": [
        "# **(4) Clustering similar content by matching text-based features**"
      ]
    },
    {
      "cell_type": "code",
      "execution_count": null,
      "metadata": {
        "colab": {
          "base_uri": "https://localhost:8080/"
        },
        "id": "JOXslIMCnaKC",
        "outputId": "aa1cfd27-0f32-4231-e663-2907100ca1b7"
      },
      "outputs": [
        {
          "output_type": "stream",
          "name": "stdout",
          "text": [
            "<class 'pandas.core.frame.DataFrame'>\n",
            "Int64Index: 7770 entries, 0 to 7786\n",
            "Data columns (total 12 columns):\n",
            " #   Column        Non-Null Count  Dtype         \n",
            "---  ------        --------------  -----         \n",
            " 0   show_id       7770 non-null   object        \n",
            " 1   type          7770 non-null   object        \n",
            " 2   title         7770 non-null   object        \n",
            " 3   cast          7770 non-null   object        \n",
            " 4   country       7770 non-null   object        \n",
            " 5   date_added    7770 non-null   datetime64[ns]\n",
            " 6   release_year  7770 non-null   int64         \n",
            " 7   rating        7770 non-null   object        \n",
            " 8   duration      7770 non-null   object        \n",
            " 9   listed_in     7770 non-null   object        \n",
            " 10  description   7770 non-null   object        \n",
            " 11  year_added    7770 non-null   float64       \n",
            "dtypes: datetime64[ns](1), float64(1), int64(1), object(9)\n",
            "memory usage: 789.1+ KB\n"
          ]
        }
      ],
      "source": [
        "# Checking info of data\n",
        "df.info()"
      ]
    },
    {
      "cell_type": "markdown",
      "metadata": {
        "id": "IywbOt-8pKH-"
      },
      "source": [
        "## 4.1 Checking word length for genres and description column"
      ]
    },
    {
      "cell_type": "code",
      "execution_count": null,
      "metadata": {
        "colab": {
          "base_uri": "https://localhost:8080/",
          "height": 434
        },
        "id": "jkSzXlpZokoD",
        "outputId": "9b1f641d-94e4-4cf5-cabb-517568be824b"
      },
      "outputs": [
        {
          "output_type": "display_data",
          "data": {
            "text/plain": [
              "<Figure size 640x480 with 1 Axes>"
            ],
            "image/png": "[encoded data removed]"
          },
          "metadata": {}
        }
      ],
      "source": [
        "# Checking word length for description column\n",
        "description_len  = [len(x) for x in df['description']]\n",
        "description_len = np.array(description_len)\n",
        "plt.hist(description_len)\n",
        "plt.show()"
      ]
    },
    {
      "cell_type": "code",
      "execution_count": null,
      "metadata": {
        "colab": {
          "base_uri": "https://localhost:8080/",
          "height": 434
        },
        "id": "QXHZDkGgsYTC",
        "outputId": "be07bd0f-86b5-4618-fa0a-8a2bedde065f"
      },
      "outputs": [
        {
          "output_type": "display_data",
          "data": {
            "text/plain": [
              "<Figure size 640x480 with 1 Axes>"
            ],
            "image/png": "[encoded data removed]"
          },
          "metadata": {}
        }
      ],
      "source": [
        "# Checking word length for genres column\n",
        "description_len  = [len(x) for x in df['listed_in']]\n",
        "description_len = np.array(description_len)\n",
        "plt.hist(description_len)\n",
        "plt.show()"
      ]
    },
    {
      "cell_type": "markdown",
      "metadata": {
        "id": "tYEeth_APYrO"
      },
      "source": [
        "## 4.2 Text preprocessing"
      ]
    },
    {
      "cell_type": "code",
      "execution_count": null,
      "metadata": {
        "id": "09wNIq2vn_Kc"
      },
      "outputs": [],
      "source": [
        "# appending listed_in and description column to single text column to work with\n",
        "df['text_clustering']=df['listed_in']+' '+df['description']"
      ]
    },
    {
      "cell_type": "code",
      "execution_count": null,
      "metadata": {
        "colab": {
          "base_uri": "https://localhost:8080/",
          "height": 53
        },
        "id": "ZbBggOYxogmv",
        "outputId": "b54a7b58-23f5-42af-9c10-c39a1ad46c32"
      },
      "outputs": [
        {
          "output_type": "execute_result",
          "data": {
            "text/plain": [
              "'International TV Shows, TV Dramas, TV Sci-Fi & Fantasy In a future where the elite inhabit an island paradise far from the crowded slums, you get one chance to join the 3% saved from squalor.'"
            ],
            "application/vnd.google.colaboratory.intrinsic+json": {
              "type": "string"
            }
          },
          "metadata": {},
          "execution_count": 70
        }
      ],
      "source": [
        "df['text_clustering'][0]"
      ]
    },
    {
      "cell_type": "markdown",
      "metadata": {
        "id": "H0oQObBNQDbq"
      },
      "source": [
        "## 4.3 Remove punctuations"
      ]
    },
    {
      "cell_type": "code",
      "execution_count": null,
      "metadata": {
        "id": "VrMm8rWqsbkF"
      },
      "outputs": [],
      "source": [
        "# function to remove punctuations\n",
        "def punctuation(string):\n",
        "  return re.sub(r'[^\\w\\s]','',string)\n",
        "df['text_clustering']=df['text_clustering'].apply(punctuation)"
      ]
    },
    {
      "cell_type": "code",
      "execution_count": null,
      "metadata": {
        "colab": {
          "base_uri": "https://localhost:8080/",
          "height": 53
        },
        "id": "DXl1pVmwtxvS",
        "outputId": "0dc2725f-08c8-40d1-bf85-0da976462988"
      },
      "outputs": [
        {
          "output_type": "execute_result",
          "data": {
            "text/plain": [
              "'International TV Shows TV Dramas TV SciFi  Fantasy In a future where the elite inhabit an island paradise far from the crowded slums you get one chance to join the 3 saved from squalor'"
            ],
            "application/vnd.google.colaboratory.intrinsic+json": {
              "type": "string"
            }
          },
          "metadata": {},
          "execution_count": 72
        }
      ],
      "source": [
        "df['text_clustering'][0]"
      ]
    },
    {
      "cell_type": "markdown",
      "metadata": {
        "id": "QneKsZx0QLSo"
      },
      "source": [
        "## 4.4 Remove stopwords and lower case"
      ]
    },
    {
      "cell_type": "code",
      "execution_count": null,
      "metadata": {
        "id": "p5arD8P5t5XN"
      },
      "outputs": [],
      "source": [
        "# lower case\n",
        "df['text_clustering']=df['text_clustering'].str.lower()"
      ]
    },
    {
      "cell_type": "code",
      "execution_count": null,
      "metadata": {
        "colab": {
          "base_uri": "https://localhost:8080/"
        },
        "id": "wbkrjPC9RC_G",
        "outputId": "daea973b-45ef-49d9-877d-3679eb58dac8"
      },
      "outputs": [
        {
          "output_type": "stream",
          "name": "stderr",
          "text": [
            "[nltk_data] Downloading package stopwords to /root/nltk_data...\n",
            "[nltk_data]   Package stopwords is already up-to-date!\n",
            "[nltk_data] Downloading package punkt to /root/nltk_data...\n",
            "[nltk_data]   Package punkt is already up-to-date!\n"
          ]
        },
        {
          "output_type": "execute_result",
          "data": {
            "text/plain": [
              "True"
            ]
          },
          "metadata": {},
          "execution_count": 74
        }
      ],
      "source": [
        "# nlp module Library\n",
        "import nltk\n",
        "nltk.download('stopwords')\n",
        "from nltk.corpus import stopwords\n",
        "from nltk.tokenize import word_tokenize\n",
        "from nltk.stem.snowball import SnowballStemmer\n",
        "nltk.download('punkt')"
      ]
    },
    {
      "cell_type": "code",
      "execution_count": null,
      "metadata": {
        "id": "3jDJ3afouJ4k"
      },
      "outputs": [],
      "source": [
        "# function to remove stop words\n",
        "stop_words = set(stopwords.words('english'))\n",
        "def remove_stop_words(sentence):\n",
        "  words = sentence.split()\n",
        "  # Use a list comprehension to remove stop words\n",
        "  filtered_words = [word for word in words if word not in stop_words]\n",
        "  # Join the filtered words back into a sentence\n",
        "  return ' '.join(filtered_words)"
      ]
    },
    {
      "cell_type": "code",
      "execution_count": null,
      "metadata": {
        "id": "LpsQ1iv_gcuC"
      },
      "outputs": [],
      "source": [
        "df['text_']=df['text_clustering'].apply(remove_stop_words)"
      ]
    },
    {
      "cell_type": "code",
      "execution_count": null,
      "metadata": {
        "colab": {
          "base_uri": "https://localhost:8080/",
          "height": 35
        },
        "id": "aB7VBphAhBt0",
        "outputId": "4eeda19e-1c85-4c44-e177-fa369cb3fb1c"
      },
      "outputs": [
        {
          "output_type": "execute_result",
          "data": {
            "text/plain": [
              "'international tv shows tv dramas tv scifi fantasy future elite inhabit island paradise far crowded slums get one chance join 3 saved squalor'"
            ],
            "application/vnd.google.colaboratory.intrinsic+json": {
              "type": "string"
            }
          },
          "metadata": {},
          "execution_count": 77
        }
      ],
      "source": [
        "df['text_'][0]"
      ]
    },
    {
      "cell_type": "markdown",
      "metadata": {
        "id": "RPC3mvOyRf70"
      },
      "source": [
        "## 4.5 Stemming"
      ]
    },
    {
      "cell_type": "code",
      "execution_count": null,
      "metadata": {
        "id": "gvF0wq5AeC8T"
      },
      "outputs": [],
      "source": [
        "## function for Stemming\n",
        "stemmer=PorterStemmer()\n",
        "def stemming(text):\n",
        "    '''a function which stems each word in the given text'''\n",
        "    text = [stemmer.stem(word) for word in text.split()]\n",
        "    return \" \".join(text)"
      ]
    },
    {
      "cell_type": "code",
      "execution_count": null,
      "metadata": {
        "id": "wWD6Rvp9g-15"
      },
      "outputs": [],
      "source": [
        "df['text_']=df['text_'].apply(stemming)"
      ]
    },
    {
      "cell_type": "code",
      "execution_count": null,
      "metadata": {
        "colab": {
          "base_uri": "https://localhost:8080/",
          "height": 35
        },
        "id": "JDZPPX4NhJqn",
        "outputId": "f34fc712-9c24-42a3-92c6-c591b44ff59f"
      },
      "outputs": [
        {
          "output_type": "execute_result",
          "data": {
            "text/plain": [
              "'intern tv show tv drama tv scifi fantasi futur elit inhabit island paradis far crowd slum get one chanc join 3 save squalor'"
            ],
            "application/vnd.google.colaboratory.intrinsic+json": {
              "type": "string"
            }
          },
          "metadata": {},
          "execution_count": 80
        }
      ],
      "source": [
        "df['text_'][0]"
      ]
    },
    {
      "cell_type": "markdown",
      "metadata": {
        "id": "P4BLU-w4R22m"
      },
      "source": [
        "## 4.6 TFIDF Vectorization"
      ]
    },
    {
      "cell_type": "code",
      "execution_count": null,
      "metadata": {
        "id": "Ef7STG4Qh6wM"
      },
      "outputs": [],
      "source": [
        "# Vectorization:\n",
        "vectorizer = TfidfVectorizer(max_features=10000)\n",
        "X= vectorizer.fit_transform(df['text_'])"
      ]
    },
    {
      "cell_type": "code",
      "execution_count": null,
      "metadata": {
        "colab": {
          "base_uri": "https://localhost:8080/"
        },
        "id": "-YFdFfiYkcNz",
        "outputId": "35ee941d-4cb2-43f9-b11d-306a2c9f4787"
      },
      "outputs": [
        {
          "output_type": "execute_result",
          "data": {
            "text/plain": [
              "<7770x10000 sparse matrix of type '<class 'numpy.float64'>'\n",
              "\twith 133014 stored elements in Compressed Sparse Row format>"
            ]
          },
          "metadata": {},
          "execution_count": 82
        }
      ],
      "source": [
        "X"
      ]
    },
    {
      "cell_type": "markdown",
      "metadata": {
        "id": "kQSTqzp7HOWb"
      },
      "source": [
        "## 4.7 Dimensionality reduction"
      ]
    },
    {
      "cell_type": "code",
      "execution_count": null,
      "metadata": {
        "colab": {
          "base_uri": "https://localhost:8080/",
          "height": 75
        },
        "id": "JWTA8Auhk-Ra",
        "outputId": "85e5a207-ef9f-48d8-ad3a-df915bc23777"
      },
      "outputs": [
        {
          "output_type": "execute_result",
          "data": {
            "text/plain": [
              "PCA()"
            ],
            "text/html": [
              "<style>#sk-container-id-1 {color: black;background-color: white;}#sk-container-id-1 pre{padding: 0;}#sk-container-id-1 div.sk-toggleable {background-color: white;}#sk-container-id-1 label.sk-toggleable__label {cursor: pointer;display: block;width: 100%;margin-bottom: 0;padding: 0.3em;box-sizing: border-box;text-align: center;}#sk-container-id-1 label.sk-toggleable__label-arrow:before {content: \"▸\";float: left;margin-right: 0.25em;color: #696969;}#sk-container-id-1 label.sk-toggleable__label-arrow:hover:before {color: black;}#sk-container-id-1 div.sk-estimator:hover label.sk-toggleable__label-arrow:before {color: black;}#sk-container-id-1 div.sk-toggleable__content {max-height: 0;max-width: 0;overflow: hidden;text-align: left;background-color: #f0f8ff;}#sk-container-id-1 div.sk-toggleable__content pre {margin: 0.2em;color: black;border-radius: 0.25em;background-color: #f0f8ff;}#sk-container-id-1 input.sk-toggleable__control:checked~div.sk-toggleable__content {max-height: 200px;max-width: 100%;overflow: auto;}#sk-container-id-1 input.sk-toggleable__control:checked~label.sk-toggleable__label-arrow:before {content: \"▾\";}#sk-container-id-1 div.sk-estimator input.sk-toggleable__control:checked~label.sk-toggleable__label {background-color: #d4ebff;}#sk-container-id-1 div.sk-label input.sk-toggleable__control:checked~label.sk-toggleable__label {background-color: #d4ebff;}#sk-container-id-1 input.sk-hidden--visually {border: 0;clip: rect(1px 1px 1px 1px);clip: rect(1px, 1px, 1px, 1px);height: 1px;margin: -1px;overflow: hidden;padding: 0;position: absolute;width: 1px;}#sk-container-id-1 div.sk-estimator {font-family: monospace;background-color: #f0f8ff;border: 1px dotted black;border-radius: 0.25em;box-sizing: border-box;margin-bottom: 0.5em;}#sk-container-id-1 div.sk-estimator:hover {background-color: #d4ebff;}#sk-container-id-1 div.sk-parallel-item::after {content: \"\";width: 100%;border-bottom: 1px solid gray;flex-grow: 1;}#sk-container-id-1 div.sk-label:hover label.sk-toggleable__label {background-color: #d4ebff;}#sk-container-id-1 div.sk-serial::before {content: \"\";position: absolute;border-left: 1px solid gray;box-sizing: border-box;top: 0;bottom: 0;left: 50%;z-index: 0;}#sk-container-id-1 div.sk-serial {display: flex;flex-direction: column;align-items: center;background-color: white;padding-right: 0.2em;padding-left: 0.2em;position: relative;}#sk-container-id-1 div.sk-item {position: relative;z-index: 1;}#sk-container-id-1 div.sk-parallel {display: flex;align-items: stretch;justify-content: center;background-color: white;position: relative;}#sk-container-id-1 div.sk-item::before, #sk-container-id-1 div.sk-parallel-item::before {content: \"\";position: absolute;border-left: 1px solid gray;box-sizing: border-box;top: 0;bottom: 0;left: 50%;z-index: -1;}#sk-container-id-1 div.sk-parallel-item {display: flex;flex-direction: column;z-index: 1;position: relative;background-color: white;}#sk-container-id-1 div.sk-parallel-item:first-child::after {align-self: flex-end;width: 50%;}#sk-container-id-1 div.sk-parallel-item:last-child::after {align-self: flex-start;width: 50%;}#sk-container-id-1 div.sk-parallel-item:only-child::after {width: 0;}#sk-container-id-1 div.sk-dashed-wrapped {border: 1px dashed gray;margin: 0 0.4em 0.5em 0.4em;box-sizing: border-box;padding-bottom: 0.4em;background-color: white;}#sk-container-id-1 div.sk-label label {font-family: monospace;font-weight: bold;display: inline-block;line-height: 1.2em;}#sk-container-id-1 div.sk-label-container {text-align: center;}#sk-container-id-1 div.sk-container {/* jupyter's `normalize.less` sets `[hidden] { display: none; }` but bootstrap.min.css set `[hidden] { display: none !important; }` so we also need the `!important` here to be able to override the default hidden behavior on the sphinx rendered scikit-learn.org. See: https://github.com/scikit-learn/scikit-learn/issues/21755 */display: inline-block !important;position: relative;}#sk-container-id-1 div.sk-text-repr-fallback {display: none;}</style><div id=\"sk-container-id-1\" class=\"sk-top-container\"><div class=\"sk-text-repr-fallback\"><pre>PCA()</pre><b>In a Jupyter environment, please rerun this cell to show the HTML representation or trust the notebook. <br />On GitHub, the HTML representation is unable to render, please try loading this page with nbviewer.org.</b></div><div class=\"sk-container\" hidden><div class=\"sk-item\"><div class=\"sk-estimator sk-toggleable\"><input class=\"sk-toggleable__control sk-hidden--visually\" id=\"sk-estimator-id-1\" type=\"checkbox\" checked><label for=\"sk-estimator-id-1\" class=\"sk-toggleable__label sk-toggleable__label-arrow\">PCA</label><div class=\"sk-toggleable__content\"><pre>PCA()</pre></div></div></div></div></div>"
            ]
          },
          "metadata": {},
          "execution_count": 83
        }
      ],
      "source": [
        "# PCA\n",
        "transformer = PCA()\n",
        "transformer.fit(X.toarray())"
      ]
    },
    {
      "cell_type": "code",
      "execution_count": null,
      "metadata": {
        "colab": {
          "base_uri": "https://localhost:8080/",
          "height": 490
        },
        "id": "HOil13ykl9XB",
        "outputId": "96d135a7-2c36-4c2e-dffb-16cbe2e4e100"
      },
      "outputs": [
        {
          "output_type": "execute_result",
          "data": {
            "text/plain": [
              "<matplotlib.lines.Line2D at 0x7f85509bc760>"
            ]
          },
          "metadata": {},
          "execution_count": 84
        },
        {
          "output_type": "display_data",
          "data": {
            "text/plain": [
              "<Figure size 1000x500 with 1 Axes>"
            ],
            "image/png": "[encoded data removed]"
          },
          "metadata": {}
        }
      ],
      "source": [
        "# PCA Cumulative Explained Variance VS Number of Components\n",
        "plt.figure(figsize=(10,5))\n",
        "plt.plot(np.cumsum(transformer.explained_variance_ratio_))\n",
        "plt.xlabel('number of components')\n",
        "plt.ylabel('cumulative explained variance')\n",
        "plt.axhline(y= 0.88, color='red', linestyle='--')\n",
        "plt.axvline(x= 3000, color='green', linestyle='--')"
      ]
    },
    {
      "cell_type": "markdown",
      "metadata": {
        "id": "F0iSqFan7-c2"
      },
      "source": [
        "## As a result, we can pull the top 3000 components out of the model to make it simpler and less dimensional while still being able to account for more than 88% of variance."
      ]
    },
    {
      "cell_type": "code",
      "execution_count": null,
      "metadata": {
        "colab": {
          "base_uri": "https://localhost:8080/"
        },
        "id": "baRtg8OPpQ9q",
        "outputId": "9c91d41c-c7b2-4044-f629-fdcb65a25a5c"
      },
      "outputs": [
        {
          "output_type": "execute_result",
          "data": {
            "text/plain": [
              "(7770, 3000)"
            ]
          },
          "metadata": {},
          "execution_count": 85
        }
      ],
      "source": [
        "# reducing the dimensions to 3000 using pca\n",
        "transformer = PCA(n_components=3000)\n",
        "transformer.fit(X.toarray())\n",
        "X_transformed = transformer.transform(X.toarray())\n",
        "X_transformed.shape"
      ]
    },
    {
      "cell_type": "code",
      "execution_count": null,
      "metadata": {
        "colab": {
          "base_uri": "https://localhost:8080/"
        },
        "id": "Jct3IDvCL6n0",
        "outputId": "a0075118-8729-47db-f95f-d40808f4aa51"
      },
      "outputs": [
        {
          "output_type": "execute_result",
          "data": {
            "text/plain": [
              "array([[ 0.19995114, -0.02252385, -0.03327842, ...,  0.00594529,\n",
              "         0.0030472 ,  0.00097113],\n",
              "       [-0.06628524, -0.04000562,  0.0106751 , ...,  0.00469119,\n",
              "         0.00195953, -0.00448638],\n",
              "       [-0.0838412 , -0.06283845, -0.00820336, ...,  0.00163658,\n",
              "        -0.00122645,  0.00421295],\n",
              "       ...,\n",
              "       [-0.11423088,  0.29623611,  0.19469225, ...,  0.00343019,\n",
              "         0.00163814,  0.00047644],\n",
              "       [ 0.12517519,  0.02107247, -0.01124392, ..., -0.02043632,\n",
              "         0.0038987 , -0.01176531],\n",
              "       [-0.11067017,  0.40988472,  0.21294386, ..., -0.00330834,\n",
              "         0.00243084,  0.00136294]])"
            ]
          },
          "metadata": {},
          "execution_count": 86
        }
      ],
      "source": [
        "# transformed output\n",
        "X_transformed"
      ]
    },
    {
      "cell_type": "code",
      "execution_count": null,
      "metadata": {
        "id": "SX78n5pGpY4F"
      },
      "outputs": [],
      "source": [
        "# Applying PCA\n",
        "X_vectorized = vectorizer.transform(df['text_'])\n",
        "X= transformer.transform(X_vectorized.toarray())"
      ]
    },
    {
      "cell_type": "code",
      "execution_count": null,
      "metadata": {
        "colab": {
          "base_uri": "https://localhost:8080/"
        },
        "id": "CKKYQaLHrdYz",
        "outputId": "54515932-47ee-4180-ae49-50b8f9c60445"
      },
      "outputs": [
        {
          "output_type": "execute_result",
          "data": {
            "text/plain": [
              "array([[ 0.19995114, -0.02252385, -0.03327842, ...,  0.00594529,\n",
              "         0.0030472 ,  0.00097113],\n",
              "       [-0.06628524, -0.04000562,  0.0106751 , ...,  0.00469119,\n",
              "         0.00195953, -0.00448638],\n",
              "       [-0.0838412 , -0.06283845, -0.00820336, ...,  0.00163658,\n",
              "        -0.00122645,  0.00421295],\n",
              "       ...,\n",
              "       [-0.11423088,  0.29623611,  0.19469225, ...,  0.00343019,\n",
              "         0.00163814,  0.00047644],\n",
              "       [ 0.12517519,  0.02107247, -0.01124392, ..., -0.02043632,\n",
              "         0.0038987 , -0.01176531],\n",
              "       [-0.11067017,  0.40988472,  0.21294386, ..., -0.00330834,\n",
              "         0.00243084,  0.00136294]])"
            ]
          },
          "metadata": {},
          "execution_count": 88
        }
      ],
      "source": [
        "# final output\n",
        "X"
      ]
    },
    {
      "cell_type": "markdown",
      "source": [
        "# **Model Implementation :-Hierarchical Clustering**"
      ],
      "metadata": {
        "id": "cX9netjw8htN"
      }
    },
    {
      "cell_type": "code",
      "source": [
        "linkage_matrix = linkage(X, method='ward')  # Ward's linkage method\n",
        "\n",
        "# Plot dendrogram\n",
        "plt.figure(figsize=(10, 5))\n",
        "dendrogram(linkage_matrix)\n",
        "plt.title('Hierarchical Clustering Dendrogram')\n",
        "plt.xlabel('Data Point')\n",
        "plt.ylabel('Distance')\n",
        "plt.show()"
      ],
      "metadata": {
        "colab": {
          "base_uri": "https://localhost:8080/",
          "height": 499
        },
        "id": "pP1txlJr8o1A",
        "outputId": "fbf4c9d9-3262-4ac5-f6d0-15515f48cd95"
      },
      "execution_count": null,
      "outputs": [
        {
          "output_type": "display_data",
          "data": {
            "text/plain": [
              "<Figure size 1000x500 with 1 Axes>"
            ],
            "image/png": "[encoded data removed]"
          },
          "metadata": {}
        }
      ]
    },
    {
      "cell_type": "markdown",
      "source": [
        "### Clustering the data into 5 clusters"
      ],
      "metadata": {
        "id": "r5a7QyY_9iNp"
      }
    },
    {
      "cell_type": "code",
      "source": [
        "num_clusters = 5  # Specify the desired number of clusters\n",
        "cluster_labels = AgglomerativeClustering(n_clusters=num_clusters, metric='euclidean', linkage='ward')\n",
        "cluster_labels.fit_predict(X)\n"
      ],
      "metadata": {
        "colab": {
          "base_uri": "https://localhost:8080/"
        },
        "id": "v7VFacun9VLZ",
        "outputId": "d91471e8-f590-4f6f-f5b3-d74a0c63efd2"
      },
      "execution_count": null,
      "outputs": [
        {
          "output_type": "execute_result",
          "data": {
            "text/plain": [
              "array([1, 0, 0, ..., 2, 1, 2])"
            ]
          },
          "metadata": {},
          "execution_count": 105
        }
      ]
    },
    {
      "cell_type": "code",
      "source": [
        "# Adding a  Hierarchical number attribute\n",
        "df['hierarchical_cluster_no'] = cluster_labels.labels_"
      ],
      "metadata": {
        "id": "egeBDUTa-CnS"
      },
      "execution_count": null,
      "outputs": []
    },
    {
      "cell_type": "code",
      "source": [
        "# Number of movies and tv shows in each cluster\n",
        "cluster_tvshows = df[df[\"type\"] == \"TV Show\"]\n",
        "cluster_movies = df[df[\"type\"] == \"Movie\"]\n",
        "temp_df1 = cluster_tvshows['hierarchical_cluster_no'].value_counts().reset_index()\n",
        "temp_df2 = cluster_movies['hierarchical_cluster_no'].value_counts().reset_index()\n",
        "\n",
        "\n",
        "# create trace1\n",
        "trace1 = go.Bar(\n",
        "                x = temp_df1['index'],\n",
        "                y = temp_df1['hierarchical_cluster_no'],\n",
        "                name=\"TV Shows\",\n",
        "                marker_color='indianred')\n",
        "# create trace2\n",
        "trace2 = go.Bar(\n",
        "                x = temp_df2['index'],\n",
        "                y = temp_df2['hierarchical_cluster_no'],\n",
        "                name = \"Movies\",\n",
        "                marker_color='lightsalmon')\n",
        "\n",
        "\n",
        "layout = go.Layout(title = 'Number of movies and tv shows in each cluster' , xaxis = dict(title = 'Cluster No'), yaxis = dict(title = 'Count'))\n",
        "fig = go.Figure(data = [trace1, trace2], layout = layout)\n",
        "fig.show(renderer='colab')"
      ],
      "metadata": {
        "colab": {
          "base_uri": "https://localhost:8080/",
          "height": 542
        },
        "id": "seaiZIwcCDkp",
        "outputId": "f3ab1013-a619-4cd2-91cf-d76f4576b2dd"
      },
      "execution_count": null,
      "outputs": [
        {
          "output_type": "display_data",
          "data": {
            "text/html": [
              "<html>\n",
              "<head><meta charset=\"utf-8\" /></head>\n",
              "<body>\n",
              "    <div>            <script src=\"https://cdnjs.cloudflare.com/ajax/libs/mathjax/2.7.5/MathJax.js?config=TeX-AMS-MML_SVG\"></script><script type=\"text/javascript\">if (window.MathJax && window.MathJax.Hub && window.MathJax.Hub.Config) {window.MathJax.Hub.Config({SVG: {font: \"STIX-Web\"}});}</script>                <script type=\"text/javascript\">window.PlotlyConfig = {MathJaxConfig: 'local'};</script>\n",
              "        <script src=\"https://cdn.plot.ly/plotly-2.18.2.min.js\"></script>                <div id=\"430f61bb-77e9-4bd3-8f46-da0d19a90035\" class=\"plotly-graph-div\" style=\"height:525px; width:100%;\"></div>            <script type=\"text/javascript\">                                    window.PLOTLYENV=window.PLOTLYENV || {};                                    if (document.getElementById(\"430f61bb-77e9-4bd3-8f46-da0d19a90035\")) {                    Plotly.newPlot(                        \"430f61bb-77e9-4bd3-8f46-da0d19a90035\",                        [{\"marker\":{\"color\":\"indianred\"},\"name\":\"TV Shows\",\"x\":[1,0,3,4,2],\"y\":[1022,695,609,68,4],\"type\":\"bar\"},{\"marker\":{\"color\":\"lightsalmon\"},\"name\":\"Movies\",\"x\":[0,1,4,2,3],\"y\":[4477,355,295,231,14],\"type\":\"bar\"}],                        {\"title\":{\"text\":\"Number of movies and tv shows in each cluster\"},\"xaxis\":{\"title\":{\"text\":\"Cluster No\"}},\"yaxis\":{\"title\":{\"text\":\"Count\"}},\"template\":{\"data\":{\"histogram2dcontour\":[{\"type\":\"histogram2dcontour\",\"colorbar\":{\"outlinewidth\":0,\"ticks\":\"\"},\"colorscale\":[[0.0,\"#0d0887\"],[0.1111111111111111,\"#46039f\"],[0.2222222222222222,\"#7201a8\"],[0.3333333333333333,\"#9c179e\"],[0.4444444444444444,\"#bd3786\"],[0.5555555555555556,\"#d8576b\"],[0.6666666666666666,\"#ed7953\"],[0.7777777777777778,\"#fb9f3a\"],[0.8888888888888888,\"#fdca26\"],[1.0,\"#f0f921\"]]}],\"choropleth\":[{\"type\":\"choropleth\",\"colorbar\":{\"outlinewidth\":0,\"ticks\":\"\"}}],\"histogram2d\":[{\"type\":\"histogram2d\",\"colorbar\":{\"outlinewidth\":0,\"ticks\":\"\"},\"colorscale\":[[0.0,\"#0d0887\"],[0.1111111111111111,\"#46039f\"],[0.2222222222222222,\"#7201a8\"],[0.3333333333333333,\"#9c179e\"],[0.4444444444444444,\"#bd3786\"],[0.5555555555555556,\"#d8576b\"],[0.6666666666666666,\"#ed7953\"],[0.7777777777777778,\"#fb9f3a\"],[0.8888888888888888,\"#fdca26\"],[1.0,\"#f0f921\"]]}],\"heatmap\":[{\"type\":\"heatmap\",\"colorbar\":{\"outlinewidth\":0,\"ticks\":\"\"},\"colorscale\":[[0.0,\"#0d0887\"],[0.1111111111111111,\"#46039f\"],[0.2222222222222222,\"#7201a8\"],[0.3333333333333333,\"#9c179e\"],[0.4444444444444444,\"#bd3786\"],[0.5555555555555556,\"#d8576b\"],[0.6666666666666666,\"#ed7953\"],[0.7777777777777778,\"#fb9f3a\"],[0.8888888888888888,\"#fdca26\"],[1.0,\"#f0f921\"]]}],\"heatmapgl\":[{\"type\":\"heatmapgl\",\"colorbar\":{\"outlinewidth\":0,\"ticks\":\"\"},\"colorscale\":[[0.0,\"#0d0887\"],[0.1111111111111111,\"#46039f\"],[0.2222222222222222,\"#7201a8\"],[0.3333333333333333,\"#9c179e\"],[0.4444444444444444,\"#bd3786\"],[0.5555555555555556,\"#d8576b\"],[0.6666666666666666,\"#ed7953\"],[0.7777777777777778,\"#fb9f3a\"],[0.8888888888888888,\"#fdca26\"],[1.0,\"#f0f921\"]]}],\"contourcarpet\":[{\"type\":\"contourcarpet\",\"colorbar\":{\"outlinewidth\":0,\"ticks\":\"\"}}],\"contour\":[{\"type\":\"contour\",\"colorbar\":{\"outlinewidth\":0,\"ticks\":\"\"},\"colorscale\":[[0.0,\"#0d0887\"],[0.1111111111111111,\"#46039f\"],[0.2222222222222222,\"#7201a8\"],[0.3333333333333333,\"#9c179e\"],[0.4444444444444444,\"#bd3786\"],[0.5555555555555556,\"#d8576b\"],[0.6666666666666666,\"#ed7953\"],[0.7777777777777778,\"#fb9f3a\"],[0.8888888888888888,\"#fdca26\"],[1.0,\"#f0f921\"]]}],\"surface\":[{\"type\":\"surface\",\"colorbar\":{\"outlinewidth\":0,\"ticks\":\"\"},\"colorscale\":[[0.0,\"#0d0887\"],[0.1111111111111111,\"#46039f\"],[0.2222222222222222,\"#7201a8\"],[0.3333333333333333,\"#9c179e\"],[0.4444444444444444,\"#bd3786\"],[0.5555555555555556,\"#d8576b\"],[0.6666666666666666,\"#ed7953\"],[0.7777777777777778,\"#fb9f3a\"],[0.8888888888888888,\"#fdca26\"],[1.0,\"#f0f921\"]]}],\"mesh3d\":[{\"type\":\"mesh3d\",\"colorbar\":{\"outlinewidth\":0,\"ticks\":\"\"}}],\"scatter\":[{\"fillpattern\":{\"fillmode\":\"overlay\",\"size\":10,\"solidity\":0.2},\"type\":\"scatter\"}],\"parcoords\":[{\"type\":\"parcoords\",\"line\":{\"colorbar\":{\"outlinewidth\":0,\"ticks\":\"\"}}}],\"scatterpolargl\":[{\"type\":\"scatterpolargl\",\"marker\":{\"colorbar\":{\"outlinewidth\":0,\"ticks\":\"\"}}}],\"bar\":[{\"error_x\":{\"color\":\"#2a3f5f\"},\"error_y\":{\"color\":\"#2a3f5f\"},\"marker\":{\"line\":{\"color\":\"#E5ECF6\",\"width\":0.5},\"pattern\":{\"fillmode\":\"overlay\",\"size\":10,\"solidity\":0.2}},\"type\":\"bar\"}],\"scattergeo\":[{\"type\":\"scattergeo\",\"marker\":{\"colorbar\":{\"outlinewidth\":0,\"ticks\":\"\"}}}],\"scatterpolar\":[{\"type\":\"scatterpolar\",\"marker\":{\"colorbar\":{\"outlinewidth\":0,\"ticks\":\"\"}}}],\"histogram\":[{\"marker\":{\"pattern\":{\"fillmode\":\"overlay\",\"size\":10,\"solidity\":0.2}},\"type\":\"histogram\"}],\"scattergl\":[{\"type\":\"scattergl\",\"marker\":{\"colorbar\":{\"outlinewidth\":0,\"ticks\":\"\"}}}],\"scatter3d\":[{\"type\":\"scatter3d\",\"line\":{\"colorbar\":{\"outlinewidth\":0,\"ticks\":\"\"}},\"marker\":{\"colorbar\":{\"outlinewidth\":0,\"ticks\":\"\"}}}],\"scattermapbox\":[{\"type\":\"scattermapbox\",\"marker\":{\"colorbar\":{\"outlinewidth\":0,\"ticks\":\"\"}}}],\"scatterternary\":[{\"type\":\"scatterternary\",\"marker\":{\"colorbar\":{\"outlinewidth\":0,\"ticks\":\"\"}}}],\"scattercarpet\":[{\"type\":\"scattercarpet\",\"marker\":{\"colorbar\":{\"outlinewidth\":0,\"ticks\":\"\"}}}],\"carpet\":[{\"aaxis\":{\"endlinecolor\":\"#2a3f5f\",\"gridcolor\":\"white\",\"linecolor\":\"white\",\"minorgridcolor\":\"white\",\"startlinecolor\":\"#2a3f5f\"},\"baxis\":{\"endlinecolor\":\"#2a3f5f\",\"gridcolor\":\"white\",\"linecolor\":\"white\",\"minorgridcolor\":\"white\",\"startlinecolor\":\"#2a3f5f\"},\"type\":\"carpet\"}],\"table\":[{\"cells\":{\"fill\":{\"color\":\"#EBF0F8\"},\"line\":{\"color\":\"white\"}},\"header\":{\"fill\":{\"color\":\"#C8D4E3\"},\"line\":{\"color\":\"white\"}},\"type\":\"table\"}],\"barpolar\":[{\"marker\":{\"line\":{\"color\":\"#E5ECF6\",\"width\":0.5},\"pattern\":{\"fillmode\":\"overlay\",\"size\":10,\"solidity\":0.2}},\"type\":\"barpolar\"}],\"pie\":[{\"automargin\":true,\"type\":\"pie\"}]},\"layout\":{\"autotypenumbers\":\"strict\",\"colorway\":[\"#636efa\",\"#EF553B\",\"#00cc96\",\"#ab63fa\",\"#FFA15A\",\"#19d3f3\",\"#FF6692\",\"#B6E880\",\"#FF97FF\",\"#FECB52\"],\"font\":{\"color\":\"#2a3f5f\"},\"hovermode\":\"closest\",\"hoverlabel\":{\"align\":\"left\"},\"paper_bgcolor\":\"white\",\"plot_bgcolor\":\"#E5ECF6\",\"polar\":{\"bgcolor\":\"#E5ECF6\",\"angularaxis\":{\"gridcolor\":\"white\",\"linecolor\":\"white\",\"ticks\":\"\"},\"radialaxis\":{\"gridcolor\":\"white\",\"linecolor\":\"white\",\"ticks\":\"\"}},\"ternary\":{\"bgcolor\":\"#E5ECF6\",\"aaxis\":{\"gridcolor\":\"white\",\"linecolor\":\"white\",\"ticks\":\"\"},\"baxis\":{\"gridcolor\":\"white\",\"linecolor\":\"white\",\"ticks\":\"\"},\"caxis\":{\"gridcolor\":\"white\",\"linecolor\":\"white\",\"ticks\":\"\"}},\"coloraxis\":{\"colorbar\":{\"outlinewidth\":0,\"ticks\":\"\"}},\"colorscale\":{\"sequential\":[[0.0,\"#0d0887\"],[0.1111111111111111,\"#46039f\"],[0.2222222222222222,\"#7201a8\"],[0.3333333333333333,\"#9c179e\"],[0.4444444444444444,\"#bd3786\"],[0.5555555555555556,\"#d8576b\"],[0.6666666666666666,\"#ed7953\"],[0.7777777777777778,\"#fb9f3a\"],[0.8888888888888888,\"#fdca26\"],[1.0,\"#f0f921\"]],\"sequentialminus\":[[0.0,\"#0d0887\"],[0.1111111111111111,\"#46039f\"],[0.2222222222222222,\"#7201a8\"],[0.3333333333333333,\"#9c179e\"],[0.4444444444444444,\"#bd3786\"],[0.5555555555555556,\"#d8576b\"],[0.6666666666666666,\"#ed7953\"],[0.7777777777777778,\"#fb9f3a\"],[0.8888888888888888,\"#fdca26\"],[1.0,\"#f0f921\"]],\"diverging\":[[0,\"#8e0152\"],[0.1,\"#c51b7d\"],[0.2,\"#de77ae\"],[0.3,\"#f1b6da\"],[0.4,\"#fde0ef\"],[0.5,\"#f7f7f7\"],[0.6,\"#e6f5d0\"],[0.7,\"#b8e186\"],[0.8,\"#7fbc41\"],[0.9,\"#4d9221\"],[1,\"#276419\"]]},\"xaxis\":{\"gridcolor\":\"white\",\"linecolor\":\"white\",\"ticks\":\"\",\"title\":{\"standoff\":15},\"zerolinecolor\":\"white\",\"automargin\":true,\"zerolinewidth\":2},\"yaxis\":{\"gridcolor\":\"white\",\"linecolor\":\"white\",\"ticks\":\"\",\"title\":{\"standoff\":15},\"zerolinecolor\":\"white\",\"automargin\":true,\"zerolinewidth\":2},\"scene\":{\"xaxis\":{\"backgroundcolor\":\"#E5ECF6\",\"gridcolor\":\"white\",\"linecolor\":\"white\",\"showbackground\":true,\"ticks\":\"\",\"zerolinecolor\":\"white\",\"gridwidth\":2},\"yaxis\":{\"backgroundcolor\":\"#E5ECF6\",\"gridcolor\":\"white\",\"linecolor\":\"white\",\"showbackground\":true,\"ticks\":\"\",\"zerolinecolor\":\"white\",\"gridwidth\":2},\"zaxis\":{\"backgroundcolor\":\"#E5ECF6\",\"gridcolor\":\"white\",\"linecolor\":\"white\",\"showbackground\":true,\"ticks\":\"\",\"zerolinecolor\":\"white\",\"gridwidth\":2}},\"shapedefaults\":{\"line\":{\"color\":\"#2a3f5f\"}},\"annotationdefaults\":{\"arrowcolor\":\"#2a3f5f\",\"arrowhead\":0,\"arrowwidth\":1},\"geo\":{\"bgcolor\":\"white\",\"landcolor\":\"#E5ECF6\",\"subunitcolor\":\"white\",\"showland\":true,\"showlakes\":true,\"lakecolor\":\"white\"},\"title\":{\"x\":0.05},\"mapbox\":{\"style\":\"light\"}}}},                        {\"responsive\": true}                    ).then(function(){\n",
              "                            \n",
              "var gd = document.getElementById('430f61bb-77e9-4bd3-8f46-da0d19a90035');\n",
              "var x = new MutationObserver(function (mutations, observer) {{\n",
              "        var display = window.getComputedStyle(gd).display;\n",
              "        if (!display || display === 'none') {{\n",
              "            console.log([gd, 'removed!']);\n",
              "            Plotly.purge(gd);\n",
              "            observer.disconnect();\n",
              "        }}\n",
              "}});\n",
              "\n",
              "// Listen for the removal of the full notebook cells\n",
              "var notebookContainer = gd.closest('#notebook-container');\n",
              "if (notebookContainer) {{\n",
              "    x.observe(notebookContainer, {childList: true});\n",
              "}}\n",
              "\n",
              "// Listen for the clearing of the current output cell\n",
              "var outputEl = gd.closest('.output');\n",
              "if (outputEl) {{\n",
              "    x.observe(outputEl, {childList: true});\n",
              "}}\n",
              "\n",
              "                        })                };                            </script>        </div>\n",
              "</body>\n",
              "</html>"
            ]
          },
          "metadata": {}
        }
      ]
    },
    {
      "cell_type": "markdown",
      "source": [
        "## building word cloud function for different cluster"
      ],
      "metadata": {
        "id": "uT6mV2DvFYVd"
      }
    },
    {
      "cell_type": "code",
      "source": [
        "def generate_wordcloud(algoritham_column_name,column_name):\n",
        "  k=list(df[algoritham_column_name].unique())\n",
        "  k.sort()\n",
        "  # Building a wordcloud for column\n",
        "  for i in k:\n",
        "    _0=df[df[algoritham_column_name]==i]\n",
        "    text=_0[column_name]\n",
        "    text = \" \".join(word for word in text)\n",
        "# Create stopword list:\n",
        "    stopwords = set(STOPWORDS)\n",
        "\n",
        "# Generate a word cloud image\n",
        "    wordcloud = WordCloud(stopwords=stopwords, background_color=\"black\").generate(text)\n",
        "\n",
        "# Display the generated image:\n",
        "# the matplotlib way:\n",
        "    plt.imshow(wordcloud, interpolation='bilinear')\n",
        "    plt.axis(\"off\")\n",
        "    plt.title(f'Cluster no : {i+1}')\n",
        "    plt.show()"
      ],
      "metadata": {
        "id": "klexZnitC8yp"
      },
      "execution_count": null,
      "outputs": []
    },
    {
      "cell_type": "markdown",
      "source": [
        "## Building wordclouds for different clusters built ( Hierarchical clusters )"
      ],
      "metadata": {
        "id": "jUwLMDrHGlgL"
      }
    },
    {
      "cell_type": "code",
      "source": [
        "# Building a wordcloud for listed_in column\n",
        "generate_wordcloud('hierarchical_cluster_no','listed_in')"
      ],
      "metadata": {
        "id": "FVUXG_sPEHSJ"
      },
      "execution_count": null,
      "outputs": []
    },
    {
      "cell_type": "code",
      "source": [
        "# Building a wordcloud for Description column\n",
        "generate_wordcloud('hierarchical_cluster_no','description')"
      ],
      "metadata": {
        "id": "uS5Nx3c4G2kb"
      },
      "execution_count": null,
      "outputs": []
    },
    {
      "cell_type": "code",
      "source": [
        "# Hierarchical Cluster Names\n",
        "hierarchical_cluster_names={0:'Family,International',\n",
        "                            1:'Tv Show,Kids TV',\n",
        "                            2:'Music,Documentary',\n",
        "                            3:'Love,Life',\n",
        "                            4:'Stand,Comedy',\n",
        "                             }"
      ],
      "metadata": {
        "id": "ZYrIuO-dHgr5"
      },
      "execution_count": null,
      "outputs": []
    },
    {
      "cell_type": "code",
      "source": [
        "# Adding a Hierarchical cluster name attribute\n",
        "df['hierarchical_cluster_name']=df['hierarchical_cluster_no'].map(hierarchical_cluster_names)"
      ],
      "metadata": {
        "id": "KmhezPnIIuTK"
      },
      "execution_count": null,
      "outputs": []
    },
    {
      "cell_type": "markdown",
      "source": [
        "## **Better Visualisation for Hierarchical Clusters using Plotly**"
      ],
      "metadata": {
        "id": "Q57n6uEgJIom"
      }
    },
    {
      "cell_type": "code",
      "source": [
        "# Better Visualisation for Hierarchical Clusters using Plotly\n",
        "fig = px.scatter(df, x=X[:, 0], y=X[:, 1], color='hierarchical_cluster_name',hover_name='hierarchical_cluster_no',\n",
        "                 hover_data=[ 'type', 'title', 'cast', 'country', 'date_added',\n",
        "       'release_year', 'rating', 'duration', 'listed_in','hierarchical_cluster_no'] )\n",
        "fig.update_traces(marker=dict(size=7,\n",
        "                              line=dict(width=1,\n",
        "                                        color='black')))\n",
        "fig.show()\n"
      ],
      "metadata": {
        "id": "4XEp_WtQJKGM"
      },
      "execution_count": null,
      "outputs": []
    },
    {
      "cell_type": "markdown",
      "metadata": {
        "id": "yacOpEUZrmqn"
      },
      "source": [
        "# **Model Implementation :-  K-means Clustering**"
      ]
    },
    {
      "cell_type": "markdown",
      "metadata": {
        "id": "oNRsbUp5rwae"
      },
      "source": [
        "## K Should be Known"
      ]
    },
    {
      "cell_type": "code",
      "execution_count": null,
      "metadata": {
        "id": "PpBBMrWRrgM-"
      },
      "outputs": [],
      "source": [
        "# K Should be Known\n",
        "k_values = range(2, 20)\n",
        "silhouette_scores = []\n",
        "inertias = []\n",
        "for k in k_values:\n",
        "    kmeans = KMeans(n_clusters=k,random_state=33)\n",
        "    labels = kmeans.fit_predict(X)\n",
        "    silhouette_avg = silhouette_score(X, labels)\n",
        "    silhouette_scores.append(silhouette_avg)\n",
        "    inertias.append(kmeans.inertia_)"
      ]
    },
    {
      "cell_type": "markdown",
      "metadata": {
        "id": "7ye7x9YBVZub"
      },
      "source": [
        "## Silhouette Score"
      ]
    },
    {
      "cell_type": "code",
      "execution_count": null,
      "metadata": {
        "colab": {
          "base_uri": "https://localhost:8080/",
          "height": 542
        },
        "id": "Pi9GthWbcBto",
        "outputId": "732231f2-1b47-451a-f8e8-4138f8fd0b89"
      },
      "outputs": [
        {
          "output_type": "display_data",
          "data": {
            "text/html": [
              "<html>\n",
              "<head><meta charset=\"utf-8\" /></head>\n",
              "<body>\n",
              "    <div>            <script src=\"https://cdnjs.cloudflare.com/ajax/libs/mathjax/2.7.5/MathJax.js?config=TeX-AMS-MML_SVG\"></script><script type=\"text/javascript\">if (window.MathJax && window.MathJax.Hub && window.MathJax.Hub.Config) {window.MathJax.Hub.Config({SVG: {font: \"STIX-Web\"}});}</script>                <script type=\"text/javascript\">window.PlotlyConfig = {MathJaxConfig: 'local'};</script>\n",
              "        <script src=\"https://cdn.plot.ly/plotly-2.18.2.min.js\"></script>                <div id=\"41d883ea-7c12-461c-8997-24557cc00da5\" class=\"plotly-graph-div\" style=\"height:525px; width:100%;\"></div>            <script type=\"text/javascript\">                                    window.PLOTLYENV=window.PLOTLYENV || {};                                    if (document.getElementById(\"41d883ea-7c12-461c-8997-24557cc00da5\")) {                    Plotly.newPlot(                        \"41d883ea-7c12-461c-8997-24557cc00da5\",                        [{\"hovertemplate\":\"Number of Clusters (k)=%{x}<br>Silhouette Score=%{y}<extra></extra>\",\"legendgroup\":\"\",\"line\":{\"color\":\"#636efa\",\"dash\":\"solid\"},\"marker\":{\"symbol\":\"circle\"},\"mode\":\"markers+lines\",\"name\":\"\",\"orientation\":\"v\",\"showlegend\":false,\"x\":[2,3,4,5,6,7,8,9,10,11,12,13,14,15,16,17,18,19],\"xaxis\":\"x\",\"y\":[0.010801118878072993,0.012473046139880857,0.012153899490059296,0.013390509706238903,0.011340457790673185,0.01217124186924558,0.01262080179411462,0.013806359430075887,0.014014876835336221,0.008950267007664924,0.010513461788998653,0.01028438802404081,0.010666758668341578,0.010449094307535073,0.015146879256373284,0.011104145950714336,0.010496723633615724,0.01071091060610867],\"yaxis\":\"y\",\"type\":\"scatter\"}],                        {\"template\":{\"data\":{\"histogram2dcontour\":[{\"type\":\"histogram2dcontour\",\"colorbar\":{\"outlinewidth\":0,\"ticks\":\"\"},\"colorscale\":[[0.0,\"#0d0887\"],[0.1111111111111111,\"#46039f\"],[0.2222222222222222,\"#7201a8\"],[0.3333333333333333,\"#9c179e\"],[0.4444444444444444,\"#bd3786\"],[0.5555555555555556,\"#d8576b\"],[0.6666666666666666,\"#ed7953\"],[0.7777777777777778,\"#fb9f3a\"],[0.8888888888888888,\"#fdca26\"],[1.0,\"#f0f921\"]]}],\"choropleth\":[{\"type\":\"choropleth\",\"colorbar\":{\"outlinewidth\":0,\"ticks\":\"\"}}],\"histogram2d\":[{\"type\":\"histogram2d\",\"colorbar\":{\"outlinewidth\":0,\"ticks\":\"\"},\"colorscale\":[[0.0,\"#0d0887\"],[0.1111111111111111,\"#46039f\"],[0.2222222222222222,\"#7201a8\"],[0.3333333333333333,\"#9c179e\"],[0.4444444444444444,\"#bd3786\"],[0.5555555555555556,\"#d8576b\"],[0.6666666666666666,\"#ed7953\"],[0.7777777777777778,\"#fb9f3a\"],[0.8888888888888888,\"#fdca26\"],[1.0,\"#f0f921\"]]}],\"heatmap\":[{\"type\":\"heatmap\",\"colorbar\":{\"outlinewidth\":0,\"ticks\":\"\"},\"colorscale\":[[0.0,\"#0d0887\"],[0.1111111111111111,\"#46039f\"],[0.2222222222222222,\"#7201a8\"],[0.3333333333333333,\"#9c179e\"],[0.4444444444444444,\"#bd3786\"],[0.5555555555555556,\"#d8576b\"],[0.6666666666666666,\"#ed7953\"],[0.7777777777777778,\"#fb9f3a\"],[0.8888888888888888,\"#fdca26\"],[1.0,\"#f0f921\"]]}],\"heatmapgl\":[{\"type\":\"heatmapgl\",\"colorbar\":{\"outlinewidth\":0,\"ticks\":\"\"},\"colorscale\":[[0.0,\"#0d0887\"],[0.1111111111111111,\"#46039f\"],[0.2222222222222222,\"#7201a8\"],[0.3333333333333333,\"#9c179e\"],[0.4444444444444444,\"#bd3786\"],[0.5555555555555556,\"#d8576b\"],[0.6666666666666666,\"#ed7953\"],[0.7777777777777778,\"#fb9f3a\"],[0.8888888888888888,\"#fdca26\"],[1.0,\"#f0f921\"]]}],\"contourcarpet\":[{\"type\":\"contourcarpet\",\"colorbar\":{\"outlinewidth\":0,\"ticks\":\"\"}}],\"contour\":[{\"type\":\"contour\",\"colorbar\":{\"outlinewidth\":0,\"ticks\":\"\"},\"colorscale\":[[0.0,\"#0d0887\"],[0.1111111111111111,\"#46039f\"],[0.2222222222222222,\"#7201a8\"],[0.3333333333333333,\"#9c179e\"],[0.4444444444444444,\"#bd3786\"],[0.5555555555555556,\"#d8576b\"],[0.6666666666666666,\"#ed7953\"],[0.7777777777777778,\"#fb9f3a\"],[0.8888888888888888,\"#fdca26\"],[1.0,\"#f0f921\"]]}],\"surface\":[{\"type\":\"surface\",\"colorbar\":{\"outlinewidth\":0,\"ticks\":\"\"},\"colorscale\":[[0.0,\"#0d0887\"],[0.1111111111111111,\"#46039f\"],[0.2222222222222222,\"#7201a8\"],[0.3333333333333333,\"#9c179e\"],[0.4444444444444444,\"#bd3786\"],[0.5555555555555556,\"#d8576b\"],[0.6666666666666666,\"#ed7953\"],[0.7777777777777778,\"#fb9f3a\"],[0.8888888888888888,\"#fdca26\"],[1.0,\"#f0f921\"]]}],\"mesh3d\":[{\"type\":\"mesh3d\",\"colorbar\":{\"outlinewidth\":0,\"ticks\":\"\"}}],\"scatter\":[{\"fillpattern\":{\"fillmode\":\"overlay\",\"size\":10,\"solidity\":0.2},\"type\":\"scatter\"}],\"parcoords\":[{\"type\":\"parcoords\",\"line\":{\"colorbar\":{\"outlinewidth\":0,\"ticks\":\"\"}}}],\"scatterpolargl\":[{\"type\":\"scatterpolargl\",\"marker\":{\"colorbar\":{\"outlinewidth\":0,\"ticks\":\"\"}}}],\"bar\":[{\"error_x\":{\"color\":\"#2a3f5f\"},\"error_y\":{\"color\":\"#2a3f5f\"},\"marker\":{\"line\":{\"color\":\"#E5ECF6\",\"width\":0.5},\"pattern\":{\"fillmode\":\"overlay\",\"size\":10,\"solidity\":0.2}},\"type\":\"bar\"}],\"scattergeo\":[{\"type\":\"scattergeo\",\"marker\":{\"colorbar\":{\"outlinewidth\":0,\"ticks\":\"\"}}}],\"scatterpolar\":[{\"type\":\"scatterpolar\",\"marker\":{\"colorbar\":{\"outlinewidth\":0,\"ticks\":\"\"}}}],\"histogram\":[{\"marker\":{\"pattern\":{\"fillmode\":\"overlay\",\"size\":10,\"solidity\":0.2}},\"type\":\"histogram\"}],\"scattergl\":[{\"type\":\"scattergl\",\"marker\":{\"colorbar\":{\"outlinewidth\":0,\"ticks\":\"\"}}}],\"scatter3d\":[{\"type\":\"scatter3d\",\"line\":{\"colorbar\":{\"outlinewidth\":0,\"ticks\":\"\"}},\"marker\":{\"colorbar\":{\"outlinewidth\":0,\"ticks\":\"\"}}}],\"scattermapbox\":[{\"type\":\"scattermapbox\",\"marker\":{\"colorbar\":{\"outlinewidth\":0,\"ticks\":\"\"}}}],\"scatterternary\":[{\"type\":\"scatterternary\",\"marker\":{\"colorbar\":{\"outlinewidth\":0,\"ticks\":\"\"}}}],\"scattercarpet\":[{\"type\":\"scattercarpet\",\"marker\":{\"colorbar\":{\"outlinewidth\":0,\"ticks\":\"\"}}}],\"carpet\":[{\"aaxis\":{\"endlinecolor\":\"#2a3f5f\",\"gridcolor\":\"white\",\"linecolor\":\"white\",\"minorgridcolor\":\"white\",\"startlinecolor\":\"#2a3f5f\"},\"baxis\":{\"endlinecolor\":\"#2a3f5f\",\"gridcolor\":\"white\",\"linecolor\":\"white\",\"minorgridcolor\":\"white\",\"startlinecolor\":\"#2a3f5f\"},\"type\":\"carpet\"}],\"table\":[{\"cells\":{\"fill\":{\"color\":\"#EBF0F8\"},\"line\":{\"color\":\"white\"}},\"header\":{\"fill\":{\"color\":\"#C8D4E3\"},\"line\":{\"color\":\"white\"}},\"type\":\"table\"}],\"barpolar\":[{\"marker\":{\"line\":{\"color\":\"#E5ECF6\",\"width\":0.5},\"pattern\":{\"fillmode\":\"overlay\",\"size\":10,\"solidity\":0.2}},\"type\":\"barpolar\"}],\"pie\":[{\"automargin\":true,\"type\":\"pie\"}]},\"layout\":{\"autotypenumbers\":\"strict\",\"colorway\":[\"#636efa\",\"#EF553B\",\"#00cc96\",\"#ab63fa\",\"#FFA15A\",\"#19d3f3\",\"#FF6692\",\"#B6E880\",\"#FF97FF\",\"#FECB52\"],\"font\":{\"color\":\"#2a3f5f\"},\"hovermode\":\"closest\",\"hoverlabel\":{\"align\":\"left\"},\"paper_bgcolor\":\"white\",\"plot_bgcolor\":\"#E5ECF6\",\"polar\":{\"bgcolor\":\"#E5ECF6\",\"angularaxis\":{\"gridcolor\":\"white\",\"linecolor\":\"white\",\"ticks\":\"\"},\"radialaxis\":{\"gridcolor\":\"white\",\"linecolor\":\"white\",\"ticks\":\"\"}},\"ternary\":{\"bgcolor\":\"#E5ECF6\",\"aaxis\":{\"gridcolor\":\"white\",\"linecolor\":\"white\",\"ticks\":\"\"},\"baxis\":{\"gridcolor\":\"white\",\"linecolor\":\"white\",\"ticks\":\"\"},\"caxis\":{\"gridcolor\":\"white\",\"linecolor\":\"white\",\"ticks\":\"\"}},\"coloraxis\":{\"colorbar\":{\"outlinewidth\":0,\"ticks\":\"\"}},\"colorscale\":{\"sequential\":[[0.0,\"#0d0887\"],[0.1111111111111111,\"#46039f\"],[0.2222222222222222,\"#7201a8\"],[0.3333333333333333,\"#9c179e\"],[0.4444444444444444,\"#bd3786\"],[0.5555555555555556,\"#d8576b\"],[0.6666666666666666,\"#ed7953\"],[0.7777777777777778,\"#fb9f3a\"],[0.8888888888888888,\"#fdca26\"],[1.0,\"#f0f921\"]],\"sequentialminus\":[[0.0,\"#0d0887\"],[0.1111111111111111,\"#46039f\"],[0.2222222222222222,\"#7201a8\"],[0.3333333333333333,\"#9c179e\"],[0.4444444444444444,\"#bd3786\"],[0.5555555555555556,\"#d8576b\"],[0.6666666666666666,\"#ed7953\"],[0.7777777777777778,\"#fb9f3a\"],[0.8888888888888888,\"#fdca26\"],[1.0,\"#f0f921\"]],\"diverging\":[[0,\"#8e0152\"],[0.1,\"#c51b7d\"],[0.2,\"#de77ae\"],[0.3,\"#f1b6da\"],[0.4,\"#fde0ef\"],[0.5,\"#f7f7f7\"],[0.6,\"#e6f5d0\"],[0.7,\"#b8e186\"],[0.8,\"#7fbc41\"],[0.9,\"#4d9221\"],[1,\"#276419\"]]},\"xaxis\":{\"gridcolor\":\"white\",\"linecolor\":\"white\",\"ticks\":\"\",\"title\":{\"standoff\":15},\"zerolinecolor\":\"white\",\"automargin\":true,\"zerolinewidth\":2},\"yaxis\":{\"gridcolor\":\"white\",\"linecolor\":\"white\",\"ticks\":\"\",\"title\":{\"standoff\":15},\"zerolinecolor\":\"white\",\"automargin\":true,\"zerolinewidth\":2},\"scene\":{\"xaxis\":{\"backgroundcolor\":\"#E5ECF6\",\"gridcolor\":\"white\",\"linecolor\":\"white\",\"showbackground\":true,\"ticks\":\"\",\"zerolinecolor\":\"white\",\"gridwidth\":2},\"yaxis\":{\"backgroundcolor\":\"#E5ECF6\",\"gridcolor\":\"white\",\"linecolor\":\"white\",\"showbackground\":true,\"ticks\":\"\",\"zerolinecolor\":\"white\",\"gridwidth\":2},\"zaxis\":{\"backgroundcolor\":\"#E5ECF6\",\"gridcolor\":\"white\",\"linecolor\":\"white\",\"showbackground\":true,\"ticks\":\"\",\"zerolinecolor\":\"white\",\"gridwidth\":2}},\"shapedefaults\":{\"line\":{\"color\":\"#2a3f5f\"}},\"annotationdefaults\":{\"arrowcolor\":\"#2a3f5f\",\"arrowhead\":0,\"arrowwidth\":1},\"geo\":{\"bgcolor\":\"white\",\"landcolor\":\"#E5ECF6\",\"subunitcolor\":\"white\",\"showland\":true,\"showlakes\":true,\"lakecolor\":\"white\"},\"title\":{\"x\":0.05},\"mapbox\":{\"style\":\"light\"}}},\"xaxis\":{\"anchor\":\"y\",\"domain\":[0.0,1.0],\"title\":{\"text\":\"Number of Clusters (k)\"}},\"yaxis\":{\"anchor\":\"x\",\"domain\":[0.0,1.0],\"title\":{\"text\":\"Silhouette Score\"}},\"legend\":{\"tracegroupgap\":0},\"title\":{\"text\":\"Silhouette Score for different k values\"}},                        {\"responsive\": true}                    ).then(function(){\n",
              "                            \n",
              "var gd = document.getElementById('41d883ea-7c12-461c-8997-24557cc00da5');\n",
              "var x = new MutationObserver(function (mutations, observer) {{\n",
              "        var display = window.getComputedStyle(gd).display;\n",
              "        if (!display || display === 'none') {{\n",
              "            console.log([gd, 'removed!']);\n",
              "            Plotly.purge(gd);\n",
              "            observer.disconnect();\n",
              "        }}\n",
              "}});\n",
              "\n",
              "// Listen for the removal of the full notebook cells\n",
              "var notebookContainer = gd.closest('#notebook-container');\n",
              "if (notebookContainer) {{\n",
              "    x.observe(notebookContainer, {childList: true});\n",
              "}}\n",
              "\n",
              "// Listen for the clearing of the current output cell\n",
              "var outputEl = gd.closest('.output');\n",
              "if (outputEl) {{\n",
              "    x.observe(outputEl, {childList: true});\n",
              "}}\n",
              "\n",
              "                        })                };                            </script>        </div>\n",
              "</body>\n",
              "</html>"
            ]
          },
          "metadata": {}
        }
      ],
      "source": [
        "# Silhouette Score method to find the optimal value of k\n",
        "fig = px.line( x=k_values, y=silhouette_scores, markers=True,labels={'x': 'Number of Clusters (k)',\n",
        "                                                                     'y': 'Silhouette Score',\"species\": \"Species of Iris\"},\n",
        "               title='Silhouette Score for different k values')\n",
        "fig.show()"
      ]
    },
    {
      "cell_type": "markdown",
      "metadata": {
        "id": "06AW8n8Q9NRV"
      },
      "source": [
        "## **16** clusters overall receive the highest silhouette scores."
      ]
    },
    {
      "cell_type": "markdown",
      "metadata": {
        "id": "RooBbzsBr2fI"
      },
      "source": [
        "## Elbow method"
      ]
    },
    {
      "cell_type": "code",
      "execution_count": null,
      "metadata": {
        "colab": {
          "base_uri": "https://localhost:8080/",
          "height": 542
        },
        "id": "mHZZTD92cgam",
        "outputId": "d18a0320-eea9-49b7-8725-b5e16551dead"
      },
      "outputs": [
        {
          "output_type": "display_data",
          "data": {
            "text/html": [
              "<html>\n",
              "<head><meta charset=\"utf-8\" /></head>\n",
              "<body>\n",
              "    <div>            <script src=\"https://cdnjs.cloudflare.com/ajax/libs/mathjax/2.7.5/MathJax.js?config=TeX-AMS-MML_SVG\"></script><script type=\"text/javascript\">if (window.MathJax && window.MathJax.Hub && window.MathJax.Hub.Config) {window.MathJax.Hub.Config({SVG: {font: \"STIX-Web\"}});}</script>                <script type=\"text/javascript\">window.PlotlyConfig = {MathJaxConfig: 'local'};</script>\n",
              "        <script src=\"https://cdn.plot.ly/plotly-2.18.2.min.js\"></script>                <div id=\"984eb071-d743-4124-9aee-08f7d7e9f974\" class=\"plotly-graph-div\" style=\"height:525px; width:100%;\"></div>            <script type=\"text/javascript\">                                    window.PLOTLYENV=window.PLOTLYENV || {};                                    if (document.getElementById(\"984eb071-d743-4124-9aee-08f7d7e9f974\")) {                    Plotly.newPlot(                        \"984eb071-d743-4124-9aee-08f7d7e9f974\",                        [{\"hovertemplate\":\"Number of Clusters (k)=%{x}<br>Sum of Squared Distances=%{y}<extra></extra>\",\"legendgroup\":\"\",\"line\":{\"color\":\"#636efa\",\"dash\":\"solid\"},\"marker\":{\"symbol\":\"circle\"},\"mode\":\"markers+lines\",\"name\":\"\",\"orientation\":\"v\",\"showlegend\":false,\"x\":[2,3,4,5,6,7,8,9,10,11,12,13,14,15,16,17,18,19],\"xaxis\":\"x\",\"y\":[6581.295927469241,6549.264652962096,6515.040182273746,6488.998949886647,6466.433232647561,6446.769224421288,6429.940904625821,6405.343471435521,6398.3190598240835,6390.765293242235,6370.855614170802,6361.280661163168,6354.45768723284,6349.697780466762,6328.676960027062,6333.33234371363,6322.841702698324,6314.393310967875],\"yaxis\":\"y\",\"type\":\"scatter\"}],                        {\"template\":{\"data\":{\"histogram2dcontour\":[{\"type\":\"histogram2dcontour\",\"colorbar\":{\"outlinewidth\":0,\"ticks\":\"\"},\"colorscale\":[[0.0,\"#0d0887\"],[0.1111111111111111,\"#46039f\"],[0.2222222222222222,\"#7201a8\"],[0.3333333333333333,\"#9c179e\"],[0.4444444444444444,\"#bd3786\"],[0.5555555555555556,\"#d8576b\"],[0.6666666666666666,\"#ed7953\"],[0.7777777777777778,\"#fb9f3a\"],[0.8888888888888888,\"#fdca26\"],[1.0,\"#f0f921\"]]}],\"choropleth\":[{\"type\":\"choropleth\",\"colorbar\":{\"outlinewidth\":0,\"ticks\":\"\"}}],\"histogram2d\":[{\"type\":\"histogram2d\",\"colorbar\":{\"outlinewidth\":0,\"ticks\":\"\"},\"colorscale\":[[0.0,\"#0d0887\"],[0.1111111111111111,\"#46039f\"],[0.2222222222222222,\"#7201a8\"],[0.3333333333333333,\"#9c179e\"],[0.4444444444444444,\"#bd3786\"],[0.5555555555555556,\"#d8576b\"],[0.6666666666666666,\"#ed7953\"],[0.7777777777777778,\"#fb9f3a\"],[0.8888888888888888,\"#fdca26\"],[1.0,\"#f0f921\"]]}],\"heatmap\":[{\"type\":\"heatmap\",\"colorbar\":{\"outlinewidth\":0,\"ticks\":\"\"},\"colorscale\":[[0.0,\"#0d0887\"],[0.1111111111111111,\"#46039f\"],[0.2222222222222222,\"#7201a8\"],[0.3333333333333333,\"#9c179e\"],[0.4444444444444444,\"#bd3786\"],[0.5555555555555556,\"#d8576b\"],[0.6666666666666666,\"#ed7953\"],[0.7777777777777778,\"#fb9f3a\"],[0.8888888888888888,\"#fdca26\"],[1.0,\"#f0f921\"]]}],\"heatmapgl\":[{\"type\":\"heatmapgl\",\"colorbar\":{\"outlinewidth\":0,\"ticks\":\"\"},\"colorscale\":[[0.0,\"#0d0887\"],[0.1111111111111111,\"#46039f\"],[0.2222222222222222,\"#7201a8\"],[0.3333333333333333,\"#9c179e\"],[0.4444444444444444,\"#bd3786\"],[0.5555555555555556,\"#d8576b\"],[0.6666666666666666,\"#ed7953\"],[0.7777777777777778,\"#fb9f3a\"],[0.8888888888888888,\"#fdca26\"],[1.0,\"#f0f921\"]]}],\"contourcarpet\":[{\"type\":\"contourcarpet\",\"colorbar\":{\"outlinewidth\":0,\"ticks\":\"\"}}],\"contour\":[{\"type\":\"contour\",\"colorbar\":{\"outlinewidth\":0,\"ticks\":\"\"},\"colorscale\":[[0.0,\"#0d0887\"],[0.1111111111111111,\"#46039f\"],[0.2222222222222222,\"#7201a8\"],[0.3333333333333333,\"#9c179e\"],[0.4444444444444444,\"#bd3786\"],[0.5555555555555556,\"#d8576b\"],[0.6666666666666666,\"#ed7953\"],[0.7777777777777778,\"#fb9f3a\"],[0.8888888888888888,\"#fdca26\"],[1.0,\"#f0f921\"]]}],\"surface\":[{\"type\":\"surface\",\"colorbar\":{\"outlinewidth\":0,\"ticks\":\"\"},\"colorscale\":[[0.0,\"#0d0887\"],[0.1111111111111111,\"#46039f\"],[0.2222222222222222,\"#7201a8\"],[0.3333333333333333,\"#9c179e\"],[0.4444444444444444,\"#bd3786\"],[0.5555555555555556,\"#d8576b\"],[0.6666666666666666,\"#ed7953\"],[0.7777777777777778,\"#fb9f3a\"],[0.8888888888888888,\"#fdca26\"],[1.0,\"#f0f921\"]]}],\"mesh3d\":[{\"type\":\"mesh3d\",\"colorbar\":{\"outlinewidth\":0,\"ticks\":\"\"}}],\"scatter\":[{\"fillpattern\":{\"fillmode\":\"overlay\",\"size\":10,\"solidity\":0.2},\"type\":\"scatter\"}],\"parcoords\":[{\"type\":\"parcoords\",\"line\":{\"colorbar\":{\"outlinewidth\":0,\"ticks\":\"\"}}}],\"scatterpolargl\":[{\"type\":\"scatterpolargl\",\"marker\":{\"colorbar\":{\"outlinewidth\":0,\"ticks\":\"\"}}}],\"bar\":[{\"error_x\":{\"color\":\"#2a3f5f\"},\"error_y\":{\"color\":\"#2a3f5f\"},\"marker\":{\"line\":{\"color\":\"#E5ECF6\",\"width\":0.5},\"pattern\":{\"fillmode\":\"overlay\",\"size\":10,\"solidity\":0.2}},\"type\":\"bar\"}],\"scattergeo\":[{\"type\":\"scattergeo\",\"marker\":{\"colorbar\":{\"outlinewidth\":0,\"ticks\":\"\"}}}],\"scatterpolar\":[{\"type\":\"scatterpolar\",\"marker\":{\"colorbar\":{\"outlinewidth\":0,\"ticks\":\"\"}}}],\"histogram\":[{\"marker\":{\"pattern\":{\"fillmode\":\"overlay\",\"size\":10,\"solidity\":0.2}},\"type\":\"histogram\"}],\"scattergl\":[{\"type\":\"scattergl\",\"marker\":{\"colorbar\":{\"outlinewidth\":0,\"ticks\":\"\"}}}],\"scatter3d\":[{\"type\":\"scatter3d\",\"line\":{\"colorbar\":{\"outlinewidth\":0,\"ticks\":\"\"}},\"marker\":{\"colorbar\":{\"outlinewidth\":0,\"ticks\":\"\"}}}],\"scattermapbox\":[{\"type\":\"scattermapbox\",\"marker\":{\"colorbar\":{\"outlinewidth\":0,\"ticks\":\"\"}}}],\"scatterternary\":[{\"type\":\"scatterternary\",\"marker\":{\"colorbar\":{\"outlinewidth\":0,\"ticks\":\"\"}}}],\"scattercarpet\":[{\"type\":\"scattercarpet\",\"marker\":{\"colorbar\":{\"outlinewidth\":0,\"ticks\":\"\"}}}],\"carpet\":[{\"aaxis\":{\"endlinecolor\":\"#2a3f5f\",\"gridcolor\":\"white\",\"linecolor\":\"white\",\"minorgridcolor\":\"white\",\"startlinecolor\":\"#2a3f5f\"},\"baxis\":{\"endlinecolor\":\"#2a3f5f\",\"gridcolor\":\"white\",\"linecolor\":\"white\",\"minorgridcolor\":\"white\",\"startlinecolor\":\"#2a3f5f\"},\"type\":\"carpet\"}],\"table\":[{\"cells\":{\"fill\":{\"color\":\"#EBF0F8\"},\"line\":{\"color\":\"white\"}},\"header\":{\"fill\":{\"color\":\"#C8D4E3\"},\"line\":{\"color\":\"white\"}},\"type\":\"table\"}],\"barpolar\":[{\"marker\":{\"line\":{\"color\":\"#E5ECF6\",\"width\":0.5},\"pattern\":{\"fillmode\":\"overlay\",\"size\":10,\"solidity\":0.2}},\"type\":\"barpolar\"}],\"pie\":[{\"automargin\":true,\"type\":\"pie\"}]},\"layout\":{\"autotypenumbers\":\"strict\",\"colorway\":[\"#636efa\",\"#EF553B\",\"#00cc96\",\"#ab63fa\",\"#FFA15A\",\"#19d3f3\",\"#FF6692\",\"#B6E880\",\"#FF97FF\",\"#FECB52\"],\"font\":{\"color\":\"#2a3f5f\"},\"hovermode\":\"closest\",\"hoverlabel\":{\"align\":\"left\"},\"paper_bgcolor\":\"white\",\"plot_bgcolor\":\"#E5ECF6\",\"polar\":{\"bgcolor\":\"#E5ECF6\",\"angularaxis\":{\"gridcolor\":\"white\",\"linecolor\":\"white\",\"ticks\":\"\"},\"radialaxis\":{\"gridcolor\":\"white\",\"linecolor\":\"white\",\"ticks\":\"\"}},\"ternary\":{\"bgcolor\":\"#E5ECF6\",\"aaxis\":{\"gridcolor\":\"white\",\"linecolor\":\"white\",\"ticks\":\"\"},\"baxis\":{\"gridcolor\":\"white\",\"linecolor\":\"white\",\"ticks\":\"\"},\"caxis\":{\"gridcolor\":\"white\",\"linecolor\":\"white\",\"ticks\":\"\"}},\"coloraxis\":{\"colorbar\":{\"outlinewidth\":0,\"ticks\":\"\"}},\"colorscale\":{\"sequential\":[[0.0,\"#0d0887\"],[0.1111111111111111,\"#46039f\"],[0.2222222222222222,\"#7201a8\"],[0.3333333333333333,\"#9c179e\"],[0.4444444444444444,\"#bd3786\"],[0.5555555555555556,\"#d8576b\"],[0.6666666666666666,\"#ed7953\"],[0.7777777777777778,\"#fb9f3a\"],[0.8888888888888888,\"#fdca26\"],[1.0,\"#f0f921\"]],\"sequentialminus\":[[0.0,\"#0d0887\"],[0.1111111111111111,\"#46039f\"],[0.2222222222222222,\"#7201a8\"],[0.3333333333333333,\"#9c179e\"],[0.4444444444444444,\"#bd3786\"],[0.5555555555555556,\"#d8576b\"],[0.6666666666666666,\"#ed7953\"],[0.7777777777777778,\"#fb9f3a\"],[0.8888888888888888,\"#fdca26\"],[1.0,\"#f0f921\"]],\"diverging\":[[0,\"#8e0152\"],[0.1,\"#c51b7d\"],[0.2,\"#de77ae\"],[0.3,\"#f1b6da\"],[0.4,\"#fde0ef\"],[0.5,\"#f7f7f7\"],[0.6,\"#e6f5d0\"],[0.7,\"#b8e186\"],[0.8,\"#7fbc41\"],[0.9,\"#4d9221\"],[1,\"#276419\"]]},\"xaxis\":{\"gridcolor\":\"white\",\"linecolor\":\"white\",\"ticks\":\"\",\"title\":{\"standoff\":15},\"zerolinecolor\":\"white\",\"automargin\":true,\"zerolinewidth\":2},\"yaxis\":{\"gridcolor\":\"white\",\"linecolor\":\"white\",\"ticks\":\"\",\"title\":{\"standoff\":15},\"zerolinecolor\":\"white\",\"automargin\":true,\"zerolinewidth\":2},\"scene\":{\"xaxis\":{\"backgroundcolor\":\"#E5ECF6\",\"gridcolor\":\"white\",\"linecolor\":\"white\",\"showbackground\":true,\"ticks\":\"\",\"zerolinecolor\":\"white\",\"gridwidth\":2},\"yaxis\":{\"backgroundcolor\":\"#E5ECF6\",\"gridcolor\":\"white\",\"linecolor\":\"white\",\"showbackground\":true,\"ticks\":\"\",\"zerolinecolor\":\"white\",\"gridwidth\":2},\"zaxis\":{\"backgroundcolor\":\"#E5ECF6\",\"gridcolor\":\"white\",\"linecolor\":\"white\",\"showbackground\":true,\"ticks\":\"\",\"zerolinecolor\":\"white\",\"gridwidth\":2}},\"shapedefaults\":{\"line\":{\"color\":\"#2a3f5f\"}},\"annotationdefaults\":{\"arrowcolor\":\"#2a3f5f\",\"arrowhead\":0,\"arrowwidth\":1},\"geo\":{\"bgcolor\":\"white\",\"landcolor\":\"#E5ECF6\",\"subunitcolor\":\"white\",\"showland\":true,\"showlakes\":true,\"lakecolor\":\"white\"},\"title\":{\"x\":0.05},\"mapbox\":{\"style\":\"light\"}}},\"xaxis\":{\"anchor\":\"y\",\"domain\":[0.0,1.0],\"title\":{\"text\":\"Number of Clusters (k)\"}},\"yaxis\":{\"anchor\":\"x\",\"domain\":[0.0,1.0],\"title\":{\"text\":\"Sum of Squared Distances\"}},\"legend\":{\"tracegroupgap\":0},\"title\":{\"text\":\"Elbow Method\"}},                        {\"responsive\": true}                    ).then(function(){\n",
              "                            \n",
              "var gd = document.getElementById('984eb071-d743-4124-9aee-08f7d7e9f974');\n",
              "var x = new MutationObserver(function (mutations, observer) {{\n",
              "        var display = window.getComputedStyle(gd).display;\n",
              "        if (!display || display === 'none') {{\n",
              "            console.log([gd, 'removed!']);\n",
              "            Plotly.purge(gd);\n",
              "            observer.disconnect();\n",
              "        }}\n",
              "}});\n",
              "\n",
              "// Listen for the removal of the full notebook cells\n",
              "var notebookContainer = gd.closest('#notebook-container');\n",
              "if (notebookContainer) {{\n",
              "    x.observe(notebookContainer, {childList: true});\n",
              "}}\n",
              "\n",
              "// Listen for the clearing of the current output cell\n",
              "var outputEl = gd.closest('.output');\n",
              "if (outputEl) {{\n",
              "    x.observe(outputEl, {childList: true});\n",
              "}}\n",
              "\n",
              "                        })                };                            </script>        </div>\n",
              "</body>\n",
              "</html>"
            ]
          },
          "metadata": {}
        }
      ],
      "source": [
        "# Elbow method to find the optimal value of k\n",
        "fig = px.line( x=k_values, y=inertias, markers=True,labels={'x': 'Number of Clusters (k)',\n",
        "                                                                     'y': 'Sum of Squared Distances',\"species\": \"Species of Iris\"},\n",
        "               title='Elbow Method')\n",
        "fig.show()"
      ]
    },
    {
      "cell_type": "markdown",
      "metadata": {
        "id": "rfFuw74xVgyY"
      },
      "source": [
        "## Clustering the data into **16** clusters"
      ]
    },
    {
      "cell_type": "code",
      "execution_count": null,
      "metadata": {
        "colab": {
          "base_uri": "https://localhost:8080/",
          "height": 75
        },
        "id": "2IhTepvkVsC3",
        "outputId": "d4888f7b-7b9e-434a-b6c2-c621130ce9d9"
      },
      "outputs": [
        {
          "output_type": "execute_result",
          "data": {
            "text/plain": [
              "KMeans(n_clusters=16, n_init=1, random_state=33)"
            ],
            "text/html": [
              "<style>#sk-container-id-2 {color: black;background-color: white;}#sk-container-id-2 pre{padding: 0;}#sk-container-id-2 div.sk-toggleable {background-color: white;}#sk-container-id-2 label.sk-toggleable__label {cursor: pointer;display: block;width: 100%;margin-bottom: 0;padding: 0.3em;box-sizing: border-box;text-align: center;}#sk-container-id-2 label.sk-toggleable__label-arrow:before {content: \"▸\";float: left;margin-right: 0.25em;color: #696969;}#sk-container-id-2 label.sk-toggleable__label-arrow:hover:before {color: black;}#sk-container-id-2 div.sk-estimator:hover label.sk-toggleable__label-arrow:before {color: black;}#sk-container-id-2 div.sk-toggleable__content {max-height: 0;max-width: 0;overflow: hidden;text-align: left;background-color: #f0f8ff;}#sk-container-id-2 div.sk-toggleable__content pre {margin: 0.2em;color: black;border-radius: 0.25em;background-color: #f0f8ff;}#sk-container-id-2 input.sk-toggleable__control:checked~div.sk-toggleable__content {max-height: 200px;max-width: 100%;overflow: auto;}#sk-container-id-2 input.sk-toggleable__control:checked~label.sk-toggleable__label-arrow:before {content: \"▾\";}#sk-container-id-2 div.sk-estimator input.sk-toggleable__control:checked~label.sk-toggleable__label {background-color: #d4ebff;}#sk-container-id-2 div.sk-label input.sk-toggleable__control:checked~label.sk-toggleable__label {background-color: #d4ebff;}#sk-container-id-2 input.sk-hidden--visually {border: 0;clip: rect(1px 1px 1px 1px);clip: rect(1px, 1px, 1px, 1px);height: 1px;margin: -1px;overflow: hidden;padding: 0;position: absolute;width: 1px;}#sk-container-id-2 div.sk-estimator {font-family: monospace;background-color: #f0f8ff;border: 1px dotted black;border-radius: 0.25em;box-sizing: border-box;margin-bottom: 0.5em;}#sk-container-id-2 div.sk-estimator:hover {background-color: #d4ebff;}#sk-container-id-2 div.sk-parallel-item::after {content: \"\";width: 100%;border-bottom: 1px solid gray;flex-grow: 1;}#sk-container-id-2 div.sk-label:hover label.sk-toggleable__label {background-color: #d4ebff;}#sk-container-id-2 div.sk-serial::before {content: \"\";position: absolute;border-left: 1px solid gray;box-sizing: border-box;top: 0;bottom: 0;left: 50%;z-index: 0;}#sk-container-id-2 div.sk-serial {display: flex;flex-direction: column;align-items: center;background-color: white;padding-right: 0.2em;padding-left: 0.2em;position: relative;}#sk-container-id-2 div.sk-item {position: relative;z-index: 1;}#sk-container-id-2 div.sk-parallel {display: flex;align-items: stretch;justify-content: center;background-color: white;position: relative;}#sk-container-id-2 div.sk-item::before, #sk-container-id-2 div.sk-parallel-item::before {content: \"\";position: absolute;border-left: 1px solid gray;box-sizing: border-box;top: 0;bottom: 0;left: 50%;z-index: -1;}#sk-container-id-2 div.sk-parallel-item {display: flex;flex-direction: column;z-index: 1;position: relative;background-color: white;}#sk-container-id-2 div.sk-parallel-item:first-child::after {align-self: flex-end;width: 50%;}#sk-container-id-2 div.sk-parallel-item:last-child::after {align-self: flex-start;width: 50%;}#sk-container-id-2 div.sk-parallel-item:only-child::after {width: 0;}#sk-container-id-2 div.sk-dashed-wrapped {border: 1px dashed gray;margin: 0 0.4em 0.5em 0.4em;box-sizing: border-box;padding-bottom: 0.4em;background-color: white;}#sk-container-id-2 div.sk-label label {font-family: monospace;font-weight: bold;display: inline-block;line-height: 1.2em;}#sk-container-id-2 div.sk-label-container {text-align: center;}#sk-container-id-2 div.sk-container {/* jupyter's `normalize.less` sets `[hidden] { display: none; }` but bootstrap.min.css set `[hidden] { display: none !important; }` so we also need the `!important` here to be able to override the default hidden behavior on the sphinx rendered scikit-learn.org. See: https://github.com/scikit-learn/scikit-learn/issues/21755 */display: inline-block !important;position: relative;}#sk-container-id-2 div.sk-text-repr-fallback {display: none;}</style><div id=\"sk-container-id-2\" class=\"sk-top-container\"><div class=\"sk-text-repr-fallback\"><pre>KMeans(n_clusters=16, n_init=1, random_state=33)</pre><b>In a Jupyter environment, please rerun this cell to show the HTML representation or trust the notebook. <br />On GitHub, the HTML representation is unable to render, please try loading this page with nbviewer.org.</b></div><div class=\"sk-container\" hidden><div class=\"sk-item\"><div class=\"sk-estimator sk-toggleable\"><input class=\"sk-toggleable__control sk-hidden--visually\" id=\"sk-estimator-id-2\" type=\"checkbox\" checked><label for=\"sk-estimator-id-2\" class=\"sk-toggleable__label sk-toggleable__label-arrow\">KMeans</label><div class=\"sk-toggleable__content\"><pre>KMeans(n_clusters=16, n_init=1, random_state=33)</pre></div></div></div></div></div>"
            ]
          },
          "metadata": {},
          "execution_count": 129
        }
      ],
      "source": [
        "# fitting the k means algorithm on lower features\n",
        "kmeans= KMeans(n_clusters=16, init= 'k-means++',max_iter=300, n_init=1,random_state=33)\n",
        "kmeans.fit(X)"
      ]
    },
    {
      "cell_type": "code",
      "execution_count": null,
      "metadata": {
        "id": "GiIjM300hyvO"
      },
      "outputs": [],
      "source": [
        "label = kmeans.fit_predict(X)"
      ]
    },
    {
      "cell_type": "markdown",
      "metadata": {
        "id": "0z5urPD7WIRa"
      },
      "source": [
        "## Evaluation metrics"
      ]
    },
    {
      "cell_type": "code",
      "execution_count": null,
      "metadata": {
        "colab": {
          "base_uri": "https://localhost:8080/"
        },
        "id": "V9_DfPz6V2hd",
        "outputId": "cbc99d2f-02c0-4e32-89a0-e1755a35ee6d"
      },
      "outputs": [
        {
          "output_type": "stream",
          "name": "stdout",
          "text": [
            "Inertia: 6344.807033096067\n",
            "Silhouette Score: 0.01071091060610867\n"
          ]
        }
      ],
      "source": [
        "# Evaluation metrics - distortion, Silhouette score\n",
        "inertia = kmeans.inertia_\n",
        "silhouette_avg = silhouette_score(X, labels)\n",
        "\n",
        "print(\"Inertia:\", inertia)\n",
        "print(\"Silhouette Score:\", silhouette_avg)"
      ]
    },
    {
      "cell_type": "code",
      "execution_count": null,
      "metadata": {
        "colab": {
          "base_uri": "https://localhost:8080/",
          "height": 480
        },
        "id": "8kNJYobRWybC",
        "outputId": "7ba23ed9-e767-4436-e484-6a312434c62f"
      },
      "outputs": [
        {
          "output_type": "display_data",
          "data": {
            "text/plain": [
              "<Figure size 640x480 with 1 Axes>"
            ],
            "image/png": "[encoded data removed]"
          },
          "metadata": {}
        }
      ],
      "source": [
        "# Visualize clustering results\n",
        "plt.scatter(X[:, 0], X[:, 1], c=label, cmap='viridis')\n",
        "plt.scatter(kmeans.cluster_centers_[:, 0], kmeans.cluster_centers_[:, 1], c='red', marker='x')\n",
        "plt.title('K-means Clustering Results')\n",
        "plt.xlabel('Feature 1')\n",
        "plt.ylabel('Feature 2')\n",
        "plt.show()"
      ]
    },
    {
      "cell_type": "code",
      "execution_count": null,
      "metadata": {
        "id": "xM-6rSoPfJrW"
      },
      "outputs": [],
      "source": [
        "# Visualize clustering results using Plotly visualization Library\n",
        "fig = px.scatter(df, x=X[:, 0], y=X[:, 1], color=label)\n",
        "fig.show()"
      ]
    },
    {
      "cell_type": "code",
      "execution_count": null,
      "metadata": {
        "id": "iK1V571tWLPu"
      },
      "outputs": [],
      "source": [
        "# Adding a kmeans cluster number attribute\n",
        "df['cluster_no'] = kmeans.labels_"
      ]
    },
    {
      "cell_type": "code",
      "execution_count": null,
      "metadata": {
        "colab": {
          "base_uri": "https://localhost:8080/",
          "height": 774
        },
        "id": "Wa-fI821WQq3",
        "outputId": "b48620f0-03eb-4900-a23d-1623d34e5914"
      },
      "outputs": [
        {
          "output_type": "execute_result",
          "data": {
            "text/plain": [
              "  show_id     type  title                                               cast  \\\n",
              "0      s1  TV Show     3%  João Miguel, Bianca Comparato, Michel Gomes, R...   \n",
              "1      s2    Movie   7:19  Demián Bichir, Héctor Bonilla, Oscar Serrano, ...   \n",
              "2      s3    Movie  23:59  Tedd Chan, Stella Chung, Henley Hii, Lawrence ...   \n",
              "3      s4    Movie      9  Elijah Wood, John C. Reilly, Jennifer Connelly...   \n",
              "4      s5    Movie     21  Jim Sturgess, Kevin Spacey, Kate Bosworth, Aar...   \n",
              "\n",
              "        country date_added  release_year rating   duration  \\\n",
              "0        Brazil 2020-08-14          2020  TV-MA  4 Seasons   \n",
              "1        Mexico 2016-12-23          2016  TV-MA     93 min   \n",
              "2     Singapore 2018-12-20          2011      R     78 min   \n",
              "3  UnitedStates 2017-11-16          2009  PG-13     80 min   \n",
              "4  UnitedStates 2020-01-01          2008  PG-13    123 min   \n",
              "\n",
              "                                           listed_in  \\\n",
              "0  International TV Shows, TV Dramas, TV Sci-Fi &...   \n",
              "1                       Dramas, International Movies   \n",
              "2                Horror Movies, International Movies   \n",
              "3  Action & Adventure, Independent Movies, Sci-Fi...   \n",
              "4                                             Dramas   \n",
              "\n",
              "                                         description  year_added  \\\n",
              "0  In a future where the elite inhabit an island ...      2020.0   \n",
              "1  After a devastating earthquake hits Mexico Cit...      2016.0   \n",
              "2  When an army recruit is found dead, his fellow...      2018.0   \n",
              "3  In a postapocalyptic world, rag-doll robots hi...      2017.0   \n",
              "4  A brilliant group of students become card-coun...      2020.0   \n",
              "\n",
              "                                     text_clustering  \\\n",
              "0  international tv shows tv dramas tv scifi  fan...   \n",
              "1  dramas international movies after a devastatin...   \n",
              "2  horror movies international movies when an arm...   \n",
              "3  action  adventure independent movies scifi  fa...   \n",
              "4  dramas a brilliant group of students become ca...   \n",
              "\n",
              "                                               text_  hierarchical_cluster_no  \\\n",
              "0  intern tv show tv drama tv scifi fantasi futur...                        1   \n",
              "1  drama intern movi devast earthquak hit mexico ...                        0   \n",
              "2  horror movi intern movi armi recruit found dea...                        0   \n",
              "3  action adventur independ movi scifi fantasi po...                        1   \n",
              "4  drama brilliant group student becom cardcount ...                        0   \n",
              "\n",
              "  hierarchical_cluster_name  cluster_no  \n",
              "0           Tv Show,Kids TV          15  \n",
              "1      Family,International           6  \n",
              "2      Family,International           6  \n",
              "3           Tv Show,Kids TV           2  \n",
              "4      Family,International           6  "
            ],
            "text/html": [
              "\n",
              "  <div id=\"df-365806c6-9c5b-406b-aa86-4efb100a891c\">\n",
              "    <div class=\"colab-df-container\">\n",
              "      <div>\n",
              "<style scoped>\n",
              "    .dataframe tbody tr th:only-of-type {\n",
              "        vertical-align: middle;\n",
              "    }\n",
              "\n",
              "    .dataframe tbody tr th {\n",
              "        vertical-align: top;\n",
              "    }\n",
              "\n",
              "    .dataframe thead th {\n",
              "        text-align: right;\n",
              "    }\n",
              "</style>\n",
              "<table border=\"1\" class=\"dataframe\">\n",
              "  <thead>\n",
              "    <tr style=\"text-align: right;\">\n",
              "      <th></th>\n",
              "      <th>show_id</th>\n",
              "      <th>type</th>\n",
              "      <th>title</th>\n",
              "      <th>cast</th>\n",
              "      <th>country</th>\n",
              "      <th>date_added</th>\n",
              "      <th>release_year</th>\n",
              "      <th>rating</th>\n",
              "      <th>duration</th>\n",
              "      <th>listed_in</th>\n",
              "      <th>description</th>\n",
              "      <th>year_added</th>\n",
              "      <th>text_clustering</th>\n",
              "      <th>text_</th>\n",
              "      <th>hierarchical_cluster_no</th>\n",
              "      <th>hierarchical_cluster_name</th>\n",
              "      <th>cluster_no</th>\n",
              "    </tr>\n",
              "  </thead>\n",
              "  <tbody>\n",
              "    <tr>\n",
              "      <th>0</th>\n",
              "      <td>s1</td>\n",
              "      <td>TV Show</td>\n",
              "      <td>3%</td>\n",
              "      <td>João Miguel, Bianca Comparato, Michel Gomes, R...</td>\n",
              "      <td>Brazil</td>\n",
              "      <td>2020-08-14</td>\n",
              "      <td>2020</td>\n",
              "      <td>TV-MA</td>\n",
              "      <td>4 Seasons</td>\n",
              "      <td>International TV Shows, TV Dramas, TV Sci-Fi &amp;...</td>\n",
              "      <td>In a future where the elite inhabit an island ...</td>\n",
              "      <td>2020.0</td>\n",
              "      <td>international tv shows tv dramas tv scifi  fan...</td>\n",
              "      <td>intern tv show tv drama tv scifi fantasi futur...</td>\n",
              "      <td>1</td>\n",
              "      <td>Tv Show,Kids TV</td>\n",
              "      <td>15</td>\n",
              "    </tr>\n",
              "    <tr>\n",
              "      <th>1</th>\n",
              "      <td>s2</td>\n",
              "      <td>Movie</td>\n",
              "      <td>7:19</td>\n",
              "      <td>Demián Bichir, Héctor Bonilla, Oscar Serrano, ...</td>\n",
              "      <td>Mexico</td>\n",
              "      <td>2016-12-23</td>\n",
              "      <td>2016</td>\n",
              "      <td>TV-MA</td>\n",
              "      <td>93 min</td>\n",
              "      <td>Dramas, International Movies</td>\n",
              "      <td>After a devastating earthquake hits Mexico Cit...</td>\n",
              "      <td>2016.0</td>\n",
              "      <td>dramas international movies after a devastatin...</td>\n",
              "      <td>drama intern movi devast earthquak hit mexico ...</td>\n",
              "      <td>0</td>\n",
              "      <td>Family,International</td>\n",
              "      <td>6</td>\n",
              "    </tr>\n",
              "    <tr>\n",
              "      <th>2</th>\n",
              "      <td>s3</td>\n",
              "      <td>Movie</td>\n",
              "      <td>23:59</td>\n",
              "      <td>Tedd Chan, Stella Chung, Henley Hii, Lawrence ...</td>\n",
              "      <td>Singapore</td>\n",
              "      <td>2018-12-20</td>\n",
              "      <td>2011</td>\n",
              "      <td>R</td>\n",
              "      <td>78 min</td>\n",
              "      <td>Horror Movies, International Movies</td>\n",
              "      <td>When an army recruit is found dead, his fellow...</td>\n",
              "      <td>2018.0</td>\n",
              "      <td>horror movies international movies when an arm...</td>\n",
              "      <td>horror movi intern movi armi recruit found dea...</td>\n",
              "      <td>0</td>\n",
              "      <td>Family,International</td>\n",
              "      <td>6</td>\n",
              "    </tr>\n",
              "    <tr>\n",
              "      <th>3</th>\n",
              "      <td>s4</td>\n",
              "      <td>Movie</td>\n",
              "      <td>9</td>\n",
              "      <td>Elijah Wood, John C. Reilly, Jennifer Connelly...</td>\n",
              "      <td>UnitedStates</td>\n",
              "      <td>2017-11-16</td>\n",
              "      <td>2009</td>\n",
              "      <td>PG-13</td>\n",
              "      <td>80 min</td>\n",
              "      <td>Action &amp; Adventure, Independent Movies, Sci-Fi...</td>\n",
              "      <td>In a postapocalyptic world, rag-doll robots hi...</td>\n",
              "      <td>2017.0</td>\n",
              "      <td>action  adventure independent movies scifi  fa...</td>\n",
              "      <td>action adventur independ movi scifi fantasi po...</td>\n",
              "      <td>1</td>\n",
              "      <td>Tv Show,Kids TV</td>\n",
              "      <td>2</td>\n",
              "    </tr>\n",
              "    <tr>\n",
              "      <th>4</th>\n",
              "      <td>s5</td>\n",
              "      <td>Movie</td>\n",
              "      <td>21</td>\n",
              "      <td>Jim Sturgess, Kevin Spacey, Kate Bosworth, Aar...</td>\n",
              "      <td>UnitedStates</td>\n",
              "      <td>2020-01-01</td>\n",
              "      <td>2008</td>\n",
              "      <td>PG-13</td>\n",
              "      <td>123 min</td>\n",
              "      <td>Dramas</td>\n",
              "      <td>A brilliant group of students become card-coun...</td>\n",
              "      <td>2020.0</td>\n",
              "      <td>dramas a brilliant group of students become ca...</td>\n",
              "      <td>drama brilliant group student becom cardcount ...</td>\n",
              "      <td>0</td>\n",
              "      <td>Family,International</td>\n",
              "      <td>6</td>\n",
              "    </tr>\n",
              "  </tbody>\n",
              "</table>\n",
              "</div>\n",
              "      <button class=\"colab-df-convert\" onclick=\"convertToInteractive('df-365806c6-9c5b-406b-aa86-4efb100a891c')\"\n",
              "              title=\"Convert this dataframe to an interactive table.\"\n",
              "              style=\"display:none;\">\n",
              "        \n",
              "  <svg xmlns=\"http://www.w3.org/2000/svg\" height=\"24px\"viewBox=\"0 0 24 24\"\n",
              "       width=\"24px\">\n",
              "    <path d=\"M0 0h24v24H0V0z\" fill=\"none\"/>\n",
              "    <path d=\"M18.56 5.44l.94 2.06.94-2.06 2.06-.94-2.06-.94-.94-2.06-.94 2.06-2.06.94zm-11 1L8.5 8.5l.94-2.06 2.06-.94-2.06-.94L8.5 2.5l-.94 2.06-2.06.94zm10 10l.94 2.06.94-2.06 2.06-.94-2.06-.94-.94-2.06-.94 2.06-2.06.94z\"/><path d=\"M17.41 7.96l-1.37-1.37c-.4-.4-.92-.59-1.43-.59-.52 0-1.04.2-1.43.59L10.3 9.45l-7.72 7.72c-.78.78-.78 2.05 0 2.83L4 21.41c.39.39.9.59 1.41.59.51 0 1.02-.2 1.41-.59l7.78-7.78 2.81-2.81c.8-.78.8-2.07 0-2.86zM5.41 20L4 18.59l7.72-7.72 1.47 1.35L5.41 20z\"/>\n",
              "  </svg>\n",
              "      </button>\n",
              "      \n",
              "  <style>\n",
              "    .colab-df-container {\n",
              "      display:flex;\n",
              "      flex-wrap:wrap;\n",
              "      gap: 12px;\n",
              "    }\n",
              "\n",
              "    .colab-df-convert {\n",
              "      background-color: #E8F0FE;\n",
              "      border: none;\n",
              "      border-radius: 50%;\n",
              "      cursor: pointer;\n",
              "      display: none;\n",
              "      fill: #1967D2;\n",
              "      height: 32px;\n",
              "      padding: 0 0 0 0;\n",
              "      width: 32px;\n",
              "    }\n",
              "\n",
              "    .colab-df-convert:hover {\n",
              "      background-color: #E2EBFA;\n",
              "      box-shadow: 0px 1px 2px rgba(60, 64, 67, 0.3), 0px 1px 3px 1px rgba(60, 64, 67, 0.15);\n",
              "      fill: #174EA6;\n",
              "    }\n",
              "\n",
              "    [theme=dark] .colab-df-convert {\n",
              "      background-color: #3B4455;\n",
              "      fill: #D2E3FC;\n",
              "    }\n",
              "\n",
              "    [theme=dark] .colab-df-convert:hover {\n",
              "      background-color: #434B5C;\n",
              "      box-shadow: 0px 1px 3px 1px rgba(0, 0, 0, 0.15);\n",
              "      filter: drop-shadow(0px 1px 2px rgba(0, 0, 0, 0.3));\n",
              "      fill: #FFFFFF;\n",
              "    }\n",
              "  </style>\n",
              "\n",
              "      <script>\n",
              "        const buttonEl =\n",
              "          document.querySelector('#df-365806c6-9c5b-406b-aa86-4efb100a891c button.colab-df-convert');\n",
              "        buttonEl.style.display =\n",
              "          google.colab.kernel.accessAllowed ? 'block' : 'none';\n",
              "\n",
              "        async function convertToInteractive(key) {\n",
              "          const element = document.querySelector('#df-365806c6-9c5b-406b-aa86-4efb100a891c');\n",
              "          const dataTable =\n",
              "            await google.colab.kernel.invokeFunction('convertToInteractive',\n",
              "                                                     [key], {});\n",
              "          if (!dataTable) return;\n",
              "\n",
              "          const docLinkHtml = 'Like what you see? Visit the ' +\n",
              "            '<a target=\"_blank\" href=https://colab.research.google.com/notebooks/data_table.ipynb>data table notebook</a>'\n",
              "            + ' to learn more about interactive tables.';\n",
              "          element.innerHTML = '';\n",
              "          dataTable['output_type'] = 'display_data';\n",
              "          await google.colab.output.renderOutput(dataTable, element);\n",
              "          const docLink = document.createElement('div');\n",
              "          docLink.innerHTML = docLinkHtml;\n",
              "          element.appendChild(docLink);\n",
              "        }\n",
              "      </script>\n",
              "    </div>\n",
              "  </div>\n",
              "  "
            ]
          },
          "metadata": {},
          "execution_count": 135
        }
      ],
      "source": [
        "df.head()"
      ]
    },
    {
      "cell_type": "code",
      "execution_count": null,
      "metadata": {
        "colab": {
          "base_uri": "https://localhost:8080/",
          "height": 542
        },
        "id": "rUeNhWwnWTDb",
        "outputId": "8a19dc1c-9f2a-46f1-ed1b-daa780235616"
      },
      "outputs": [
        {
          "output_type": "display_data",
          "data": {
            "text/html": [
              "<html>\n",
              "<head><meta charset=\"utf-8\" /></head>\n",
              "<body>\n",
              "    <div>            <script src=\"https://cdnjs.cloudflare.com/ajax/libs/mathjax/2.7.5/MathJax.js?config=TeX-AMS-MML_SVG\"></script><script type=\"text/javascript\">if (window.MathJax && window.MathJax.Hub && window.MathJax.Hub.Config) {window.MathJax.Hub.Config({SVG: {font: \"STIX-Web\"}});}</script>                <script type=\"text/javascript\">window.PlotlyConfig = {MathJaxConfig: 'local'};</script>\n",
              "        <script src=\"https://cdn.plot.ly/plotly-2.18.2.min.js\"></script>                <div id=\"2016b5c8-2b59-404a-83d6-c1033f66d0ac\" class=\"plotly-graph-div\" style=\"height:525px; width:100%;\"></div>            <script type=\"text/javascript\">                                    window.PLOTLYENV=window.PLOTLYENV || {};                                    if (document.getElementById(\"2016b5c8-2b59-404a-83d6-c1033f66d0ac\")) {                    Plotly.newPlot(                        \"2016b5c8-2b59-404a-83d6-c1033f66d0ac\",                        [{\"marker\":{\"color\":\"indianred\"},\"name\":\"TV Shows\",\"x\":[13,15,12,10,1,11,7,6,9,2,3,5,0,4,14,8],\"y\":[490,447,377,345,275,203,112,59,52,14,8,7,3,3,2,1],\"type\":\"bar\"},{\"marker\":{\"color\":\"lightsalmon\"},\"name\":\"Movies\",\"x\":[6,2,3,8,0,9,4,14,5,13,11],\"y\":[2139,703,564,504,497,328,327,186,114,6,4],\"type\":\"bar\"}],                        {\"title\":{\"text\":\"Number of movies and tv shows in each cluster\"},\"xaxis\":{\"title\":{\"text\":\"Cluster No\"}},\"yaxis\":{\"title\":{\"text\":\"Count\"}},\"template\":{\"data\":{\"histogram2dcontour\":[{\"type\":\"histogram2dcontour\",\"colorbar\":{\"outlinewidth\":0,\"ticks\":\"\"},\"colorscale\":[[0.0,\"#0d0887\"],[0.1111111111111111,\"#46039f\"],[0.2222222222222222,\"#7201a8\"],[0.3333333333333333,\"#9c179e\"],[0.4444444444444444,\"#bd3786\"],[0.5555555555555556,\"#d8576b\"],[0.6666666666666666,\"#ed7953\"],[0.7777777777777778,\"#fb9f3a\"],[0.8888888888888888,\"#fdca26\"],[1.0,\"#f0f921\"]]}],\"choropleth\":[{\"type\":\"choropleth\",\"colorbar\":{\"outlinewidth\":0,\"ticks\":\"\"}}],\"histogram2d\":[{\"type\":\"histogram2d\",\"colorbar\":{\"outlinewidth\":0,\"ticks\":\"\"},\"colorscale\":[[0.0,\"#0d0887\"],[0.1111111111111111,\"#46039f\"],[0.2222222222222222,\"#7201a8\"],[0.3333333333333333,\"#9c179e\"],[0.4444444444444444,\"#bd3786\"],[0.5555555555555556,\"#d8576b\"],[0.6666666666666666,\"#ed7953\"],[0.7777777777777778,\"#fb9f3a\"],[0.8888888888888888,\"#fdca26\"],[1.0,\"#f0f921\"]]}],\"heatmap\":[{\"type\":\"heatmap\",\"colorbar\":{\"outlinewidth\":0,\"ticks\":\"\"},\"colorscale\":[[0.0,\"#0d0887\"],[0.1111111111111111,\"#46039f\"],[0.2222222222222222,\"#7201a8\"],[0.3333333333333333,\"#9c179e\"],[0.4444444444444444,\"#bd3786\"],[0.5555555555555556,\"#d8576b\"],[0.6666666666666666,\"#ed7953\"],[0.7777777777777778,\"#fb9f3a\"],[0.8888888888888888,\"#fdca26\"],[1.0,\"#f0f921\"]]}],\"heatmapgl\":[{\"type\":\"heatmapgl\",\"colorbar\":{\"outlinewidth\":0,\"ticks\":\"\"},\"colorscale\":[[0.0,\"#0d0887\"],[0.1111111111111111,\"#46039f\"],[0.2222222222222222,\"#7201a8\"],[0.3333333333333333,\"#9c179e\"],[0.4444444444444444,\"#bd3786\"],[0.5555555555555556,\"#d8576b\"],[0.6666666666666666,\"#ed7953\"],[0.7777777777777778,\"#fb9f3a\"],[0.8888888888888888,\"#fdca26\"],[1.0,\"#f0f921\"]]}],\"contourcarpet\":[{\"type\":\"contourcarpet\",\"colorbar\":{\"outlinewidth\":0,\"ticks\":\"\"}}],\"contour\":[{\"type\":\"contour\",\"colorbar\":{\"outlinewidth\":0,\"ticks\":\"\"},\"colorscale\":[[0.0,\"#0d0887\"],[0.1111111111111111,\"#46039f\"],[0.2222222222222222,\"#7201a8\"],[0.3333333333333333,\"#9c179e\"],[0.4444444444444444,\"#bd3786\"],[0.5555555555555556,\"#d8576b\"],[0.6666666666666666,\"#ed7953\"],[0.7777777777777778,\"#fb9f3a\"],[0.8888888888888888,\"#fdca26\"],[1.0,\"#f0f921\"]]}],\"surface\":[{\"type\":\"surface\",\"colorbar\":{\"outlinewidth\":0,\"ticks\":\"\"},\"colorscale\":[[0.0,\"#0d0887\"],[0.1111111111111111,\"#46039f\"],[0.2222222222222222,\"#7201a8\"],[0.3333333333333333,\"#9c179e\"],[0.4444444444444444,\"#bd3786\"],[0.5555555555555556,\"#d8576b\"],[0.6666666666666666,\"#ed7953\"],[0.7777777777777778,\"#fb9f3a\"],[0.8888888888888888,\"#fdca26\"],[1.0,\"#f0f921\"]]}],\"mesh3d\":[{\"type\":\"mesh3d\",\"colorbar\":{\"outlinewidth\":0,\"ticks\":\"\"}}],\"scatter\":[{\"fillpattern\":{\"fillmode\":\"overlay\",\"size\":10,\"solidity\":0.2},\"type\":\"scatter\"}],\"parcoords\":[{\"type\":\"parcoords\",\"line\":{\"colorbar\":{\"outlinewidth\":0,\"ticks\":\"\"}}}],\"scatterpolargl\":[{\"type\":\"scatterpolargl\",\"marker\":{\"colorbar\":{\"outlinewidth\":0,\"ticks\":\"\"}}}],\"bar\":[{\"error_x\":{\"color\":\"#2a3f5f\"},\"error_y\":{\"color\":\"#2a3f5f\"},\"marker\":{\"line\":{\"color\":\"#E5ECF6\",\"width\":0.5},\"pattern\":{\"fillmode\":\"overlay\",\"size\":10,\"solidity\":0.2}},\"type\":\"bar\"}],\"scattergeo\":[{\"type\":\"scattergeo\",\"marker\":{\"colorbar\":{\"outlinewidth\":0,\"ticks\":\"\"}}}],\"scatterpolar\":[{\"type\":\"scatterpolar\",\"marker\":{\"colorbar\":{\"outlinewidth\":0,\"ticks\":\"\"}}}],\"histogram\":[{\"marker\":{\"pattern\":{\"fillmode\":\"overlay\",\"size\":10,\"solidity\":0.2}},\"type\":\"histogram\"}],\"scattergl\":[{\"type\":\"scattergl\",\"marker\":{\"colorbar\":{\"outlinewidth\":0,\"ticks\":\"\"}}}],\"scatter3d\":[{\"type\":\"scatter3d\",\"line\":{\"colorbar\":{\"outlinewidth\":0,\"ticks\":\"\"}},\"marker\":{\"colorbar\":{\"outlinewidth\":0,\"ticks\":\"\"}}}],\"scattermapbox\":[{\"type\":\"scattermapbox\",\"marker\":{\"colorbar\":{\"outlinewidth\":0,\"ticks\":\"\"}}}],\"scatterternary\":[{\"type\":\"scatterternary\",\"marker\":{\"colorbar\":{\"outlinewidth\":0,\"ticks\":\"\"}}}],\"scattercarpet\":[{\"type\":\"scattercarpet\",\"marker\":{\"colorbar\":{\"outlinewidth\":0,\"ticks\":\"\"}}}],\"carpet\":[{\"aaxis\":{\"endlinecolor\":\"#2a3f5f\",\"gridcolor\":\"white\",\"linecolor\":\"white\",\"minorgridcolor\":\"white\",\"startlinecolor\":\"#2a3f5f\"},\"baxis\":{\"endlinecolor\":\"#2a3f5f\",\"gridcolor\":\"white\",\"linecolor\":\"white\",\"minorgridcolor\":\"white\",\"startlinecolor\":\"#2a3f5f\"},\"type\":\"carpet\"}],\"table\":[{\"cells\":{\"fill\":{\"color\":\"#EBF0F8\"},\"line\":{\"color\":\"white\"}},\"header\":{\"fill\":{\"color\":\"#C8D4E3\"},\"line\":{\"color\":\"white\"}},\"type\":\"table\"}],\"barpolar\":[{\"marker\":{\"line\":{\"color\":\"#E5ECF6\",\"width\":0.5},\"pattern\":{\"fillmode\":\"overlay\",\"size\":10,\"solidity\":0.2}},\"type\":\"barpolar\"}],\"pie\":[{\"automargin\":true,\"type\":\"pie\"}]},\"layout\":{\"autotypenumbers\":\"strict\",\"colorway\":[\"#636efa\",\"#EF553B\",\"#00cc96\",\"#ab63fa\",\"#FFA15A\",\"#19d3f3\",\"#FF6692\",\"#B6E880\",\"#FF97FF\",\"#FECB52\"],\"font\":{\"color\":\"#2a3f5f\"},\"hovermode\":\"closest\",\"hoverlabel\":{\"align\":\"left\"},\"paper_bgcolor\":\"white\",\"plot_bgcolor\":\"#E5ECF6\",\"polar\":{\"bgcolor\":\"#E5ECF6\",\"angularaxis\":{\"gridcolor\":\"white\",\"linecolor\":\"white\",\"ticks\":\"\"},\"radialaxis\":{\"gridcolor\":\"white\",\"linecolor\":\"white\",\"ticks\":\"\"}},\"ternary\":{\"bgcolor\":\"#E5ECF6\",\"aaxis\":{\"gridcolor\":\"white\",\"linecolor\":\"white\",\"ticks\":\"\"},\"baxis\":{\"gridcolor\":\"white\",\"linecolor\":\"white\",\"ticks\":\"\"},\"caxis\":{\"gridcolor\":\"white\",\"linecolor\":\"white\",\"ticks\":\"\"}},\"coloraxis\":{\"colorbar\":{\"outlinewidth\":0,\"ticks\":\"\"}},\"colorscale\":{\"sequential\":[[0.0,\"#0d0887\"],[0.1111111111111111,\"#46039f\"],[0.2222222222222222,\"#7201a8\"],[0.3333333333333333,\"#9c179e\"],[0.4444444444444444,\"#bd3786\"],[0.5555555555555556,\"#d8576b\"],[0.6666666666666666,\"#ed7953\"],[0.7777777777777778,\"#fb9f3a\"],[0.8888888888888888,\"#fdca26\"],[1.0,\"#f0f921\"]],\"sequentialminus\":[[0.0,\"#0d0887\"],[0.1111111111111111,\"#46039f\"],[0.2222222222222222,\"#7201a8\"],[0.3333333333333333,\"#9c179e\"],[0.4444444444444444,\"#bd3786\"],[0.5555555555555556,\"#d8576b\"],[0.6666666666666666,\"#ed7953\"],[0.7777777777777778,\"#fb9f3a\"],[0.8888888888888888,\"#fdca26\"],[1.0,\"#f0f921\"]],\"diverging\":[[0,\"#8e0152\"],[0.1,\"#c51b7d\"],[0.2,\"#de77ae\"],[0.3,\"#f1b6da\"],[0.4,\"#fde0ef\"],[0.5,\"#f7f7f7\"],[0.6,\"#e6f5d0\"],[0.7,\"#b8e186\"],[0.8,\"#7fbc41\"],[0.9,\"#4d9221\"],[1,\"#276419\"]]},\"xaxis\":{\"gridcolor\":\"white\",\"linecolor\":\"white\",\"ticks\":\"\",\"title\":{\"standoff\":15},\"zerolinecolor\":\"white\",\"automargin\":true,\"zerolinewidth\":2},\"yaxis\":{\"gridcolor\":\"white\",\"linecolor\":\"white\",\"ticks\":\"\",\"title\":{\"standoff\":15},\"zerolinecolor\":\"white\",\"automargin\":true,\"zerolinewidth\":2},\"scene\":{\"xaxis\":{\"backgroundcolor\":\"#E5ECF6\",\"gridcolor\":\"white\",\"linecolor\":\"white\",\"showbackground\":true,\"ticks\":\"\",\"zerolinecolor\":\"white\",\"gridwidth\":2},\"yaxis\":{\"backgroundcolor\":\"#E5ECF6\",\"gridcolor\":\"white\",\"linecolor\":\"white\",\"showbackground\":true,\"ticks\":\"\",\"zerolinecolor\":\"white\",\"gridwidth\":2},\"zaxis\":{\"backgroundcolor\":\"#E5ECF6\",\"gridcolor\":\"white\",\"linecolor\":\"white\",\"showbackground\":true,\"ticks\":\"\",\"zerolinecolor\":\"white\",\"gridwidth\":2}},\"shapedefaults\":{\"line\":{\"color\":\"#2a3f5f\"}},\"annotationdefaults\":{\"arrowcolor\":\"#2a3f5f\",\"arrowhead\":0,\"arrowwidth\":1},\"geo\":{\"bgcolor\":\"white\",\"landcolor\":\"#E5ECF6\",\"subunitcolor\":\"white\",\"showland\":true,\"showlakes\":true,\"lakecolor\":\"white\"},\"title\":{\"x\":0.05},\"mapbox\":{\"style\":\"light\"}}}},                        {\"responsive\": true}                    ).then(function(){\n",
              "                            \n",
              "var gd = document.getElementById('2016b5c8-2b59-404a-83d6-c1033f66d0ac');\n",
              "var x = new MutationObserver(function (mutations, observer) {{\n",
              "        var display = window.getComputedStyle(gd).display;\n",
              "        if (!display || display === 'none') {{\n",
              "            console.log([gd, 'removed!']);\n",
              "            Plotly.purge(gd);\n",
              "            observer.disconnect();\n",
              "        }}\n",
              "}});\n",
              "\n",
              "// Listen for the removal of the full notebook cells\n",
              "var notebookContainer = gd.closest('#notebook-container');\n",
              "if (notebookContainer) {{\n",
              "    x.observe(notebookContainer, {childList: true});\n",
              "}}\n",
              "\n",
              "// Listen for the clearing of the current output cell\n",
              "var outputEl = gd.closest('.output');\n",
              "if (outputEl) {{\n",
              "    x.observe(outputEl, {childList: true});\n",
              "}}\n",
              "\n",
              "                        })                };                            </script>        </div>\n",
              "</body>\n",
              "</html>"
            ]
          },
          "metadata": {}
        }
      ],
      "source": [
        "# Number of movies and tv shows in each cluster\n",
        "cluster_tvshows = df[df[\"type\"] == \"TV Show\"]\n",
        "cluster_movies = df[df[\"type\"] == \"Movie\"]\n",
        "temp_df1 = cluster_tvshows['cluster_no'].value_counts().reset_index()\n",
        "temp_df2 = cluster_movies['cluster_no'].value_counts().reset_index()\n",
        "\n",
        "\n",
        "# create trace1\n",
        "trace1 = go.Bar(\n",
        "                x = temp_df1['index'],\n",
        "                y = temp_df1['cluster_no'],\n",
        "                name=\"TV Shows\",\n",
        "                marker_color='indianred')\n",
        "# create trace2\n",
        "trace2 = go.Bar(\n",
        "                x = temp_df2['index'],\n",
        "                y = temp_df2['cluster_no'],\n",
        "                name = \"Movies\",\n",
        "                marker_color='lightsalmon')\n",
        "\n",
        "\n",
        "layout = go.Layout(title = 'Number of movies and tv shows in each cluster' , xaxis = dict(title = 'Cluster No'), yaxis = dict(title = 'Count'))\n",
        "fig = go.Figure(data = [trace1, trace2], layout = layout)\n",
        "fig.show(renderer='colab')"
      ]
    },
    {
      "cell_type": "markdown",
      "metadata": {
        "id": "7hpaxdDYcuL2"
      },
      "source": [
        "## Building wordclouds for different clusters built"
      ]
    },
    {
      "cell_type": "code",
      "source": [
        "# Building a wordcloud for Description column\n",
        "generate_wordcloud('cluster_no','description')"
      ],
      "metadata": {
        "id": "cz_TAFCpM_Un"
      },
      "execution_count": null,
      "outputs": []
    },
    {
      "cell_type": "code",
      "source": [
        "# Building a wordcloud for listed_in column\n",
        "generate_wordcloud('cluster_no','listed_in')"
      ],
      "metadata": {
        "id": "multGP_ENU-S"
      },
      "execution_count": null,
      "outputs": []
    },
    {
      "cell_type": "code",
      "source": [
        "# Kmeans Cluster Names\n",
        "names={0:'Family,Children',\n",
        "       1:'RealityTV,Docuseries',\n",
        "       2:'Find, Adventure',\n",
        "       3:'Documentary',\n",
        "       4:'Music,Documentary',\n",
        "       5:'Career,International',\n",
        "       6:'Love,International',\n",
        "       7:'TV Dramas,Mysteries',\n",
        "       8:'Horror,Trillers',\n",
        "       9:'Comedy Stand,Talk Shows',\n",
        "       10:'Crime ,Tv Shows',\n",
        "       11:'World,Reality Tv',\n",
        "       12:'Love,Romantic TV',\n",
        "       13:'Kids,Anime',\n",
        "       14:'Sports Movies',\n",
        "       15:'TV Drama,Family'}"
      ],
      "metadata": {
        "id": "ZvQIIoQBNxjV"
      },
      "execution_count": null,
      "outputs": []
    },
    {
      "cell_type": "code",
      "execution_count": null,
      "metadata": {
        "id": "c7a-b-g_1iWz"
      },
      "outputs": [],
      "source": [
        "# Adding a kmeans cluster name attribute\n",
        "df['cluster_name']=df['cluster_no'].map(names)"
      ]
    },
    {
      "cell_type": "markdown",
      "metadata": {
        "id": "4TsxTFqzdw8_"
      },
      "source": [
        "## Better Visualisation for Clusters using Plotly"
      ]
    },
    {
      "cell_type": "code",
      "execution_count": null,
      "metadata": {
        "id": "c57nOA6MGlHL"
      },
      "outputs": [],
      "source": [
        "# Better Visualisation for Clusters using Plotly\n",
        "fig = px.scatter(df, x=X[:, 0], y=X[:, 1], color='cluster_name',hover_name='cluster_no',\n",
        "                 hover_data=[ 'type', 'title', 'cast', 'country', 'date_added',\n",
        "       'release_year', 'rating', 'duration', 'listed_in','cluster_no'] )\n",
        "fig.update_traces(marker=dict(size=7,\n",
        "                              line=dict(width=1,\n",
        "                                        color='black')))\n",
        "fig.show()"
      ]
    },
    {
      "cell_type": "markdown",
      "metadata": {
        "id": "EMLaDOXiA9Ya"
      },
      "source": [
        "# **Cluster Names**\n",
        "###Cluster 1 :- Family,Children\n",
        "###Cluster 2 :-RealityTV,Docuseries\n",
        "###Cluster 3 :-Find, Adventure\n",
        "###Cluster 4 :-Documentary\n",
        "###Cluster 5 :-Music,Documentary\n",
        "###Cluster 6 :-Career,International\n",
        "###Cluster 7 :-Love,International\n",
        "###Cluster 8 :-TV Dramas,Mysteries\n",
        "###Cluster 9 :-Horror,Trillers\n",
        "###Cluster 10 :-Comedy Stand,Talk Shows\n",
        "###Cluster 11 :-Crime ,Tv Shows\n",
        "###Cluster 12 :-World,Reality Tv\n",
        "###Cluster 13 :-Love,Romantic TV\n",
        "###Cluster 14 :-Kids,Anime\n",
        "###Cluster 15 :-Sports Movies\n",
        "###Cluster 16 :-TV Drama,Family\n"
      ]
    },
    {
      "cell_type": "markdown",
      "metadata": {
        "id": "sGRDzcxhDxyJ"
      },
      "source": [
        "# **Building the Recommendation System**"
      ]
    },
    {
      "cell_type": "code",
      "execution_count": null,
      "metadata": {
        "id": "K5FxUk8__-DW"
      },
      "outputs": [],
      "source": [
        "#cosine Similarity\n",
        "\n",
        "similarities = cosine_similarity(X)"
      ]
    },
    {
      "cell_type": "code",
      "execution_count": null,
      "metadata": {
        "colab": {
          "base_uri": "https://localhost:8080/",
          "height": 386
        },
        "id": "nD7Q58ojD7QU",
        "outputId": "a4298f7c-a3ad-468b-fef3-906477652854"
      },
      "outputs": [
        {
          "output_type": "execute_result",
          "data": {
            "text/plain": [
              "title  title        3%      7:19     23:59         9        21        46  \\\n",
              "0         3%  1.000000 -0.021093  0.033716  0.081671 -0.019571  0.050648   \n",
              "1       7:19 -0.021093  1.000000  0.002311 -0.008594  0.000994 -0.014384   \n",
              "2      23:59  0.033716  0.002311  1.000000 -0.006011 -0.010127 -0.020069   \n",
              "3          9  0.081671 -0.008594 -0.006011  1.000000  0.036257 -0.023092   \n",
              "4         21 -0.019571  0.000994 -0.010127  0.036257  1.000000 -0.007987   \n",
              "\n",
              "title       122       187       706  ...  Zombie Dumb  Zombieland  Zona Rosa  \\\n",
              "0     -0.034634  0.001503 -0.027380  ...     0.045130   -0.036808   0.035600   \n",
              "1     -0.001220  0.028898  0.001247  ...    -0.035147   -0.013070   0.036967   \n",
              "2      0.042028 -0.008821  0.040946  ...    -0.035521    0.028744  -0.033746   \n",
              "3     -0.010577 -0.012348 -0.003441  ...    -0.037710    0.017688  -0.039826   \n",
              "4     -0.011612  0.032845 -0.007022  ...    -0.030402    0.044785  -0.033458   \n",
              "\n",
              "title       Zoo      Zoom      Zozo    Zubaan  Zulu Man in Japan  \\\n",
              "0      0.084888 -0.036245 -0.020056 -0.028010          -0.033483   \n",
              "1      0.004241  0.011676  0.004096 -0.003387           0.085927   \n",
              "2      0.047324  0.045856  0.002509 -0.009107          -0.004293   \n",
              "3      0.012606 -0.016136 -0.010016  0.052033          -0.017281   \n",
              "4     -0.004231 -0.007603  0.000747 -0.009120          -0.010694   \n",
              "\n",
              "title  Zumbo's Just Desserts  ZZ TOP: THAT LITTLE OL' BAND FROM TEXAS  \n",
              "0                   0.024873                                -0.035925  \n",
              "1                  -0.010539                                -0.013959  \n",
              "2                  -0.014879                                -0.017051  \n",
              "3                  -0.015918                                -0.016760  \n",
              "4                  -0.012101                                -0.009114  \n",
              "\n",
              "[5 rows x 7771 columns]"
            ],
            "text/html": [
              "\n",
              "  <div id=\"df-df9af175-193c-4277-9181-cb91fc45b36c\">\n",
              "    <div class=\"colab-df-container\">\n",
              "      <div>\n",
              "<style scoped>\n",
              "    .dataframe tbody tr th:only-of-type {\n",
              "        vertical-align: middle;\n",
              "    }\n",
              "\n",
              "    .dataframe tbody tr th {\n",
              "        vertical-align: top;\n",
              "    }\n",
              "\n",
              "    .dataframe thead th {\n",
              "        text-align: right;\n",
              "    }\n",
              "</style>\n",
              "<table border=\"1\" class=\"dataframe\">\n",
              "  <thead>\n",
              "    <tr style=\"text-align: right;\">\n",
              "      <th>title</th>\n",
              "      <th>title</th>\n",
              "      <th>3%</th>\n",
              "      <th>7:19</th>\n",
              "      <th>23:59</th>\n",
              "      <th>9</th>\n",
              "      <th>21</th>\n",
              "      <th>46</th>\n",
              "      <th>122</th>\n",
              "      <th>187</th>\n",
              "      <th>706</th>\n",
              "      <th>...</th>\n",
              "      <th>Zombie Dumb</th>\n",
              "      <th>Zombieland</th>\n",
              "      <th>Zona Rosa</th>\n",
              "      <th>Zoo</th>\n",
              "      <th>Zoom</th>\n",
              "      <th>Zozo</th>\n",
              "      <th>Zubaan</th>\n",
              "      <th>Zulu Man in Japan</th>\n",
              "      <th>Zumbo's Just Desserts</th>\n",
              "      <th>ZZ TOP: THAT LITTLE OL' BAND FROM TEXAS</th>\n",
              "    </tr>\n",
              "  </thead>\n",
              "  <tbody>\n",
              "    <tr>\n",
              "      <th>0</th>\n",
              "      <td>3%</td>\n",
              "      <td>1.000000</td>\n",
              "      <td>-0.021093</td>\n",
              "      <td>0.033716</td>\n",
              "      <td>0.081671</td>\n",
              "      <td>-0.019571</td>\n",
              "      <td>0.050648</td>\n",
              "      <td>-0.034634</td>\n",
              "      <td>0.001503</td>\n",
              "      <td>-0.027380</td>\n",
              "      <td>...</td>\n",
              "      <td>0.045130</td>\n",
              "      <td>-0.036808</td>\n",
              "      <td>0.035600</td>\n",
              "      <td>0.084888</td>\n",
              "      <td>-0.036245</td>\n",
              "      <td>-0.020056</td>\n",
              "      <td>-0.028010</td>\n",
              "      <td>-0.033483</td>\n",
              "      <td>0.024873</td>\n",
              "      <td>-0.035925</td>\n",
              "    </tr>\n",
              "    <tr>\n",
              "      <th>1</th>\n",
              "      <td>7:19</td>\n",
              "      <td>-0.021093</td>\n",
              "      <td>1.000000</td>\n",
              "      <td>0.002311</td>\n",
              "      <td>-0.008594</td>\n",
              "      <td>0.000994</td>\n",
              "      <td>-0.014384</td>\n",
              "      <td>-0.001220</td>\n",
              "      <td>0.028898</td>\n",
              "      <td>0.001247</td>\n",
              "      <td>...</td>\n",
              "      <td>-0.035147</td>\n",
              "      <td>-0.013070</td>\n",
              "      <td>0.036967</td>\n",
              "      <td>0.004241</td>\n",
              "      <td>0.011676</td>\n",
              "      <td>0.004096</td>\n",
              "      <td>-0.003387</td>\n",
              "      <td>0.085927</td>\n",
              "      <td>-0.010539</td>\n",
              "      <td>-0.013959</td>\n",
              "    </tr>\n",
              "    <tr>\n",
              "      <th>2</th>\n",
              "      <td>23:59</td>\n",
              "      <td>0.033716</td>\n",
              "      <td>0.002311</td>\n",
              "      <td>1.000000</td>\n",
              "      <td>-0.006011</td>\n",
              "      <td>-0.010127</td>\n",
              "      <td>-0.020069</td>\n",
              "      <td>0.042028</td>\n",
              "      <td>-0.008821</td>\n",
              "      <td>0.040946</td>\n",
              "      <td>...</td>\n",
              "      <td>-0.035521</td>\n",
              "      <td>0.028744</td>\n",
              "      <td>-0.033746</td>\n",
              "      <td>0.047324</td>\n",
              "      <td>0.045856</td>\n",
              "      <td>0.002509</td>\n",
              "      <td>-0.009107</td>\n",
              "      <td>-0.004293</td>\n",
              "      <td>-0.014879</td>\n",
              "      <td>-0.017051</td>\n",
              "    </tr>\n",
              "    <tr>\n",
              "      <th>3</th>\n",
              "      <td>9</td>\n",
              "      <td>0.081671</td>\n",
              "      <td>-0.008594</td>\n",
              "      <td>-0.006011</td>\n",
              "      <td>1.000000</td>\n",
              "      <td>0.036257</td>\n",
              "      <td>-0.023092</td>\n",
              "      <td>-0.010577</td>\n",
              "      <td>-0.012348</td>\n",
              "      <td>-0.003441</td>\n",
              "      <td>...</td>\n",
              "      <td>-0.037710</td>\n",
              "      <td>0.017688</td>\n",
              "      <td>-0.039826</td>\n",
              "      <td>0.012606</td>\n",
              "      <td>-0.016136</td>\n",
              "      <td>-0.010016</td>\n",
              "      <td>0.052033</td>\n",
              "      <td>-0.017281</td>\n",
              "      <td>-0.015918</td>\n",
              "      <td>-0.016760</td>\n",
              "    </tr>\n",
              "    <tr>\n",
              "      <th>4</th>\n",
              "      <td>21</td>\n",
              "      <td>-0.019571</td>\n",
              "      <td>0.000994</td>\n",
              "      <td>-0.010127</td>\n",
              "      <td>0.036257</td>\n",
              "      <td>1.000000</td>\n",
              "      <td>-0.007987</td>\n",
              "      <td>-0.011612</td>\n",
              "      <td>0.032845</td>\n",
              "      <td>-0.007022</td>\n",
              "      <td>...</td>\n",
              "      <td>-0.030402</td>\n",
              "      <td>0.044785</td>\n",
              "      <td>-0.033458</td>\n",
              "      <td>-0.004231</td>\n",
              "      <td>-0.007603</td>\n",
              "      <td>0.000747</td>\n",
              "      <td>-0.009120</td>\n",
              "      <td>-0.010694</td>\n",
              "      <td>-0.012101</td>\n",
              "      <td>-0.009114</td>\n",
              "    </tr>\n",
              "  </tbody>\n",
              "</table>\n",
              "<p>5 rows × 7771 columns</p>\n",
              "</div>\n",
              "      <button class=\"colab-df-convert\" onclick=\"convertToInteractive('df-df9af175-193c-4277-9181-cb91fc45b36c')\"\n",
              "              title=\"Convert this dataframe to an interactive table.\"\n",
              "              style=\"display:none;\">\n",
              "        \n",
              "  <svg xmlns=\"http://www.w3.org/2000/svg\" height=\"24px\"viewBox=\"0 0 24 24\"\n",
              "       width=\"24px\">\n",
              "    <path d=\"M0 0h24v24H0V0z\" fill=\"none\"/>\n",
              "    <path d=\"M18.56 5.44l.94 2.06.94-2.06 2.06-.94-2.06-.94-.94-2.06-.94 2.06-2.06.94zm-11 1L8.5 8.5l.94-2.06 2.06-.94-2.06-.94L8.5 2.5l-.94 2.06-2.06.94zm10 10l.94 2.06.94-2.06 2.06-.94-2.06-.94-.94-2.06-.94 2.06-2.06.94z\"/><path d=\"M17.41 7.96l-1.37-1.37c-.4-.4-.92-.59-1.43-.59-.52 0-1.04.2-1.43.59L10.3 9.45l-7.72 7.72c-.78.78-.78 2.05 0 2.83L4 21.41c.39.39.9.59 1.41.59.51 0 1.02-.2 1.41-.59l7.78-7.78 2.81-2.81c.8-.78.8-2.07 0-2.86zM5.41 20L4 18.59l7.72-7.72 1.47 1.35L5.41 20z\"/>\n",
              "  </svg>\n",
              "      </button>\n",
              "      \n",
              "  <style>\n",
              "    .colab-df-container {\n",
              "      display:flex;\n",
              "      flex-wrap:wrap;\n",
              "      gap: 12px;\n",
              "    }\n",
              "\n",
              "    .colab-df-convert {\n",
              "      background-color: #E8F0FE;\n",
              "      border: none;\n",
              "      border-radius: 50%;\n",
              "      cursor: pointer;\n",
              "      display: none;\n",
              "      fill: #1967D2;\n",
              "      height: 32px;\n",
              "      padding: 0 0 0 0;\n",
              "      width: 32px;\n",
              "    }\n",
              "\n",
              "    .colab-df-convert:hover {\n",
              "      background-color: #E2EBFA;\n",
              "      box-shadow: 0px 1px 2px rgba(60, 64, 67, 0.3), 0px 1px 3px 1px rgba(60, 64, 67, 0.15);\n",
              "      fill: #174EA6;\n",
              "    }\n",
              "\n",
              "    [theme=dark] .colab-df-convert {\n",
              "      background-color: #3B4455;\n",
              "      fill: #D2E3FC;\n",
              "    }\n",
              "\n",
              "    [theme=dark] .colab-df-convert:hover {\n",
              "      background-color: #434B5C;\n",
              "      box-shadow: 0px 1px 3px 1px rgba(0, 0, 0, 0.15);\n",
              "      filter: drop-shadow(0px 1px 2px rgba(0, 0, 0, 0.3));\n",
              "      fill: #FFFFFF;\n",
              "    }\n",
              "  </style>\n",
              "\n",
              "      <script>\n",
              "        const buttonEl =\n",
              "          document.querySelector('#df-df9af175-193c-4277-9181-cb91fc45b36c button.colab-df-convert');\n",
              "        buttonEl.style.display =\n",
              "          google.colab.kernel.accessAllowed ? 'block' : 'none';\n",
              "\n",
              "        async function convertToInteractive(key) {\n",
              "          const element = document.querySelector('#df-df9af175-193c-4277-9181-cb91fc45b36c');\n",
              "          const dataTable =\n",
              "            await google.colab.kernel.invokeFunction('convertToInteractive',\n",
              "                                                     [key], {});\n",
              "          if (!dataTable) return;\n",
              "\n",
              "          const docLinkHtml = 'Like what you see? Visit the ' +\n",
              "            '<a target=\"_blank\" href=https://colab.research.google.com/notebooks/data_table.ipynb>data table notebook</a>'\n",
              "            + ' to learn more about interactive tables.';\n",
              "          element.innerHTML = '';\n",
              "          dataTable['output_type'] = 'display_data';\n",
              "          await google.colab.output.renderOutput(dataTable, element);\n",
              "          const docLink = document.createElement('div');\n",
              "          docLink.innerHTML = docLinkHtml;\n",
              "          element.appendChild(docLink);\n",
              "        }\n",
              "      </script>\n",
              "    </div>\n",
              "  </div>\n",
              "  "
            ]
          },
          "metadata": {},
          "execution_count": 145
        }
      ],
      "source": [
        "# New dataset for Recommendation System\n",
        "recsys= pd.DataFrame(similarities, columns=df['title'], index=df['title']).reset_index()\n",
        "\n",
        "recsys.head()"
      ]
    },
    {
      "cell_type": "code",
      "execution_count": null,
      "metadata": {
        "id": "gpYDN2R7Eyom"
      },
      "outputs": [],
      "source": [
        "# Function for Recommendation System\n",
        "def recommend_similar(input_movies):\n",
        "  try:\n",
        "    recommendations=pd.DataFrame(recsys.nlargest(11,input_movies)['title'])\n",
        "    recommendations=recommendations[recommendations['title']!=input_movies].reset_index()\n",
        "    return recommendations.head(10)\n",
        "  except:\n",
        "    return('thies movie not present')\n"
      ]
    },
    {
      "cell_type": "code",
      "execution_count": null,
      "metadata": {
        "colab": {
          "base_uri": "https://localhost:8080/",
          "height": 363
        },
        "id": "nGkiwaIIGKof",
        "outputId": "3293fee5-4a14-4b4d-cae6-e75b82a6b97c"
      },
      "outputs": [
        {
          "output_type": "execute_result",
          "data": {
            "text/plain": [
              "   index                                              title\n",
              "0   4393                        Naruto Shippuden: The Movie\n",
              "1   4390                  Naruto Shippûden the Movie: Bonds\n",
              "2   4392                    Naruto Shippuden : Blood Prison\n",
              "3   4396  Naruto the Movie 3: Guardians of the Crescent ...\n",
              "4   5468                                         Seis Manos\n",
              "5    869                             Beyblade: Metal Fusion\n",
              "6   4395   Naruto the Movie 2: Legend of the Stone of Gelel\n",
              "7   5933                             SWORDGAI The Animation\n",
              "8   3032  InuYasha the Movie: Affections Touching Across...\n",
              "9   6460                               The Idhun Chronicles"
            ],
            "text/html": [
              "\n",
              "  <div id=\"df-d9c544ee-8832-4e3a-8d67-bbeee637157d\">\n",
              "    <div class=\"colab-df-container\">\n",
              "      <div>\n",
              "<style scoped>\n",
              "    .dataframe tbody tr th:only-of-type {\n",
              "        vertical-align: middle;\n",
              "    }\n",
              "\n",
              "    .dataframe tbody tr th {\n",
              "        vertical-align: top;\n",
              "    }\n",
              "\n",
              "    .dataframe thead th {\n",
              "        text-align: right;\n",
              "    }\n",
              "</style>\n",
              "<table border=\"1\" class=\"dataframe\">\n",
              "  <thead>\n",
              "    <tr style=\"text-align: right;\">\n",
              "      <th></th>\n",
              "      <th>index</th>\n",
              "      <th>title</th>\n",
              "    </tr>\n",
              "  </thead>\n",
              "  <tbody>\n",
              "    <tr>\n",
              "      <th>0</th>\n",
              "      <td>4393</td>\n",
              "      <td>Naruto Shippuden: The Movie</td>\n",
              "    </tr>\n",
              "    <tr>\n",
              "      <th>1</th>\n",
              "      <td>4390</td>\n",
              "      <td>Naruto Shippûden the Movie: Bonds</td>\n",
              "    </tr>\n",
              "    <tr>\n",
              "      <th>2</th>\n",
              "      <td>4392</td>\n",
              "      <td>Naruto Shippuden : Blood Prison</td>\n",
              "    </tr>\n",
              "    <tr>\n",
              "      <th>3</th>\n",
              "      <td>4396</td>\n",
              "      <td>Naruto the Movie 3: Guardians of the Crescent ...</td>\n",
              "    </tr>\n",
              "    <tr>\n",
              "      <th>4</th>\n",
              "      <td>5468</td>\n",
              "      <td>Seis Manos</td>\n",
              "    </tr>\n",
              "    <tr>\n",
              "      <th>5</th>\n",
              "      <td>869</td>\n",
              "      <td>Beyblade: Metal Fusion</td>\n",
              "    </tr>\n",
              "    <tr>\n",
              "      <th>6</th>\n",
              "      <td>4395</td>\n",
              "      <td>Naruto the Movie 2: Legend of the Stone of Gelel</td>\n",
              "    </tr>\n",
              "    <tr>\n",
              "      <th>7</th>\n",
              "      <td>5933</td>\n",
              "      <td>SWORDGAI The Animation</td>\n",
              "    </tr>\n",
              "    <tr>\n",
              "      <th>8</th>\n",
              "      <td>3032</td>\n",
              "      <td>InuYasha the Movie: Affections Touching Across...</td>\n",
              "    </tr>\n",
              "    <tr>\n",
              "      <th>9</th>\n",
              "      <td>6460</td>\n",
              "      <td>The Idhun Chronicles</td>\n",
              "    </tr>\n",
              "  </tbody>\n",
              "</table>\n",
              "</div>\n",
              "      <button class=\"colab-df-convert\" onclick=\"convertToInteractive('df-d9c544ee-8832-4e3a-8d67-bbeee637157d')\"\n",
              "              title=\"Convert this dataframe to an interactive table.\"\n",
              "              style=\"display:none;\">\n",
              "        \n",
              "  <svg xmlns=\"http://www.w3.org/2000/svg\" height=\"24px\"viewBox=\"0 0 24 24\"\n",
              "       width=\"24px\">\n",
              "    <path d=\"M0 0h24v24H0V0z\" fill=\"none\"/>\n",
              "    <path d=\"M18.56 5.44l.94 2.06.94-2.06 2.06-.94-2.06-.94-.94-2.06-.94 2.06-2.06.94zm-11 1L8.5 8.5l.94-2.06 2.06-.94-2.06-.94L8.5 2.5l-.94 2.06-2.06.94zm10 10l.94 2.06.94-2.06 2.06-.94-2.06-.94-.94-2.06-.94 2.06-2.06.94z\"/><path d=\"M17.41 7.96l-1.37-1.37c-.4-.4-.92-.59-1.43-.59-.52 0-1.04.2-1.43.59L10.3 9.45l-7.72 7.72c-.78.78-.78 2.05 0 2.83L4 21.41c.39.39.9.59 1.41.59.51 0 1.02-.2 1.41-.59l7.78-7.78 2.81-2.81c.8-.78.8-2.07 0-2.86zM5.41 20L4 18.59l7.72-7.72 1.47 1.35L5.41 20z\"/>\n",
              "  </svg>\n",
              "      </button>\n",
              "      \n",
              "  <style>\n",
              "    .colab-df-container {\n",
              "      display:flex;\n",
              "      flex-wrap:wrap;\n",
              "      gap: 12px;\n",
              "    }\n",
              "\n",
              "    .colab-df-convert {\n",
              "      background-color: #E8F0FE;\n",
              "      border: none;\n",
              "      border-radius: 50%;\n",
              "      cursor: pointer;\n",
              "      display: none;\n",
              "      fill: #1967D2;\n",
              "      height: 32px;\n",
              "      padding: 0 0 0 0;\n",
              "      width: 32px;\n",
              "    }\n",
              "\n",
              "    .colab-df-convert:hover {\n",
              "      background-color: #E2EBFA;\n",
              "      box-shadow: 0px 1px 2px rgba(60, 64, 67, 0.3), 0px 1px 3px 1px rgba(60, 64, 67, 0.15);\n",
              "      fill: #174EA6;\n",
              "    }\n",
              "\n",
              "    [theme=dark] .colab-df-convert {\n",
              "      background-color: #3B4455;\n",
              "      fill: #D2E3FC;\n",
              "    }\n",
              "\n",
              "    [theme=dark] .colab-df-convert:hover {\n",
              "      background-color: #434B5C;\n",
              "      box-shadow: 0px 1px 3px 1px rgba(0, 0, 0, 0.15);\n",
              "      filter: drop-shadow(0px 1px 2px rgba(0, 0, 0, 0.3));\n",
              "      fill: #FFFFFF;\n",
              "    }\n",
              "  </style>\n",
              "\n",
              "      <script>\n",
              "        const buttonEl =\n",
              "          document.querySelector('#df-d9c544ee-8832-4e3a-8d67-bbeee637157d button.colab-df-convert');\n",
              "        buttonEl.style.display =\n",
              "          google.colab.kernel.accessAllowed ? 'block' : 'none';\n",
              "\n",
              "        async function convertToInteractive(key) {\n",
              "          const element = document.querySelector('#df-d9c544ee-8832-4e3a-8d67-bbeee637157d');\n",
              "          const dataTable =\n",
              "            await google.colab.kernel.invokeFunction('convertToInteractive',\n",
              "                                                     [key], {});\n",
              "          if (!dataTable) return;\n",
              "\n",
              "          const docLinkHtml = 'Like what you see? Visit the ' +\n",
              "            '<a target=\"_blank\" href=https://colab.research.google.com/notebooks/data_table.ipynb>data table notebook</a>'\n",
              "            + ' to learn more about interactive tables.';\n",
              "          element.innerHTML = '';\n",
              "          dataTable['output_type'] = 'display_data';\n",
              "          await google.colab.output.renderOutput(dataTable, element);\n",
              "          const docLink = document.createElement('div');\n",
              "          docLink.innerHTML = docLinkHtml;\n",
              "          element.appendChild(docLink);\n",
              "        }\n",
              "      </script>\n",
              "    </div>\n",
              "  </div>\n",
              "  "
            ]
          },
          "metadata": {},
          "execution_count": 147
        }
      ],
      "source": [
        "recommend_similar('Naruto')"
      ]
    },
    {
      "cell_type": "code",
      "execution_count": null,
      "metadata": {
        "colab": {
          "base_uri": "https://localhost:8080/",
          "height": 363
        },
        "id": "sYZUwQYSGVH-",
        "outputId": "76e982fb-89c7-4382-f675-3868581eb0a2"
      },
      "outputs": [
        {
          "output_type": "execute_result",
          "data": {
            "text/plain": [
              "   index                        title\n",
              "0   4831              Phir Hera Pheri\n",
              "1   2856    Humpty Sharma Ki Dulhania\n",
              "2   1029                   Bombairiya\n",
              "3   1994        Employee of the Month\n",
              "4   5067                         Rake\n",
              "5   7332                 Union Leader\n",
              "6   1553                       Curtiz\n",
              "7   7575                       Whisky\n",
              "8   2582               Hamburger Hill\n",
              "9   3110  Jalpari: The Desert Mermaid"
            ],
            "text/html": [
              "\n",
              "  <div id=\"df-36c7ff1a-13f3-4e4c-9dad-7044ad774c8f\">\n",
              "    <div class=\"colab-df-container\">\n",
              "      <div>\n",
              "<style scoped>\n",
              "    .dataframe tbody tr th:only-of-type {\n",
              "        vertical-align: middle;\n",
              "    }\n",
              "\n",
              "    .dataframe tbody tr th {\n",
              "        vertical-align: top;\n",
              "    }\n",
              "\n",
              "    .dataframe thead th {\n",
              "        text-align: right;\n",
              "    }\n",
              "</style>\n",
              "<table border=\"1\" class=\"dataframe\">\n",
              "  <thead>\n",
              "    <tr style=\"text-align: right;\">\n",
              "      <th></th>\n",
              "      <th>index</th>\n",
              "      <th>title</th>\n",
              "    </tr>\n",
              "  </thead>\n",
              "  <tbody>\n",
              "    <tr>\n",
              "      <th>0</th>\n",
              "      <td>4831</td>\n",
              "      <td>Phir Hera Pheri</td>\n",
              "    </tr>\n",
              "    <tr>\n",
              "      <th>1</th>\n",
              "      <td>2856</td>\n",
              "      <td>Humpty Sharma Ki Dulhania</td>\n",
              "    </tr>\n",
              "    <tr>\n",
              "      <th>2</th>\n",
              "      <td>1029</td>\n",
              "      <td>Bombairiya</td>\n",
              "    </tr>\n",
              "    <tr>\n",
              "      <th>3</th>\n",
              "      <td>1994</td>\n",
              "      <td>Employee of the Month</td>\n",
              "    </tr>\n",
              "    <tr>\n",
              "      <th>4</th>\n",
              "      <td>5067</td>\n",
              "      <td>Rake</td>\n",
              "    </tr>\n",
              "    <tr>\n",
              "      <th>5</th>\n",
              "      <td>7332</td>\n",
              "      <td>Union Leader</td>\n",
              "    </tr>\n",
              "    <tr>\n",
              "      <th>6</th>\n",
              "      <td>1553</td>\n",
              "      <td>Curtiz</td>\n",
              "    </tr>\n",
              "    <tr>\n",
              "      <th>7</th>\n",
              "      <td>7575</td>\n",
              "      <td>Whisky</td>\n",
              "    </tr>\n",
              "    <tr>\n",
              "      <th>8</th>\n",
              "      <td>2582</td>\n",
              "      <td>Hamburger Hill</td>\n",
              "    </tr>\n",
              "    <tr>\n",
              "      <th>9</th>\n",
              "      <td>3110</td>\n",
              "      <td>Jalpari: The Desert Mermaid</td>\n",
              "    </tr>\n",
              "  </tbody>\n",
              "</table>\n",
              "</div>\n",
              "      <button class=\"colab-df-convert\" onclick=\"convertToInteractive('df-36c7ff1a-13f3-4e4c-9dad-7044ad774c8f')\"\n",
              "              title=\"Convert this dataframe to an interactive table.\"\n",
              "              style=\"display:none;\">\n",
              "        \n",
              "  <svg xmlns=\"http://www.w3.org/2000/svg\" height=\"24px\"viewBox=\"0 0 24 24\"\n",
              "       width=\"24px\">\n",
              "    <path d=\"M0 0h24v24H0V0z\" fill=\"none\"/>\n",
              "    <path d=\"M18.56 5.44l.94 2.06.94-2.06 2.06-.94-2.06-.94-.94-2.06-.94 2.06-2.06.94zm-11 1L8.5 8.5l.94-2.06 2.06-.94-2.06-.94L8.5 2.5l-.94 2.06-2.06.94zm10 10l.94 2.06.94-2.06 2.06-.94-2.06-.94-.94-2.06-.94 2.06-2.06.94z\"/><path d=\"M17.41 7.96l-1.37-1.37c-.4-.4-.92-.59-1.43-.59-.52 0-1.04.2-1.43.59L10.3 9.45l-7.72 7.72c-.78.78-.78 2.05 0 2.83L4 21.41c.39.39.9.59 1.41.59.51 0 1.02-.2 1.41-.59l7.78-7.78 2.81-2.81c.8-.78.8-2.07 0-2.86zM5.41 20L4 18.59l7.72-7.72 1.47 1.35L5.41 20z\"/>\n",
              "  </svg>\n",
              "      </button>\n",
              "      \n",
              "  <style>\n",
              "    .colab-df-container {\n",
              "      display:flex;\n",
              "      flex-wrap:wrap;\n",
              "      gap: 12px;\n",
              "    }\n",
              "\n",
              "    .colab-df-convert {\n",
              "      background-color: #E8F0FE;\n",
              "      border: none;\n",
              "      border-radius: 50%;\n",
              "      cursor: pointer;\n",
              "      display: none;\n",
              "      fill: #1967D2;\n",
              "      height: 32px;\n",
              "      padding: 0 0 0 0;\n",
              "      width: 32px;\n",
              "    }\n",
              "\n",
              "    .colab-df-convert:hover {\n",
              "      background-color: #E2EBFA;\n",
              "      box-shadow: 0px 1px 2px rgba(60, 64, 67, 0.3), 0px 1px 3px 1px rgba(60, 64, 67, 0.15);\n",
              "      fill: #174EA6;\n",
              "    }\n",
              "\n",
              "    [theme=dark] .colab-df-convert {\n",
              "      background-color: #3B4455;\n",
              "      fill: #D2E3FC;\n",
              "    }\n",
              "\n",
              "    [theme=dark] .colab-df-convert:hover {\n",
              "      background-color: #434B5C;\n",
              "      box-shadow: 0px 1px 3px 1px rgba(0, 0, 0, 0.15);\n",
              "      filter: drop-shadow(0px 1px 2px rgba(0, 0, 0, 0.3));\n",
              "      fill: #FFFFFF;\n",
              "    }\n",
              "  </style>\n",
              "\n",
              "      <script>\n",
              "        const buttonEl =\n",
              "          document.querySelector('#df-36c7ff1a-13f3-4e4c-9dad-7044ad774c8f button.colab-df-convert');\n",
              "        buttonEl.style.display =\n",
              "          google.colab.kernel.accessAllowed ? 'block' : 'none';\n",
              "\n",
              "        async function convertToInteractive(key) {\n",
              "          const element = document.querySelector('#df-36c7ff1a-13f3-4e4c-9dad-7044ad774c8f');\n",
              "          const dataTable =\n",
              "            await google.colab.kernel.invokeFunction('convertToInteractive',\n",
              "                                                     [key], {});\n",
              "          if (!dataTable) return;\n",
              "\n",
              "          const docLinkHtml = 'Like what you see? Visit the ' +\n",
              "            '<a target=\"_blank\" href=https://colab.research.google.com/notebooks/data_table.ipynb>data table notebook</a>'\n",
              "            + ' to learn more about interactive tables.';\n",
              "          element.innerHTML = '';\n",
              "          dataTable['output_type'] = 'display_data';\n",
              "          await google.colab.output.renderOutput(dataTable, element);\n",
              "          const docLink = document.createElement('div');\n",
              "          docLink.innerHTML = docLinkHtml;\n",
              "          element.appendChild(docLink);\n",
              "        }\n",
              "      </script>\n",
              "    </div>\n",
              "  </div>\n",
              "  "
            ]
          },
          "metadata": {},
          "execution_count": 148
        }
      ],
      "source": [
        "recommend_similar('My Stupid Boss 2')"
      ]
    },
    {
      "cell_type": "markdown",
      "metadata": {
        "id": "l_A3tABcumrl"
      },
      "source": [
        "# **Summary and Conclusion**\n",
        "### I have clustered Netflix Moves and TV Shows on the basis of Genre and Description.\n",
        "### For clustering, first of all punctuation marks have been removed by using 'NLTK' library in text format, then by converting the format to lower case, stop words have been removed. I used porter stemming to get the base format in words.\n",
        "###Through TFIDF Vectorization, I created a total of 10000 attributes.\n",
        "### I used Principal Component Analysis (PCA) to handle the curse of dimensionality. 3000 components were able to capture more than 88% of variance, and hence, the number of components were restricted to 3000.\n",
        "### To find K, the silhouette scores and elbow method are used. 16 clusters have scored the highest according to silhouette scores\n",
        "### Clusters are created using the K-Means clustering algorithm, and the optimal number of clusters is 16.\n",
        "### Final cluster visualization done using plotly library.\n",
        "### A content based recommender system was built using the similarity matrix obtained after using cosine similarity. This recommender system will make 10 recommendations to the user based on the type of show they watched."
      ]
    }
  ],
  "metadata": {
    "colab": {
      "provenance": [],
      "authorship_tag": "ABX9TyOFuHx7gK57MzbJICkd6o4D",
      "include_colab_link": true
    },
    "kernelspec": {
      "display_name": "Python 3",
      "name": "python3"
    },
    "language_info": {
      "name": "python"
    }
  },
  "nbformat": 4,
  "nbformat_minor": 0
}
